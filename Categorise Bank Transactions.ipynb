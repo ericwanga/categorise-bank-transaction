{
 "cells": [
  {
   "cell_type": "markdown",
   "id": "061998c7",
   "metadata": {},
   "source": [
    "# Categorise Bank Transactions\n",
    "\n",
    "# Introduction\n",
    "\n",
    "This bank transactions dataset consists of 2 accounts' 894 transaction record across 3-month period for each account, where the first accountId had 499 transaction records and the second accoundId had 395 records. Each transaction record consists of 4 features with no target class labels:\n",
    "\n",
    "| Feature | Data type | Value |\n",
    "|----|--|--|\n",
    "| Transaction record posted datetime | datetime | yyyy-mm-dd 00:00:00, e.g 2021-09-29 00:00:00 |\n",
    "| TransactionStatus | text | \"DEBIT\" and \"CREDIT\" |\n",
    "| TransactionDescription | text | short description, including receipt, business, datetime, card or other information |\n",
    "| TransactionAmount | float | positive and negative float values, e.g 15.9, -300 |\n",
    "\n",
    "The aim of this analysis is to classify each transaction record to one of the following 5 categories:\n",
    "- Salary\n",
    "- Restaurant (Eating out)\n",
    "- Cafe\n",
    "- Transfer\n",
    "- Grocery\n",
    "\n"
   ]
  },
  {
   "cell_type": "markdown",
   "id": "e0d0566b",
   "metadata": {},
   "source": [
    "Adopted approaches and high level workflow of this work are shown below:\n",
    "\n",
    "![solution](https://github.com/ericwanga/categorise-bank-transaction/blob/main/img/solution.jpg?raw=true)\n",
    "\n",
    "1. Preprocess and clean raw data and text documents\n",
    "2. Based on full records, unsupervised learning methods\n",
    " - Hierarchical clustering\n",
    " - KMeans clustering\n",
    " - Document vector to Label vector cosine similarity model\n",
    "3. Based on business understanding, preliminarily assign labels to dataset where we are sure about, which will cover 59% of all transaction records\n",
    "4. Based on the 59% labelled data, semi-supervised methods to build below classifiers, and use them to predict unknown 41% records\n",
    " - machine learning model, Random Forest, on TF-IDF vectors and document vectors respectively\n",
    " - RNN model, Bidirectional LSTM, on embedded vectors\n",
    " - Transformer Encoder model, on embedded vectors"
   ]
  },
  {
   "cell_type": "markdown",
   "id": "f4ab86c6",
   "metadata": {},
   "source": [
    "# Load and setup"
   ]
  },
  {
   "cell_type": "code",
   "execution_count": 1,
   "id": "23016af3",
   "metadata": {},
   "outputs": [],
   "source": [
    "# load\n",
    "# essentials\n",
    "import datetime\n",
    "from time import time\n",
    "#from datetime import date\n",
    "import json\n",
    "import re\n",
    "import string\n",
    "import pandas as pd\n",
    "import numpy as np\n",
    "import matplotlib.pyplot as plt\n",
    "import matplotlib.cm as cm #colormap for plotting silhouettte\n",
    "import seaborn as sns\n",
    "\n",
    "# for clustering\n",
    "import scipy.cluster.hierarchy as sch\n",
    "# for Elbow method to find optimal num of cluster\n",
    "from yellowbrick.cluster import KElbowVisualizer # failed to luanch after a recent Windows update, finding solution\n",
    "\n",
    "# for ML model & metrics\n",
    "from sklearn.preprocessing import RobustScaler, label_binarize, LabelBinarizer # for scaling and label encoding\n",
    "from sklearn.decomposition import PCA, TruncatedSVD\n",
    "from sklearn.feature_selection import VarianceThreshold # for variance filtering of features\n",
    "from sklearn.feature_extraction.text import TfidfVectorizer as TFIDF\n",
    "from sklearn.cluster import KMeans\n",
    "from sklearn.metrics import silhouette_samples, silhouette_score, f1_score\n",
    "from sklearn.metrics import confusion_matrix,classification_report\n",
    "from sklearn.metrics import accuracy_score,cohen_kappa_score\n",
    "from sklearn.metrics import roc_auc_score,roc_curve\n",
    "from sklearn.metrics import precision_recall_curve,auc\n",
    "from sklearn.metrics import recall_score,precision_score\n",
    "from sklearn.model_selection import train_test_split\n",
    "from sklearn.ensemble import RandomForestClassifier\n",
    "\n",
    "# for DL model & metric\n",
    "from keras.preprocessing.text import Tokenizer\n",
    "from keras.preprocessing.sequence import pad_sequences\n",
    "from keras.layers import Dense, Embedding, LSTM, Bidirectional\n",
    "from keras.models import Sequential\n",
    "import tensorflow as tf\n",
    "from tensorflow import keras\n",
    "from tensorflow.keras import models, layers\n",
    "from tensorflow.keras.optimizers import SGD, Adam, RMSprop\n",
    "import tensorflow_addons as tfa # cohen_kappa is in tf addons\n",
    "\n",
    "# for text processing, lda model, and vector similarity model\n",
    "import nltk\n",
    "from nltk import word_tokenize\n",
    "from nltk.corpus import stopwords\n",
    "from nltk.stem import PorterStemmer\n",
    "import gensim\n",
    "from gensim.utils import simple_preprocess\n",
    "from gensim.parsing.preprocessing import strip_tags\n",
    "from gensim.models import doc2vec, ldamodel\n",
    "import gensim.downloader as gensim_api\n",
    "from lbl2vec import Lbl2Vec"
   ]
  },
  {
   "cell_type": "code",
   "execution_count": 2,
   "id": "f1999aaf",
   "metadata": {},
   "outputs": [],
   "source": [
    "# setup\n",
    "pd.set_option('display.max_colwidth', 100)\n",
    "# instantiate scaler\n",
    "rscaler = RobustScaler()\n",
    "# prepare a storage for results\n",
    "storage = {}"
   ]
  },
  {
   "cell_type": "markdown",
   "id": "6723a7c3",
   "metadata": {},
   "source": [
    "# Utilities"
   ]
  },
  {
   "cell_type": "code",
   "execution_count": 3,
   "id": "511fc5c9",
   "metadata": {
    "code_folding": []
   },
   "outputs": [],
   "source": [
    "# utilities\n",
    "\n",
    "# define text cleaning to remove numbers, in-string datetime (after feature extraction), and other cleaning\n",
    "def util_initialclean(text):\n",
    "    text = text.replace(r'*', ' ')\n",
    "    text = text.replace(r'- ', '')\n",
    "    text = text.replace(r',', '')\n",
    "    text = text.replace(r'.com', '')\n",
    "    text = re.sub('receipt (.{6})', '', text)\n",
    "    text = re.sub('date (.{8})', '', text)\n",
    "    text = re.sub('card (.{4})', '', text)\n",
    "    text = re.sub(r'www\\S+', '', text)\n",
    "    text = re.sub(r'http\\S+', '', text)\n",
    "    text = re.sub('\\S*\\d\\S*','', text) # remove numbers\n",
    "    text = text.replace(r'/', ' ')\n",
    "    text = text.casefold()\n",
    "    return text\n",
    "\n",
    "\n",
    "# preprocess to word tokens, with stopwords, stemming, lemmatization options\n",
    "def util_preprocess_to_list(text, rm_stopwords=True, stem=False, lemm=False):\n",
    "    # define\n",
    "    ps = PorterStemmer()\n",
    "    lem = nltk.stem.wordnet.WordNetLemmatizer()\n",
    "    stop_words = stopwords.words('english')\n",
    "    \n",
    "    text = text.strip()\n",
    "    \n",
    "    # remove punctuation\n",
    "    text = ''.join([word.lower() for word in text if word not in string.punctuation])\n",
    "    tokens = word_tokenize(text)\n",
    "    #tokens = re.split('\\W+', text) # alternative\n",
    "    \n",
    "    #stems = [ps.stem(w) for w in text.split(' ')]\n",
    "    if rm_stopwords == True:\n",
    "        tokens = [word for word in tokens if word not in stop_words]\n",
    "    if stem == True:\n",
    "        #text = [word for word in stems if word not in stop_words]\n",
    "        tokens = [ps.stem(word) for word in tokens]\n",
    "    if lemm == True:\n",
    "        tokens = [lem.lemmatize(word) for word in tokens]\n",
    "    \n",
    "    return tokens # return a list of words, not sentence\n",
    "\n",
    "\n",
    "# preprocess text to document, and provide stopwords removal, stemming, and lemmatization options\n",
    "def util_preprocess_to_sentence(text, rm_stopwords=True, stem=False, lemm=False):\n",
    "    # define\n",
    "    ps = PorterStemmer()\n",
    "    lem = nltk.stem.wordnet.WordNetLemmatizer()\n",
    "    stop_words = stopwords.words('english')\n",
    "\n",
    "   # text = re.sub(r'[^\\w\\s]', '', str(text).lower().strip())\n",
    "    lst_text = text.split()\n",
    "    \n",
    "    if stopwords == True:\n",
    "        lst_text = [word for word in lst_text if word not in stop_words]\n",
    "    if stem == True:\n",
    "        lst_text = [ps.stem(word) for word in lst_text]\n",
    "    if lemm == True:\n",
    "        lst_text = [lem.lemmatize(word) for word in lst_text]\n",
    "    \n",
    "    # to sentence\n",
    "    text = ' '.join(lst_text)\n",
    "    \n",
    "    return text # return a complete sentence, not in list\n",
    "    #return lst_text\n",
    "\n",
    "    \n",
    "# silouhette plot for kmeans clusters\n",
    "def plot_silhouette_for_kmeans_clusters(X, cluster):\n",
    "    fig, ax = plt.subplots()\n",
    "    ax.set_xlim([-0.1, 1])\n",
    "    ax.set_ylim([0, X.shape[0] + (n_clusters + 1) * 10])\n",
    "    #clusterer = KMeans(n_clusters=n_clusters, random_state=10).fit(X)\n",
    "    cluster_labels = clusterer.labels_\n",
    "    silhouette_avg = silhouette_score(X, cluster_labels)\n",
    "    print(\"For n_clusters =\", n_clusters,\n",
    "          \"The average silhouette_score is :\", silhouette_avg)\n",
    "\n",
    "    sample_silhouette_values = silhouette_samples(X, cluster_labels)\n",
    "\n",
    "    y_lower = 10\n",
    "    for i in range(n_clusters):\n",
    "        ith_cluster_silhouette_values = sample_silhouette_values[cluster_labels == i]\n",
    "        ith_cluster_silhouette_values.sort()\n",
    "        size_cluster_i = ith_cluster_silhouette_values.shape[0]\n",
    "        y_upper = y_lower + size_cluster_i\n",
    "        color = cm.nipy_spectral(float(i)/n_clusters)\n",
    "\n",
    "        ax.fill_betweenx(np.arange(y_lower, y_upper)\n",
    "                          ,ith_cluster_silhouette_values\n",
    "                          ,facecolor=color\n",
    "                          ,alpha=0.7)\n",
    "\n",
    "        ax.text(-0.05, y_lower + 0.5 * size_cluster_i, str(i))\n",
    "\n",
    "        y_lower = y_upper + 10\n",
    "\n",
    "    ax.set_title(\"The silhouette plot for the various clusters.\")\n",
    "    ax.set_xlabel(\"The silhouette coefficient values\")\n",
    "    ax.set_ylabel(\"Cluster label\")\n",
    "\n",
    "    ax.axvline(x=silhouette_avg, color=\"red\", linestyle=\"--\")\n",
    "    ax.set_yticks([])\n",
    "    ax.set_xticks([-0.1, 0, 0.2, 0.4, 0.6, 0.8, 1])\n",
    "\n",
    "    plt.suptitle((\"Silhouette analysis for KMeans clustering on sample data\"\n",
    "                  \"with n_clusters = %d\" % n_clusters),\n",
    "                 fontsize=12, fontweight='bold')\n",
    "    plt.show()\n",
    "    \n",
    "    \n",
    "# simple tokenizer\n",
    "def tokenize(doc):\n",
    "    return simple_preprocess(strip_tags(doc), deacc=True, min_len=2, max_len=15)\n",
    "\n",
    "\n",
    "# find datetime info from string\n",
    "def find_dates(dt):\n",
    "    result = re.findall(r'\\d{2}/\\d{2}/\\d{2}', dt)\n",
    "    return result\n",
    "\n",
    "\n",
    "# remove multiple items from a list if exists for keywords enrichment\n",
    "def remove_values_from_list(list_obj, values):\n",
    "    for value in values:\n",
    "        while value in list_obj:\n",
    "            list_obj.remove(value)\n",
    "            \n",
    "            \n",
    "# plot roc curve for multiclass classification\n",
    "def plot_roc_for_multiclass_classification(model,xt,yt):\n",
    "    '''\n",
    "    Reference\n",
    "    sklearn page: https://scikit-learn.org/stable/auto_examples/model_selection/plot_roc.html\n",
    "    '''\n",
    "    from itertools import cycle\n",
    "\n",
    "    y_score = model.predict_proba(xt)\n",
    "    y_test_bin = label_binarize(yt, classes=['cafe','groceries', 'restaurant', 'salary','transfer'])\n",
    "    n_classes = y_test_bin.shape[1]\n",
    "\n",
    "    # # Compute ROC curve and ROC area for each class\n",
    "    fpr = dict()\n",
    "    tpr = dict()\n",
    "    roc_auc = dict()\n",
    "    for i in range(n_classes):\n",
    "        fpr[i], tpr[i], _ = roc_curve(y_test_bin[:,i], y_score[:, i])\n",
    "        roc_auc[i] = auc(fpr[i], tpr[i])\n",
    "\n",
    "    # Compute micro-average ROC curve and ROC area\n",
    "    fpr[\"micro\"], tpr[\"micro\"], _ = roc_curve(y_test_bin.ravel(), y_score.ravel())\n",
    "    roc_auc[\"micro\"] = auc(fpr[\"micro\"], tpr[\"micro\"])\n",
    "\n",
    "    # First aggregate all false positive rates\n",
    "    all_fpr = np.unique(np.concatenate([fpr[i] for i in range(n_classes)]))\n",
    "\n",
    "    # Then interpolate all ROC curves at this points\n",
    "    mean_tpr = np.zeros_like(all_fpr)\n",
    "    for i in range(n_classes):\n",
    "        mean_tpr += np.interp(all_fpr, fpr[i], tpr[i])\n",
    "\n",
    "    # Finally average it and compute AUC\n",
    "    mean_tpr /= n_classes\n",
    "\n",
    "    fpr[\"macro\"] = all_fpr\n",
    "    tpr[\"macro\"] = mean_tpr\n",
    "    roc_auc[\"macro\"] = auc(fpr[\"macro\"], tpr[\"macro\"])\n",
    "\n",
    "    # Plot all ROC curves\n",
    "    plt.figure(figsize=(10,6))\n",
    "    lw = 2\n",
    "    plt.plot(\n",
    "        fpr[\"micro\"], tpr[\"micro\"], label=\"micro-average ROC curve (area = {0:0.5f})\".format(roc_auc[\"micro\"]),\n",
    "        color=\"deeppink\", linestyle=\":\", linewidth=4,\n",
    "    )\n",
    "    plt.plot(\n",
    "        fpr[\"macro\"], tpr[\"macro\"], label=\"macro-average ROC curve (area = {0:0.5f})\".format(roc_auc[\"macro\"]),\n",
    "        color=\"navy\", linestyle=\":\", linewidth=4,\n",
    "    )\n",
    "    colors = cycle([\"aqua\", \"darkorange\", \"cornflowerblue\"])\n",
    "    for i, color in zip(range(n_classes), colors):\n",
    "        plt.plot(\n",
    "            fpr[i], tpr[i], color=color, lw=lw,\n",
    "            label=\"ROC curve of class {0} (area = {1:0.5f})\".format(i, roc_auc[i]),\n",
    "        )\n",
    "\n",
    "    plt.plot([0, 1], [0, 1], \"k--\", lw=lw)\n",
    "    plt.xlim([0.0, 1.0])\n",
    "    plt.ylim([0.0, 1.05])\n",
    "    plt.xlabel(\"False Positive Rate\")\n",
    "    plt.ylabel(\"True Positive Rate\")\n",
    "    plt.title(\"Some extension of Receiver operating characteristic to multiclass\")\n",
    "    plt.legend(loc=\"lower right\")\n",
    "    plt.show()\n",
    "    \n",
    "    \n",
    "# plot metrics for RNN & BiLSTM model training\n",
    "def plot_learning_graphs(history, metric):\n",
    "    plt.plot(history.history[metric])\n",
    "    plt.plot(history.history['val_'+metric], '')\n",
    "    plt.xlabel(\"Epochs\", fontsize=10)\n",
    "    plt.ylabel(metric, fontsize=12)\n",
    "    plt.legend([metric, 'val_'+metric], fontsize=12)\n",
    "    \n",
    "    \n",
    "# function for scoring roc auc score for multi-class\n",
    "def multiclass_roc_auc_score(y_test, y_pred,targetlabel, average=\"macro\"):\n",
    "    lb = LabelBinarizer()\n",
    "    lb.fit(y_test)\n",
    "    y_test = lb.transform(y_test)\n",
    "    y_pred = lb.transform(y_pred)\n",
    "    \n",
    "    for (idx, c_label) in enumerate(targetlabel):\n",
    "        fpr, tpr, thresholds = roc_curve(y_test[:,idx], y_pred[:,idx]) # .astype(int)\n",
    "        c_ax.plot(fpr, tpr, label = '%s (AUC:%0.2f)'  % (c_label, auc(fpr, tpr)))\n",
    "    c_ax.plot(fpr, fpr, 'b-', label = 'Random Guessing')\n",
    "    return roc_auc_score(y_test, y_pred, average=average)\n",
    "\n",
    "\n",
    "# define embedding layer for TEncoder\n",
    "class TokenAndPositionEmbedding(layers.Layer):\n",
    "    def __init__(self, maxlen, vocab_size, embed_dim):\n",
    "        super(TokenAndPositionEmbedding, self).__init__()\n",
    "        self.token_emb = layers.Embedding(input_dim=vocab_size, output_dim=embed_dim) # , mask_zero=True\n",
    "        self.pos_emb = layers.Embedding(input_dim=maxlen, output_dim=embed_dim)\n",
    "\n",
    "    def call(self, x):\n",
    "        maxlen = tf.shape(x)[-1]\n",
    "        positions = tf.range(start=0, limit=maxlen, delta=1)\n",
    "        positions = self.pos_emb(positions)\n",
    "        x = self.token_emb(x)\n",
    "        return x + positions\n",
    "    \n",
    "    \n",
    "# define Transformer block as a layer\n",
    "class TransformerBlock(layers.Layer):\n",
    "    def __init__(self, embed_dim, num_heads, ff_dim, rate=0.1):\n",
    "        super(TransformerBlock, self).__init__()\n",
    "        self.att = layers.MultiHeadAttention(num_heads=num_heads, key_dim=embed_dim)\n",
    "        self.ffn = keras.Sequential(\n",
    "            [layers.Dense(ff_dim, activation=\"relu\"), layers.Dense(embed_dim),]\n",
    "        )\n",
    "        self.layernorm1 = layers.LayerNormalization(epsilon=1e-6)\n",
    "        self.layernorm2 = layers.LayerNormalization(epsilon=1e-6)\n",
    "        self.dropout1 = layers.Dropout(rate)\n",
    "        self.dropout2 = layers.Dropout(rate)\n",
    "\n",
    "    def call(self, inputs, training):\n",
    "        attn_output = self.att(inputs, inputs)\n",
    "        attn_output = self.dropout1(attn_output, training=training)\n",
    "        out1 = self.layernorm1(inputs + attn_output)\n",
    "        ffn_output = self.ffn(out1)\n",
    "        ffn_output = self.dropout2(ffn_output, training=training)\n",
    "        return self.layernorm2(out1 + ffn_output)\n",
    "    \n",
    "\n",
    "# get similar words based on pretrained glove-wiki-gigaword-... embeddings, instantiated as nlp\n",
    "def get_similar_words(lst_words, top, nlp):\n",
    "    lst_out = lst_words\n",
    "    for tupla in nlp.most_similar(lst_words, topn=top):\n",
    "        lst_out.append(tupla[0])\n",
    "    return list(set(lst_out))"
   ]
  },
  {
   "cell_type": "code",
   "execution_count": 153,
   "id": "7bf2450b",
   "metadata": {
    "scrolled": true
   },
   "outputs": [],
   "source": [
    "# load data from json file\n",
    "with open('bank_transactions.json', 'r') as f:\n",
    "    data = json.load(f)\n",
    "\n",
    "# pretty print to understand the structure\n",
    "#print(json.dumps(data,indent=2,default=str))"
   ]
  },
  {
   "cell_type": "markdown",
   "id": "d2b8cf42",
   "metadata": {},
   "source": [
    "How many accounts in the dataset?"
   ]
  },
  {
   "cell_type": "code",
   "execution_count": 5,
   "id": "462fac9a",
   "metadata": {},
   "outputs": [
    {
     "name": "stdout",
     "output_type": "stream",
     "text": [
      "2 account(s)\n"
     ]
    },
    {
     "data": {
      "text/html": [
       "<div>\n",
       "<style scoped>\n",
       "    .dataframe tbody tr th:only-of-type {\n",
       "        vertical-align: middle;\n",
       "    }\n",
       "\n",
       "    .dataframe tbody tr th {\n",
       "        vertical-align: top;\n",
       "    }\n",
       "\n",
       "    .dataframe thead th {\n",
       "        text-align: right;\n",
       "    }\n",
       "</style>\n",
       "<table border=\"1\" class=\"dataframe\">\n",
       "  <thead>\n",
       "    <tr style=\"text-align: right;\">\n",
       "      <th></th>\n",
       "      <th>AccountId</th>\n",
       "      <th>FinancialInstitution</th>\n",
       "      <th>AccountNumber</th>\n",
       "      <th>AccountType</th>\n",
       "      <th>AccountName</th>\n",
       "      <th>AccountBsb</th>\n",
       "      <th>AccountHolderName</th>\n",
       "      <th>StatementFromDate</th>\n",
       "      <th>StatementToDate</th>\n",
       "      <th>OutstandingBalance</th>\n",
       "      <th>CurrentBalance</th>\n",
       "      <th>AvailableBalance</th>\n",
       "      <th>CreditLimit</th>\n",
       "      <th>Transactions</th>\n",
       "    </tr>\n",
       "  </thead>\n",
       "  <tbody>\n",
       "    <tr>\n",
       "      <th>0</th>\n",
       "      <td>773edf8c-e78f-11ec-bd51-1a25830e1bc2</td>\n",
       "      <td>ING</td>\n",
       "      <td>555555555</td>\n",
       "      <td>TRANSACTION</td>\n",
       "      <td>Orange Everyday</td>\n",
       "      <td>100 100</td>\n",
       "      <td>Sample Account Holder 1</td>\n",
       "      <td>2021-10-01 00:00:00</td>\n",
       "      <td>2021-12-31 00:00:00</td>\n",
       "      <td>None</td>\n",
       "      <td>238.14</td>\n",
       "      <td>238.14</td>\n",
       "      <td>None</td>\n",
       "      <td>[{'TransactionPostedOn': '2021-10-01 00:00:00', 'TransactionStatus': 'DEBIT', 'TransactionDescri...</td>\n",
       "    </tr>\n",
       "    <tr>\n",
       "      <th>1</th>\n",
       "      <td>66b4e99a-e78f-11ec-bd51-1a25830e1bc2</td>\n",
       "      <td>ING</td>\n",
       "      <td>33333333</td>\n",
       "      <td>TRANSACTION</td>\n",
       "      <td>Orange Everyday</td>\n",
       "      <td>100 100</td>\n",
       "      <td>Account Holder Sample 2</td>\n",
       "      <td>2022-01-01 00:00:00</td>\n",
       "      <td>2022-03-31 00:00:00</td>\n",
       "      <td>None</td>\n",
       "      <td>195.25</td>\n",
       "      <td>195.25</td>\n",
       "      <td>None</td>\n",
       "      <td>[{'TransactionPostedOn': '2022-01-01 00:00:00', 'TransactionStatus': 'CREDIT', 'TransactionDescr...</td>\n",
       "    </tr>\n",
       "  </tbody>\n",
       "</table>\n",
       "</div>"
      ],
      "text/plain": [
       "                              AccountId FinancialInstitution AccountNumber  \\\n",
       "0  773edf8c-e78f-11ec-bd51-1a25830e1bc2                  ING     555555555   \n",
       "1  66b4e99a-e78f-11ec-bd51-1a25830e1bc2                  ING      33333333   \n",
       "\n",
       "   AccountType      AccountName AccountBsb        AccountHolderName  \\\n",
       "0  TRANSACTION  Orange Everyday    100 100  Sample Account Holder 1   \n",
       "1  TRANSACTION  Orange Everyday    100 100  Account Holder Sample 2   \n",
       "\n",
       "     StatementFromDate      StatementToDate OutstandingBalance  \\\n",
       "0  2021-10-01 00:00:00  2021-12-31 00:00:00               None   \n",
       "1  2022-01-01 00:00:00  2022-03-31 00:00:00               None   \n",
       "\n",
       "   CurrentBalance  AvailableBalance CreditLimit  \\\n",
       "0          238.14            238.14        None   \n",
       "1          195.25            195.25        None   \n",
       "\n",
       "                                                                                          Transactions  \n",
       "0  [{'TransactionPostedOn': '2021-10-01 00:00:00', 'TransactionStatus': 'DEBIT', 'TransactionDescri...  \n",
       "1  [{'TransactionPostedOn': '2022-01-01 00:00:00', 'TransactionStatus': 'CREDIT', 'TransactionDescr...  "
      ]
     },
     "execution_count": 5,
     "metadata": {},
     "output_type": "execute_result"
    }
   ],
   "source": [
    "print('{} account(s)'.format(len(data['Accounts'])))\n",
    "# convert to dataframe for easy observation\n",
    "pd.DataFrame.from_dict(data['Accounts'])"
   ]
  },
  {
   "cell_type": "markdown",
   "id": "86463c60",
   "metadata": {},
   "source": [
    "- 2 accounts in this dataset\n",
    "\n",
    "How many transactions for each account? What's in a transaction record?"
   ]
  },
  {
   "cell_type": "code",
   "execution_count": 6,
   "id": "19989115",
   "metadata": {},
   "outputs": [
    {
     "name": "stdout",
     "output_type": "stream",
     "text": [
      "499 transactions\n",
      "Strucutre:\n",
      " dict_keys(['TransactionPostedOn', 'TransactionStatus', 'TransactionDescription', 'TransactionAmount'])\n",
      "395 transactions\n",
      "Strucutre:\n",
      " dict_keys(['TransactionPostedOn', 'TransactionStatus', 'TransactionDescription', 'TransactionAmount'])\n"
     ]
    }
   ],
   "source": [
    "for x in data['Accounts']:\n",
    "    print('{} transactions'.format(len(x['Transactions'])))\n",
    "    for y in x['Transactions']:\n",
    "        print('Strucutre:\\n', y.keys())\n",
    "        break"
   ]
  },
  {
   "cell_type": "markdown",
   "id": "72ff43a1",
   "metadata": {},
   "source": [
    "- 894 transactions in total\n",
    "- 4 features per `Transactions` record"
   ]
  },
  {
   "cell_type": "markdown",
   "id": "4e03e59d",
   "metadata": {},
   "source": [
    "# Preprocess data\n",
    "\n",
    "## Refactor\n",
    "\n",
    "Refactor `Transactions` to dataframe with keys as columns, plus the `AccountId` as identifier"
   ]
  },
  {
   "cell_type": "code",
   "execution_count": 7,
   "id": "7266c72e",
   "metadata": {},
   "outputs": [
    {
     "name": "stdout",
     "output_type": "stream",
     "text": [
      "Shape: (894, 5)\n"
     ]
    },
    {
     "data": {
      "text/html": [
       "<div>\n",
       "<style scoped>\n",
       "    .dataframe tbody tr th:only-of-type {\n",
       "        vertical-align: middle;\n",
       "    }\n",
       "\n",
       "    .dataframe tbody tr th {\n",
       "        vertical-align: top;\n",
       "    }\n",
       "\n",
       "    .dataframe thead th {\n",
       "        text-align: right;\n",
       "    }\n",
       "</style>\n",
       "<table border=\"1\" class=\"dataframe\">\n",
       "  <thead>\n",
       "    <tr style=\"text-align: right;\">\n",
       "      <th></th>\n",
       "      <th>AccountId</th>\n",
       "      <th>TransactionPostedOn</th>\n",
       "      <th>TransactionStatus</th>\n",
       "      <th>TransactionDescription</th>\n",
       "      <th>TransactionAmount</th>\n",
       "    </tr>\n",
       "  </thead>\n",
       "  <tbody>\n",
       "    <tr>\n",
       "      <th>0</th>\n",
       "      <td>773edf8c-e78f-11ec-bd51-1a25830e1bc2</td>\n",
       "      <td>2021-10-01</td>\n",
       "      <td>debit</td>\n",
       "      <td>visa purchase - receipt 164427 sfs nrah sushi sushi adelaide date 29/09/21 card 8322</td>\n",
       "      <td>-6.50</td>\n",
       "    </tr>\n",
       "    <tr>\n",
       "      <th>1</th>\n",
       "      <td>773edf8c-e78f-11ec-bd51-1a25830e1bc2</td>\n",
       "      <td>2021-10-01</td>\n",
       "      <td>debit</td>\n",
       "      <td>visa purchase - receipt 164428 viet hoa restaurant woodville ga date 29/09/21 card 3689</td>\n",
       "      <td>-46.00</td>\n",
       "    </tr>\n",
       "    <tr>\n",
       "      <th>2</th>\n",
       "      <td>773edf8c-e78f-11ec-bd51-1a25830e1bc2</td>\n",
       "      <td>2021-10-01</td>\n",
       "      <td>debit</td>\n",
       "      <td>visa purchase - receipt 164429 costco wholesale aus kilburn date 29/09/21 card 3689</td>\n",
       "      <td>-875.88</td>\n",
       "    </tr>\n",
       "    <tr>\n",
       "      <th>3</th>\n",
       "      <td>773edf8c-e78f-11ec-bd51-1a25830e1bc2</td>\n",
       "      <td>2021-10-01</td>\n",
       "      <td>debit</td>\n",
       "      <td>visa purchase - receipt 164430 frewville cafe baker frewville date 29/09/21 card 3689</td>\n",
       "      <td>-16.00</td>\n",
       "    </tr>\n",
       "    <tr>\n",
       "      <th>4</th>\n",
       "      <td>773edf8c-e78f-11ec-bd51-1a25830e1bc2</td>\n",
       "      <td>2021-10-01</td>\n",
       "      <td>debit</td>\n",
       "      <td>visa purchase - receipt 164431 dbs*linden park primar linden park date 30/09/21 card 8322</td>\n",
       "      <td>-52.62</td>\n",
       "    </tr>\n",
       "  </tbody>\n",
       "</table>\n",
       "</div>"
      ],
      "text/plain": [
       "                              AccountId TransactionPostedOn TransactionStatus  \\\n",
       "0  773edf8c-e78f-11ec-bd51-1a25830e1bc2          2021-10-01             debit   \n",
       "1  773edf8c-e78f-11ec-bd51-1a25830e1bc2          2021-10-01             debit   \n",
       "2  773edf8c-e78f-11ec-bd51-1a25830e1bc2          2021-10-01             debit   \n",
       "3  773edf8c-e78f-11ec-bd51-1a25830e1bc2          2021-10-01             debit   \n",
       "4  773edf8c-e78f-11ec-bd51-1a25830e1bc2          2021-10-01             debit   \n",
       "\n",
       "                                                                      TransactionDescription  \\\n",
       "0       visa purchase - receipt 164427 sfs nrah sushi sushi adelaide date 29/09/21 card 8322   \n",
       "1    visa purchase - receipt 164428 viet hoa restaurant woodville ga date 29/09/21 card 3689   \n",
       "2        visa purchase - receipt 164429 costco wholesale aus kilburn date 29/09/21 card 3689   \n",
       "3      visa purchase - receipt 164430 frewville cafe baker frewville date 29/09/21 card 3689   \n",
       "4  visa purchase - receipt 164431 dbs*linden park primar linden park date 30/09/21 card 8322   \n",
       "\n",
       "   TransactionAmount  \n",
       "0              -6.50  \n",
       "1             -46.00  \n",
       "2            -875.88  \n",
       "3             -16.00  \n",
       "4             -52.62  "
      ]
     },
     "execution_count": 7,
     "metadata": {},
     "output_type": "execute_result"
    }
   ],
   "source": [
    "# create transaction dataframe for each account and append together\n",
    "df = pd.DataFrame()\n",
    "for x in data['Accounts']:\n",
    "    tmp = pd.DataFrame.from_dict(x['Transactions'])\n",
    "    tmp.insert(0, 'AccountId', x['AccountId'])\n",
    "    df = df.append(tmp)\n",
    "df['TransactionPostedOn'] = df['TransactionPostedOn'].astype('datetime64[ns]') # set type\n",
    "df['TransactionStatus'] = df['TransactionStatus'].str.casefold() # to lower case\n",
    "df['TransactionDescription'] = df['TransactionDescription'].str.casefold() # to lower case\n",
    "df = df.reset_index(drop=True) # reset index\n",
    "\n",
    "print('Shape: {}'.format(df.shape))\n",
    "df.head()"
   ]
  },
  {
   "cell_type": "markdown",
   "id": "66373cc0",
   "metadata": {},
   "source": [
    "Check duplicates"
   ]
  },
  {
   "cell_type": "code",
   "execution_count": 8,
   "id": "5a9ce1ca",
   "metadata": {},
   "outputs": [
    {
     "name": "stdout",
     "output_type": "stream",
     "text": [
      "1 duplicate(s)\n"
     ]
    },
    {
     "data": {
      "text/html": [
       "<div>\n",
       "<style scoped>\n",
       "    .dataframe tbody tr th:only-of-type {\n",
       "        vertical-align: middle;\n",
       "    }\n",
       "\n",
       "    .dataframe tbody tr th {\n",
       "        vertical-align: top;\n",
       "    }\n",
       "\n",
       "    .dataframe thead th {\n",
       "        text-align: right;\n",
       "    }\n",
       "</style>\n",
       "<table border=\"1\" class=\"dataframe\">\n",
       "  <thead>\n",
       "    <tr style=\"text-align: right;\">\n",
       "      <th></th>\n",
       "      <th>AccountId</th>\n",
       "      <th>TransactionPostedOn</th>\n",
       "      <th>TransactionStatus</th>\n",
       "      <th>TransactionDescription</th>\n",
       "      <th>TransactionAmount</th>\n",
       "    </tr>\n",
       "  </thead>\n",
       "  <tbody>\n",
       "    <tr>\n",
       "      <th>559</th>\n",
       "      <td>66b4e99a-e78f-11ec-bd51-1a25830e1bc2</td>\n",
       "      <td>2022-01-17</td>\n",
       "      <td>credit</td>\n",
       "      <td>transfer from kippax pty ltd - receipt 49684449</td>\n",
       "      <td>986.32</td>\n",
       "    </tr>\n",
       "    <tr>\n",
       "      <th>583</th>\n",
       "      <td>66b4e99a-e78f-11ec-bd51-1a25830e1bc2</td>\n",
       "      <td>2022-01-17</td>\n",
       "      <td>credit</td>\n",
       "      <td>transfer from kippax pty ltd - receipt 49684449</td>\n",
       "      <td>986.32</td>\n",
       "    </tr>\n",
       "  </tbody>\n",
       "</table>\n",
       "</div>"
      ],
      "text/plain": [
       "                                AccountId TransactionPostedOn  \\\n",
       "559  66b4e99a-e78f-11ec-bd51-1a25830e1bc2          2022-01-17   \n",
       "583  66b4e99a-e78f-11ec-bd51-1a25830e1bc2          2022-01-17   \n",
       "\n",
       "    TransactionStatus                           TransactionDescription  \\\n",
       "559            credit  transfer from kippax pty ltd - receipt 49684449   \n",
       "583            credit  transfer from kippax pty ltd - receipt 49684449   \n",
       "\n",
       "     TransactionAmount  \n",
       "559             986.32  \n",
       "583             986.32  "
      ]
     },
     "execution_count": 8,
     "metadata": {},
     "output_type": "execute_result"
    }
   ],
   "source": [
    "# check duplicates\n",
    "print('{} duplicate(s)'.format(df.duplicated().sum()))\n",
    "df[df.duplicated(keep=False)]"
   ]
  },
  {
   "cell_type": "code",
   "execution_count": 9,
   "id": "3b18159d",
   "metadata": {},
   "outputs": [],
   "source": [
    "# drop duplicate\n",
    "df.drop_duplicates(inplace=True)"
   ]
  },
  {
   "cell_type": "markdown",
   "id": "26ad9c03",
   "metadata": {},
   "source": [
    "Duplicate removed.\n",
    "\n",
    "Check NA"
   ]
  },
  {
   "cell_type": "code",
   "execution_count": 10,
   "id": "d23cf9c8",
   "metadata": {
    "scrolled": true
   },
   "outputs": [
    {
     "data": {
      "text/plain": [
       "AccountId                 0\n",
       "TransactionPostedOn       0\n",
       "TransactionStatus         0\n",
       "TransactionDescription    0\n",
       "TransactionAmount         0\n",
       "dtype: int64"
      ]
     },
     "execution_count": 10,
     "metadata": {},
     "output_type": "execute_result"
    }
   ],
   "source": [
    "# check NA\n",
    "df.isna().sum()"
   ]
  },
  {
   "cell_type": "markdown",
   "id": "4250b142",
   "metadata": {},
   "source": [
    "No missing values"
   ]
  },
  {
   "cell_type": "code",
   "execution_count": 11,
   "id": "8574464a",
   "metadata": {},
   "outputs": [
    {
     "data": {
      "text/plain": [
       "(893, 5)"
      ]
     },
     "execution_count": 11,
     "metadata": {},
     "output_type": "execute_result"
    }
   ],
   "source": [
    "df.shape"
   ]
  },
  {
   "cell_type": "markdown",
   "id": "a04f5205",
   "metadata": {},
   "source": [
    "## Explore"
   ]
  },
  {
   "cell_type": "markdown",
   "id": "63893506",
   "metadata": {},
   "source": [
    "Explore 3 features: transaction posted datetime, status, amount."
   ]
  },
  {
   "cell_type": "code",
   "execution_count": 12,
   "id": "6ae73556",
   "metadata": {},
   "outputs": [
    {
     "name": "stdout",
     "output_type": "stream",
     "text": [
      "2022-02-17    15\n",
      "2021-11-24    14\n",
      "2022-03-24    13\n",
      "2021-11-11    13\n",
      "2021-10-01    12\n",
      "              ..\n",
      "2022-01-26     1\n",
      "2021-12-11     1\n",
      "2022-01-16     1\n",
      "2022-03-29     1\n",
      "2021-12-26     1\n",
      "Name: TransactionPostedOn, Length: 176, dtype: int64\n"
     ]
    },
    {
     "data": {
      "image/png": "[encoded data removed]",
      "text/plain": [
       "<Figure size 432x288 with 1 Axes>"
      ]
     },
     "metadata": {
      "needs_background": "light"
     },
     "output_type": "display_data"
    }
   ],
   "source": [
    "# TransactionPostedOn\n",
    "print(df.TransactionPostedOn.value_counts())\n",
    "df.TransactionPostedOn.value_counts().plot(kind='hist')\n",
    "plt.show()"
   ]
  },
  {
   "cell_type": "markdown",
   "id": "a21bf50c",
   "metadata": {},
   "source": [
    "- 1 or multiple transactions per day\n",
    "- datetime info might be repeated across multiple transactions"
   ]
  },
  {
   "cell_type": "markdown",
   "id": "a943f4c3",
   "metadata": {},
   "source": [
    "Explore transaction amount by known labels"
   ]
  },
  {
   "cell_type": "code",
   "execution_count": 13,
   "id": "2fc92646",
   "metadata": {},
   "outputs": [
    {
     "data": {
      "text/html": [
       "<div>\n",
       "<style scoped>\n",
       "    .dataframe tbody tr th:only-of-type {\n",
       "        vertical-align: middle;\n",
       "    }\n",
       "\n",
       "    .dataframe tbody tr th {\n",
       "        vertical-align: top;\n",
       "    }\n",
       "\n",
       "    .dataframe thead th {\n",
       "        text-align: right;\n",
       "    }\n",
       "</style>\n",
       "<table border=\"1\" class=\"dataframe\">\n",
       "  <thead>\n",
       "    <tr style=\"text-align: right;\">\n",
       "      <th></th>\n",
       "      <th>count</th>\n",
       "      <th>mean</th>\n",
       "      <th>std</th>\n",
       "      <th>min</th>\n",
       "      <th>0%</th>\n",
       "      <th>1%</th>\n",
       "      <th>10%</th>\n",
       "      <th>25%</th>\n",
       "      <th>50%</th>\n",
       "      <th>75%</th>\n",
       "      <th>90%</th>\n",
       "      <th>99%</th>\n",
       "      <th>100%</th>\n",
       "      <th>max</th>\n",
       "    </tr>\n",
       "  </thead>\n",
       "  <tbody>\n",
       "    <tr>\n",
       "      <th>TransactionAmount</th>\n",
       "      <td>893.0</td>\n",
       "      <td>25.463953</td>\n",
       "      <td>6356.779192</td>\n",
       "      <td>-130000.0</td>\n",
       "      <td>-130000.0</td>\n",
       "      <td>-1540.0</td>\n",
       "      <td>-147.8</td>\n",
       "      <td>-47.0</td>\n",
       "      <td>-16.4</td>\n",
       "      <td>-3.85</td>\n",
       "      <td>274.8</td>\n",
       "      <td>2001.39</td>\n",
       "      <td>130000.0</td>\n",
       "      <td>130000.0</td>\n",
       "    </tr>\n",
       "  </tbody>\n",
       "</table>\n",
       "</div>"
      ],
      "text/plain": [
       "                   count       mean          std       min        0%      1%  \\\n",
       "TransactionAmount  893.0  25.463953  6356.779192 -130000.0 -130000.0 -1540.0   \n",
       "\n",
       "                     10%   25%   50%   75%    90%      99%      100%       max  \n",
       "TransactionAmount -147.8 -47.0 -16.4 -3.85  274.8  2001.39  130000.0  130000.0  "
      ]
     },
     "execution_count": 13,
     "metadata": {},
     "output_type": "execute_result"
    }
   ],
   "source": [
    "# TransactionAmount\n",
    "df.describe([0,0.01,0.1,0.25,0.5,0.75,0.9,0.99,1]).T"
   ]
  },
  {
   "cell_type": "code",
   "execution_count": 14,
   "id": "81fd3c67",
   "metadata": {
    "scrolled": true
   },
   "outputs": [
    {
     "data": {
      "image/png": "[encoded data removed]",
      "text/plain": [
       "<Figure size 720x360 with 2 Axes>"
      ]
     },
     "metadata": {
      "needs_background": "light"
     },
     "output_type": "display_data"
    }
   ],
   "source": [
    "# TransactionAmount distribution\n",
    "fig, axes = plt.subplots(1,2,figsize=(10,5))\n",
    "plt.subplot(1,2,1)\n",
    "df.TransactionAmount.plot(kind='hist',bins=20)\n",
    "plt.subplot(1,2,2)\n",
    "df.TransactionAmount.plot(kind='box')\n",
    "plt.show()"
   ]
  },
  {
   "cell_type": "markdown",
   "id": "a6c0998b",
   "metadata": {},
   "source": [
    "- wide range of transaction amounts, possibly consists of smaill expenditures of daily expense, and large values of transfer or salary\n",
    "- outliers are actual transactions amounts, no preprocess needed, but consider median values to represent the average"
   ]
  },
  {
   "cell_type": "markdown",
   "id": "0e742817",
   "metadata": {},
   "source": [
    "Explore transaction amount by status"
   ]
  },
  {
   "cell_type": "code",
   "execution_count": 15,
   "id": "37a7c4a3",
   "metadata": {},
   "outputs": [
    {
     "name": "stdout",
     "output_type": "stream",
     "text": [
      "Counts of\n",
      "debit     717\n",
      "credit    176\n",
      "Name: TransactionStatus, dtype: int64\n"
     ]
    },
    {
     "data": {
      "text/html": [
       "<div>\n",
       "<style scoped>\n",
       "    .dataframe tbody tr th:only-of-type {\n",
       "        vertical-align: middle;\n",
       "    }\n",
       "\n",
       "    .dataframe tbody tr th {\n",
       "        vertical-align: top;\n",
       "    }\n",
       "\n",
       "    .dataframe thead tr th {\n",
       "        text-align: left;\n",
       "    }\n",
       "\n",
       "    .dataframe thead tr:last-of-type th {\n",
       "        text-align: right;\n",
       "    }\n",
       "</style>\n",
       "<table border=\"1\" class=\"dataframe\">\n",
       "  <thead>\n",
       "    <tr>\n",
       "      <th></th>\n",
       "      <th colspan=\"2\" halign=\"left\">TransactionAmount</th>\n",
       "    </tr>\n",
       "    <tr>\n",
       "      <th></th>\n",
       "      <th>min</th>\n",
       "      <th>max</th>\n",
       "    </tr>\n",
       "    <tr>\n",
       "      <th>TransactionStatus</th>\n",
       "      <th></th>\n",
       "      <th></th>\n",
       "    </tr>\n",
       "  </thead>\n",
       "  <tbody>\n",
       "    <tr>\n",
       "      <th>credit</th>\n",
       "      <td>0.01</td>\n",
       "      <td>130000.0</td>\n",
       "    </tr>\n",
       "    <tr>\n",
       "      <th>debit</th>\n",
       "      <td>-130000.00</td>\n",
       "      <td>-0.6</td>\n",
       "    </tr>\n",
       "  </tbody>\n",
       "</table>\n",
       "</div>"
      ],
      "text/plain": [
       "                  TransactionAmount          \n",
       "                                min       max\n",
       "TransactionStatus                            \n",
       "credit                         0.01  130000.0\n",
       "debit                    -130000.00      -0.6"
      ]
     },
     "execution_count": 15,
     "metadata": {},
     "output_type": "execute_result"
    }
   ],
   "source": [
    "# how many TransactionStatus by Status?\n",
    "print('Counts of\\n{}'.format(df.TransactionStatus.value_counts()))\n",
    "\n",
    "# what are the ranges of the two TransactionStatus?\n",
    "df.groupby('TransactionStatus').agg({'TransactionAmount': [min,max]})"
   ]
  },
  {
   "cell_type": "markdown",
   "id": "078fe769",
   "metadata": {},
   "source": [
    "Noticed below pattern\n",
    "- all `CREDIT` transactions have positive values, i.e account receiving\n",
    "- all `DEBIT` transactions have negative values, i.e account expending"
   ]
  },
  {
   "cell_type": "code",
   "execution_count": 16,
   "id": "8f702f3c",
   "metadata": {
    "scrolled": true
   },
   "outputs": [
    {
     "data": {
      "text/html": [
       "<div>\n",
       "<style scoped>\n",
       "    .dataframe tbody tr th:only-of-type {\n",
       "        vertical-align: middle;\n",
       "    }\n",
       "\n",
       "    .dataframe tbody tr th {\n",
       "        vertical-align: top;\n",
       "    }\n",
       "\n",
       "    .dataframe thead tr th {\n",
       "        text-align: left;\n",
       "    }\n",
       "\n",
       "    .dataframe thead tr:last-of-type th {\n",
       "        text-align: right;\n",
       "    }\n",
       "</style>\n",
       "<table border=\"1\" class=\"dataframe\">\n",
       "  <thead>\n",
       "    <tr>\n",
       "      <th></th>\n",
       "      <th colspan=\"2\" halign=\"left\">TransactionAmount</th>\n",
       "    </tr>\n",
       "    <tr>\n",
       "      <th></th>\n",
       "      <th>median</th>\n",
       "      <th>std</th>\n",
       "    </tr>\n",
       "    <tr>\n",
       "      <th>TransactionStatus</th>\n",
       "      <th></th>\n",
       "      <th></th>\n",
       "    </tr>\n",
       "  </thead>\n",
       "  <tbody>\n",
       "    <tr>\n",
       "      <th>credit</th>\n",
       "      <td>300.00</td>\n",
       "      <td>10037.916314</td>\n",
       "    </tr>\n",
       "    <tr>\n",
       "      <th>debit</th>\n",
       "      <td>-24.02</td>\n",
       "      <td>5001.253641</td>\n",
       "    </tr>\n",
       "  </tbody>\n",
       "</table>\n",
       "</div>"
      ],
      "text/plain": [
       "                  TransactionAmount              \n",
       "                             median           std\n",
       "TransactionStatus                                \n",
       "credit                       300.00  10037.916314\n",
       "debit                        -24.02   5001.253641"
      ]
     },
     "execution_count": 16,
     "metadata": {},
     "output_type": "execute_result"
    }
   ],
   "source": [
    "# what are the average amounts by status, and their deviation\n",
    "df.groupby('TransactionStatus').agg({'TransactionAmount': [np.median,np.std]})"
   ]
  },
  {
   "cell_type": "markdown",
   "id": "20f7f797",
   "metadata": {},
   "source": [
    "Explore salary transactions"
   ]
  },
  {
   "cell_type": "code",
   "execution_count": 17,
   "id": "ad134abd",
   "metadata": {
    "scrolled": true
   },
   "outputs": [
    {
     "name": "stdout",
     "output_type": "stream",
     "text": [
      "\n",
      "Salary transactions\n",
      "7\n"
     ]
    },
    {
     "data": {
      "text/html": [
       "<div>\n",
       "<style scoped>\n",
       "    .dataframe tbody tr th:only-of-type {\n",
       "        vertical-align: middle;\n",
       "    }\n",
       "\n",
       "    .dataframe tbody tr th {\n",
       "        vertical-align: top;\n",
       "    }\n",
       "\n",
       "    .dataframe thead th {\n",
       "        text-align: right;\n",
       "    }\n",
       "</style>\n",
       "<table border=\"1\" class=\"dataframe\">\n",
       "  <thead>\n",
       "    <tr style=\"text-align: right;\">\n",
       "      <th></th>\n",
       "      <th>TransactionPostedOn</th>\n",
       "      <th>TransactionStatus</th>\n",
       "      <th>TransactionAmount</th>\n",
       "      <th>TransactionDescription</th>\n",
       "    </tr>\n",
       "  </thead>\n",
       "  <tbody>\n",
       "    <tr>\n",
       "      <th>17</th>\n",
       "      <td>2021-10-04</td>\n",
       "      <td>credit</td>\n",
       "      <td>2001.39</td>\n",
       "      <td>tictoc home loans salary</td>\n",
       "    </tr>\n",
       "    <tr>\n",
       "      <th>90</th>\n",
       "      <td>2021-10-18</td>\n",
       "      <td>credit</td>\n",
       "      <td>2001.39</td>\n",
       "      <td>tictoc home loans salary</td>\n",
       "    </tr>\n",
       "    <tr>\n",
       "      <th>158</th>\n",
       "      <td>2021-11-01</td>\n",
       "      <td>credit</td>\n",
       "      <td>2001.39</td>\n",
       "      <td>tictoc home loans salary</td>\n",
       "    </tr>\n",
       "    <tr>\n",
       "      <th>247</th>\n",
       "      <td>2021-11-15</td>\n",
       "      <td>credit</td>\n",
       "      <td>2001.39</td>\n",
       "      <td>tictoc home loans salary</td>\n",
       "    </tr>\n",
       "    <tr>\n",
       "      <th>320</th>\n",
       "      <td>2021-11-29</td>\n",
       "      <td>credit</td>\n",
       "      <td>2001.39</td>\n",
       "      <td>tictoc home loans salary</td>\n",
       "    </tr>\n",
       "    <tr>\n",
       "      <th>396</th>\n",
       "      <td>2021-12-13</td>\n",
       "      <td>credit</td>\n",
       "      <td>2001.39</td>\n",
       "      <td>tictoc home loans salary</td>\n",
       "    </tr>\n",
       "    <tr>\n",
       "      <th>420</th>\n",
       "      <td>2021-12-16</td>\n",
       "      <td>credit</td>\n",
       "      <td>0.78</td>\n",
       "      <td>internal transfer save salary - receipt 193278</td>\n",
       "    </tr>\n",
       "  </tbody>\n",
       "</table>\n",
       "</div>"
      ],
      "text/plain": [
       "    TransactionPostedOn TransactionStatus  TransactionAmount  \\\n",
       "17           2021-10-04            credit            2001.39   \n",
       "90           2021-10-18            credit            2001.39   \n",
       "158          2021-11-01            credit            2001.39   \n",
       "247          2021-11-15            credit            2001.39   \n",
       "320          2021-11-29            credit            2001.39   \n",
       "396          2021-12-13            credit            2001.39   \n",
       "420          2021-12-16            credit               0.78   \n",
       "\n",
       "                             TransactionDescription  \n",
       "17                         tictoc home loans salary  \n",
       "90                         tictoc home loans salary  \n",
       "158                        tictoc home loans salary  \n",
       "247                        tictoc home loans salary  \n",
       "320                        tictoc home loans salary  \n",
       "396                        tictoc home loans salary  \n",
       "420  internal transfer save salary - receipt 193278  "
      ]
     },
     "execution_count": 17,
     "metadata": {},
     "output_type": "execute_result"
    }
   ],
   "source": [
    "# # how many salary transactions?\n",
    "# Status=Credit & description contains “salary”\n",
    "df_salary = df.loc[(df['TransactionDescription'].str.contains('salary')) &\n",
    "       (df['TransactionStatus'] == 'credit')\n",
    "       , ['TransactionPostedOn','TransactionStatus','TransactionAmount','TransactionDescription']]\n",
    "\n",
    "print(\"\\nSalary transactions\\n{}\".format(df_salary.shape[0]))\n",
    "df_salary"
   ]
  },
  {
   "cell_type": "markdown",
   "id": "7e147fd5",
   "metadata": {},
   "source": [
    "Salary transactions have consistent description formats and with \"salary\" being a keyword"
   ]
  },
  {
   "cell_type": "markdown",
   "id": "9e95a3f9",
   "metadata": {},
   "source": [
    "## Known Matching\n",
    "\n",
    "Consider the nature of receiving positive amount of money, `CREDIT` type of transactions are highly unlikely to fall into *Restaurant, Cafe, Groceries* categories, but rather *Transfer* or *Salary*. Even in scenarios of receiving refund from a restaurant, a cafe or a grocery store, these scenarios shall still be categorised as transfer type, instead of any expenditure types. \n",
    "\n",
    "Apart from positive amount transactions, all negative amount transactions without a keyword *Transfer* in the description will be treated as expenditures of other categories (*Restaurant, Cafe, Groceries*).\n",
    "\n",
    "`Salary` is a keyword that will not occur in normal transaction descriptions except for actual salary payments from employer or self-adjustment that on-purposely added the word *salary* into description. It makes sense to treat descriptoins where keyword=\"salary\" and amount being positive value as Salary type.\n",
    "\n",
    "Based on above observation, we will initially set below labels:\n",
    "- find keyword *Salary* in description and status=*Credit* to set label **Salary** \n",
    "- find `CREDIT` transactions status except for the Salary as label **Transfer**\n",
    "- based on known transfer keyword list in descrition and status=`DEBIT` to set label **Transfer**\n",
    "\n",
    "Based on most common knowledge, we will set below labels:\n",
    "- based on known restaurant name list to set **Restaurant**\n",
    "- based on known Cafe name list to set **Cafe**\n",
    "- based on known grocery name list to set **Groceries**"
   ]
  },
  {
   "cell_type": "code",
   "execution_count": 18,
   "id": "8c6b9031",
   "metadata": {},
   "outputs": [
    {
     "name": "stdout",
     "output_type": "stream",
     "text": [
      "Known Matching labels:\n",
      "transfer      257\n",
      "groceries     207\n",
      "restaurant     34\n",
      "cafe           26\n",
      "salary          7\n",
      "Name: myLabel, dtype: int64\n"
     ]
    },
    {
     "data": {
      "text/html": [
       "<div>\n",
       "<style scoped>\n",
       "    .dataframe tbody tr th:only-of-type {\n",
       "        vertical-align: middle;\n",
       "    }\n",
       "\n",
       "    .dataframe tbody tr th {\n",
       "        vertical-align: top;\n",
       "    }\n",
       "\n",
       "    .dataframe thead th {\n",
       "        text-align: right;\n",
       "    }\n",
       "</style>\n",
       "<table border=\"1\" class=\"dataframe\">\n",
       "  <thead>\n",
       "    <tr style=\"text-align: right;\">\n",
       "      <th></th>\n",
       "      <th>AccountId</th>\n",
       "      <th>TransactionPostedOn</th>\n",
       "      <th>TransactionStatus</th>\n",
       "      <th>TransactionDescription</th>\n",
       "      <th>TransactionAmount</th>\n",
       "      <th>myLabel</th>\n",
       "    </tr>\n",
       "  </thead>\n",
       "  <tbody>\n",
       "    <tr>\n",
       "      <th>0</th>\n",
       "      <td>773edf8c-e78f-11ec-bd51-1a25830e1bc2</td>\n",
       "      <td>2021-10-01</td>\n",
       "      <td>debit</td>\n",
       "      <td>visa purchase - receipt 164427 sfs nrah sushi sushi adelaide date 29/09/21 card 8322</td>\n",
       "      <td>-6.50</td>\n",
       "      <td>restaurant</td>\n",
       "    </tr>\n",
       "    <tr>\n",
       "      <th>1</th>\n",
       "      <td>773edf8c-e78f-11ec-bd51-1a25830e1bc2</td>\n",
       "      <td>2021-10-01</td>\n",
       "      <td>debit</td>\n",
       "      <td>visa purchase - receipt 164428 viet hoa restaurant woodville ga date 29/09/21 card 3689</td>\n",
       "      <td>-46.00</td>\n",
       "      <td>restaurant</td>\n",
       "    </tr>\n",
       "    <tr>\n",
       "      <th>2</th>\n",
       "      <td>773edf8c-e78f-11ec-bd51-1a25830e1bc2</td>\n",
       "      <td>2021-10-01</td>\n",
       "      <td>debit</td>\n",
       "      <td>visa purchase - receipt 164429 costco wholesale aus kilburn date 29/09/21 card 3689</td>\n",
       "      <td>-875.88</td>\n",
       "      <td>groceries</td>\n",
       "    </tr>\n",
       "    <tr>\n",
       "      <th>3</th>\n",
       "      <td>773edf8c-e78f-11ec-bd51-1a25830e1bc2</td>\n",
       "      <td>2021-10-01</td>\n",
       "      <td>debit</td>\n",
       "      <td>visa purchase - receipt 164430 frewville cafe baker frewville date 29/09/21 card 3689</td>\n",
       "      <td>-16.00</td>\n",
       "      <td>cafe</td>\n",
       "    </tr>\n",
       "    <tr>\n",
       "      <th>4</th>\n",
       "      <td>773edf8c-e78f-11ec-bd51-1a25830e1bc2</td>\n",
       "      <td>2021-10-01</td>\n",
       "      <td>debit</td>\n",
       "      <td>visa purchase - receipt 164431 dbs*linden park primar linden park date 30/09/21 card 8322</td>\n",
       "      <td>-52.62</td>\n",
       "      <td>None</td>\n",
       "    </tr>\n",
       "  </tbody>\n",
       "</table>\n",
       "</div>"
      ],
      "text/plain": [
       "                              AccountId TransactionPostedOn TransactionStatus  \\\n",
       "0  773edf8c-e78f-11ec-bd51-1a25830e1bc2          2021-10-01             debit   \n",
       "1  773edf8c-e78f-11ec-bd51-1a25830e1bc2          2021-10-01             debit   \n",
       "2  773edf8c-e78f-11ec-bd51-1a25830e1bc2          2021-10-01             debit   \n",
       "3  773edf8c-e78f-11ec-bd51-1a25830e1bc2          2021-10-01             debit   \n",
       "4  773edf8c-e78f-11ec-bd51-1a25830e1bc2          2021-10-01             debit   \n",
       "\n",
       "                                                                      TransactionDescription  \\\n",
       "0       visa purchase - receipt 164427 sfs nrah sushi sushi adelaide date 29/09/21 card 8322   \n",
       "1    visa purchase - receipt 164428 viet hoa restaurant woodville ga date 29/09/21 card 3689   \n",
       "2        visa purchase - receipt 164429 costco wholesale aus kilburn date 29/09/21 card 3689   \n",
       "3      visa purchase - receipt 164430 frewville cafe baker frewville date 29/09/21 card 3689   \n",
       "4  visa purchase - receipt 164431 dbs*linden park primar linden park date 30/09/21 card 8322   \n",
       "\n",
       "   TransactionAmount     myLabel  \n",
       "0              -6.50  restaurant  \n",
       "1             -46.00  restaurant  \n",
       "2            -875.88   groceries  \n",
       "3             -16.00        cafe  \n",
       "4             -52.62        None  "
      ]
     },
     "execution_count": 18,
     "metadata": {},
     "output_type": "execute_result"
    }
   ],
   "source": [
    "# initiate\n",
    "df['myLabel'] = None\n",
    "\n",
    "# known transfer keyword list\n",
    "lst_transfer = ['transfer','deposit','withdrawal','fee','credit','bill','bpay','payment']\n",
    "# set Transfer\n",
    "df.loc[df['TransactionStatus'] =='credit', 'myLabel'] = 'transfer'\n",
    "df.loc[(df['TransactionStatus'] == 'debit') & \n",
    "       (df['TransactionDescription'].str.contains('|'.join(lst_transfer))), 'myLabel'] = 'transfer'\n",
    "\n",
    "# set Salary\n",
    "df.loc[(df['TransactionDescription'].str.contains('salary')) &\n",
    "       (df['TransactionStatus'] == 'credit'), 'myLabel'] = 'salary'\n",
    "\n",
    "# known restaurant keyword list\n",
    "lst_restaurant = ['restaurant','kfc','mcdonalds','hungry','jacks', 'sushi','fish']\n",
    "# set Restaurant\n",
    "df.loc[df['TransactionDescription'].str.contains('|'.join(lst_restaurant)), 'myLabel'] = 'restaurant'\n",
    "\n",
    "# known cafe keyword list\n",
    "lst_cafe = ['cafe','coffee','baker','bakery','bakers','cheese','cake']\n",
    "# set Cafe\n",
    "df.loc[df['TransactionDescription'].str.contains('|'.join(lst_cafe)), 'myLabel'] = 'cafe'\n",
    "\n",
    "# known grocery keyword list\n",
    "lst_groceries = ['grocer','grocery','costco','coles','woolworths','foodland','otr'\n",
    "                 ,'mart','kmart','ikea','big w','aldi','bunnings','target','pharmacy']\n",
    "# set Groceries\n",
    "df.loc[df['TransactionDescription'].str.contains('|'.join(lst_groceries)), 'myLabel'] = 'groceries'\n",
    "\n",
    "# known matching summary\n",
    "print('Known Matching labels:\\n{}'.format(df['myLabel'].value_counts()))\n",
    "df.head()"
   ]
  },
  {
   "cell_type": "code",
   "execution_count": 19,
   "id": "66e4a7f2",
   "metadata": {},
   "outputs": [
    {
     "name": "stdout",
     "output_type": "stream",
     "text": [
      "<class 'pandas.core.frame.DataFrame'>\n",
      "Int64Index: 893 entries, 0 to 893\n",
      "Data columns (total 6 columns):\n",
      " #   Column                  Non-Null Count  Dtype         \n",
      "---  ------                  --------------  -----         \n",
      " 0   AccountId               893 non-null    object        \n",
      " 1   TransactionPostedOn     893 non-null    datetime64[ns]\n",
      " 2   TransactionStatus       893 non-null    object        \n",
      " 3   TransactionDescription  893 non-null    object        \n",
      " 4   TransactionAmount       893 non-null    float64       \n",
      " 5   myLabel                 531 non-null    object        \n",
      "dtypes: datetime64[ns](1), float64(1), object(4)\n",
      "memory usage: 48.8+ KB\n"
     ]
    }
   ],
   "source": [
    "# summary\n",
    "df.info()"
   ]
  },
  {
   "cell_type": "markdown",
   "id": "88d4e13e",
   "metadata": {},
   "source": [
    "After Known Matching, 531 transactions (59%) are labelled. "
   ]
  },
  {
   "cell_type": "markdown",
   "id": "cb84d39e",
   "metadata": {},
   "source": [
    "## What can known matching tell us?\n",
    "\n",
    "Using the labelled part of the dataset, we are interested in the average transaction amounts in each category. Considering the potential outliers, we will use median value to represent the average."
   ]
  },
  {
   "cell_type": "code",
   "execution_count": 20,
   "id": "f9d6e821",
   "metadata": {
    "scrolled": false
   },
   "outputs": [
    {
     "name": "stdout",
     "output_type": "stream",
     "text": [
      "myLabel\n",
      "cafe           -15.495\n",
      "groceries      -28.740\n",
      "restaurant     -14.775\n",
      "salary        2001.390\n",
      "transfer        30.000\n",
      "Name: TransactionAmount, dtype: float64\n"
     ]
    },
    {
     "data": {
      "image/png": "[encoded data removed]",
      "text/plain": [
       "<Figure size 432x288 with 1 Axes>"
      ]
     },
     "metadata": {
      "needs_background": "light"
     },
     "output_type": "display_data"
    }
   ],
   "source": [
    "# Median Amount values in each category in labelled data\n",
    "print(df.groupby('myLabel')['TransactionAmount'].median())\n",
    "df.groupby('myLabel')['TransactionAmount'].median().plot(kind='barh', fontsize=12)\n",
    "plt.axvline(x=0, color='r', linestyle='--')\n",
    "plt.show()"
   ]
  },
  {
   "cell_type": "markdown",
   "id": "49ea9a82",
   "metadata": {},
   "source": [
    "On average, *Transfer* and *Salary* transactions have positive values where other 3 categories have negative average amounts. Although this does not necessarily represent the entire population, but it brings up the foci of incorrectly classifying *Transfer* type would cause misleading representation of this account's expenditure activities. \n",
    "\n",
    "For example, the total expense under this account would have been decrease or increased because of mixing with wrong transfer values. Credit assessment would approve a loan value that's higher than the customer could afford (because of decreased expenses) or lower than customer expected (because of increased expenses).\n",
    "\n",
    "Therefore, it makes sense that we focus on the **recall** metric of class *Transfer* and *Salary* because when a transaction is actually a transfer type, we particularly don't want the model to make wrong classifications of thses 2 types."
   ]
  },
  {
   "cell_type": "markdown",
   "id": "54eca6cb",
   "metadata": {},
   "source": [
    "## Extract feature, clean, merge"
   ]
  },
  {
   "cell_type": "markdown",
   "id": "64690fd5",
   "metadata": {},
   "source": [
    "Next, noticed datetime info sits in two places, we extract them from both description and TransactionPostedOn variable, transform and put back in description string. We then clean the description text and merge useful information together.\n",
    "\n",
    "- Extract datetime info\n",
    " - weekday name\n",
    " - month\n",
    " - day\n",
    "- clean text and remove receipt numbers, shop numbers, card numbers and other numbers\n",
    "- Concatenate datetime"
   ]
  },
  {
   "cell_type": "code",
   "execution_count": 21,
   "id": "8bdde3c3",
   "metadata": {},
   "outputs": [],
   "source": [
    "df_ = df.copy()"
   ]
  },
  {
   "cell_type": "code",
   "execution_count": 22,
   "id": "6c9e7807",
   "metadata": {},
   "outputs": [
    {
     "data": {
      "text/html": [
       "<div>\n",
       "<style scoped>\n",
       "    .dataframe tbody tr th:only-of-type {\n",
       "        vertical-align: middle;\n",
       "    }\n",
       "\n",
       "    .dataframe tbody tr th {\n",
       "        vertical-align: top;\n",
       "    }\n",
       "\n",
       "    .dataframe thead th {\n",
       "        text-align: right;\n",
       "    }\n",
       "</style>\n",
       "<table border=\"1\" class=\"dataframe\">\n",
       "  <thead>\n",
       "    <tr style=\"text-align: right;\">\n",
       "      <th></th>\n",
       "      <th>AccountId</th>\n",
       "      <th>TransactionDescription</th>\n",
       "      <th>TransactionAmount</th>\n",
       "      <th>myLabel</th>\n",
       "      <th>clean_text</th>\n",
       "    </tr>\n",
       "  </thead>\n",
       "  <tbody>\n",
       "    <tr>\n",
       "      <th>0</th>\n",
       "      <td>773edf8c-e78f-11ec-bd51-1a25830e1bc2</td>\n",
       "      <td>visa purchase - receipt 164427 sfs nrah sushi sushi adelaide date 29/09/21 card 8322</td>\n",
       "      <td>-6.50</td>\n",
       "      <td>restaurant</td>\n",
       "      <td>visa purchase sfs nrah sushi sushi adelaide Wednesday September 29</td>\n",
       "    </tr>\n",
       "    <tr>\n",
       "      <th>1</th>\n",
       "      <td>773edf8c-e78f-11ec-bd51-1a25830e1bc2</td>\n",
       "      <td>visa purchase - receipt 164428 viet hoa restaurant woodville ga date 29/09/21 card 3689</td>\n",
       "      <td>-46.00</td>\n",
       "      <td>restaurant</td>\n",
       "      <td>visa purchase viet hoa restaurant woodville ga Wednesday September 29</td>\n",
       "    </tr>\n",
       "    <tr>\n",
       "      <th>2</th>\n",
       "      <td>773edf8c-e78f-11ec-bd51-1a25830e1bc2</td>\n",
       "      <td>visa purchase - receipt 164429 costco wholesale aus kilburn date 29/09/21 card 3689</td>\n",
       "      <td>-875.88</td>\n",
       "      <td>groceries</td>\n",
       "      <td>visa purchase costco wholesale aus kilburn Wednesday September 29</td>\n",
       "    </tr>\n",
       "    <tr>\n",
       "      <th>3</th>\n",
       "      <td>773edf8c-e78f-11ec-bd51-1a25830e1bc2</td>\n",
       "      <td>visa purchase - receipt 164430 frewville cafe baker frewville date 29/09/21 card 3689</td>\n",
       "      <td>-16.00</td>\n",
       "      <td>cafe</td>\n",
       "      <td>visa purchase frewville cafe baker frewville Wednesday September 29</td>\n",
       "    </tr>\n",
       "    <tr>\n",
       "      <th>4</th>\n",
       "      <td>773edf8c-e78f-11ec-bd51-1a25830e1bc2</td>\n",
       "      <td>visa purchase - receipt 164431 dbs*linden park primar linden park date 30/09/21 card 8322</td>\n",
       "      <td>-52.62</td>\n",
       "      <td>None</td>\n",
       "      <td>visa purchase dbs linden park primar linden park Thursday September 30</td>\n",
       "    </tr>\n",
       "  </tbody>\n",
       "</table>\n",
       "</div>"
      ],
      "text/plain": [
       "                              AccountId  \\\n",
       "0  773edf8c-e78f-11ec-bd51-1a25830e1bc2   \n",
       "1  773edf8c-e78f-11ec-bd51-1a25830e1bc2   \n",
       "2  773edf8c-e78f-11ec-bd51-1a25830e1bc2   \n",
       "3  773edf8c-e78f-11ec-bd51-1a25830e1bc2   \n",
       "4  773edf8c-e78f-11ec-bd51-1a25830e1bc2   \n",
       "\n",
       "                                                                      TransactionDescription  \\\n",
       "0       visa purchase - receipt 164427 sfs nrah sushi sushi adelaide date 29/09/21 card 8322   \n",
       "1    visa purchase - receipt 164428 viet hoa restaurant woodville ga date 29/09/21 card 3689   \n",
       "2        visa purchase - receipt 164429 costco wholesale aus kilburn date 29/09/21 card 3689   \n",
       "3      visa purchase - receipt 164430 frewville cafe baker frewville date 29/09/21 card 3689   \n",
       "4  visa purchase - receipt 164431 dbs*linden park primar linden park date 30/09/21 card 8322   \n",
       "\n",
       "   TransactionAmount     myLabel  \\\n",
       "0              -6.50  restaurant   \n",
       "1             -46.00  restaurant   \n",
       "2            -875.88   groceries   \n",
       "3             -16.00        cafe   \n",
       "4             -52.62        None   \n",
       "\n",
       "                                                               clean_text  \n",
       "0      visa purchase sfs nrah sushi sushi adelaide Wednesday September 29  \n",
       "1   visa purchase viet hoa restaurant woodville ga Wednesday September 29  \n",
       "2       visa purchase costco wholesale aus kilburn Wednesday September 29  \n",
       "3     visa purchase frewville cafe baker frewville Wednesday September 29  \n",
       "4  visa purchase dbs linden park primar linden park Thursday September 30  "
      ]
     },
     "execution_count": 22,
     "metadata": {},
     "output_type": "execute_result"
    }
   ],
   "source": [
    "# extract datetime info to new columns\n",
    "# if description contains datetime info, use it, otherwise, use TransactionPostedOn as datetime\n",
    "df_['Time_'] = df_['TransactionDescription'].apply(lambda dt: find_dates(dt))\n",
    "df_['Time'] = pd.to_datetime([','.join(map(str, l)) for l in df_['Time_']])\n",
    "df_['Time'].fillna(df_['TransactionPostedOn'], inplace=True)\n",
    "df_['weekday'] = df_['Time'].dt.day_name()\n",
    "df_['month'] = df_['Time'].dt.month_name()\n",
    "df_['day'] = df_['Time'].dt.day\n",
    "df_.drop(columns=['Time_','Time'], inplace=True)\n",
    "\n",
    "# clean text\n",
    "# will clean datetime strings - this is why we extract them first in above step\n",
    "df_['desc'] = df_['TransactionDescription'].apply(lambda x: util_initialclean(x))\n",
    "df_['desc'] = df_['desc'].apply(lambda x: util_preprocess_to_sentence(x\n",
    "                                           ,rm_stopwords=True\n",
    "                                          ,stem=False \n",
    "                                          ,lemm=False))\n",
    "\n",
    "# concatenate clean text with new datetime columns and drop other cols\n",
    "cols = df_.columns[[9,6,7,8]].tolist()\n",
    "df_['clean_text'] = df_[cols].fillna('').astype(str).apply(' '.join, axis=1)\n",
    "df_.drop(df_.columns[[1,2,6,7,8,9]].tolist(), axis=1, inplace=True) \n",
    "df_.head()"
   ]
  },
  {
   "cell_type": "code",
   "execution_count": 23,
   "id": "fb395c0c",
   "metadata": {},
   "outputs": [
    {
     "name": "stdout",
     "output_type": "stream",
     "text": [
      "<class 'pandas.core.frame.DataFrame'>\n",
      "Int64Index: 893 entries, 0 to 893\n",
      "Data columns (total 5 columns):\n",
      " #   Column                  Non-Null Count  Dtype  \n",
      "---  ------                  --------------  -----  \n",
      " 0   AccountId               893 non-null    object \n",
      " 1   TransactionDescription  893 non-null    object \n",
      " 2   TransactionAmount       893 non-null    float64\n",
      " 3   myLabel                 531 non-null    object \n",
      " 4   clean_text              893 non-null    object \n",
      "dtypes: float64(1), object(4)\n",
      "memory usage: 41.9+ KB\n"
     ]
    }
   ],
   "source": [
    "df_.info()"
   ]
  },
  {
   "cell_type": "code",
   "execution_count": 24,
   "id": "e5459ba5",
   "metadata": {},
   "outputs": [],
   "source": [
    "# write to file\n",
    "df_.to_csv('df_.csv')"
   ]
  },
  {
   "cell_type": "markdown",
   "id": "94dc08f7",
   "metadata": {},
   "source": [
    "# TF-IDF"
   ]
  },
  {
   "cell_type": "markdown",
   "id": "d27f28c1",
   "metadata": {},
   "source": [
    "![tfidf](https://github.com/ericwanga/categorise-bank-transaction/blob/main/img/tfidf.jpg?raw=true)"
   ]
  },
  {
   "cell_type": "markdown",
   "id": "b9055329",
   "metadata": {},
   "source": [
    "Use term frequency inverse document frequency to represent words, instead of count vectors, to better emphasize words that are more identifiable to its doc but not to other docs. Then these meaningful representations are sent to 2 clustering algorithms, hierarchical clustering and KMeans.\n",
    "\n",
    "In clustering methods, we will use all data except for *Salary* type, treating it as a class that can be filtered out by strict business rule and keyword. The task is now a 4-class clustering."
   ]
  },
  {
   "cell_type": "code",
   "execution_count": 36,
   "id": "1b6d8cd5",
   "metadata": {},
   "outputs": [
    {
     "data": {
      "text/plain": [
       "(362, 5)"
      ]
     },
     "execution_count": 36,
     "metadata": {},
     "output_type": "execute_result"
    }
   ],
   "source": [
    "#df_km = df_[df_['myLabel'] != 'salary'].reset_index(drop=True) # 4-class\n",
    "df_km = df_[df_['myLabel'].isna()].reset_index(drop=True) # 4-class\n",
    "#df_km = df_.copy()\n",
    "df_km.shape"
   ]
  },
  {
   "cell_type": "code",
   "execution_count": 37,
   "id": "c9e77186",
   "metadata": {},
   "outputs": [
    {
     "data": {
      "text/plain": [
       "<362x402 sparse matrix of type '<class 'numpy.float64'>'\n",
       "\twith 3095 stored elements in Compressed Sparse Row format>"
      ]
     },
     "execution_count": 37,
     "metadata": {},
     "output_type": "execute_result"
    }
   ],
   "source": [
    "tfidf = TFIDF(min_df=0).fit(df_km['clean_text'])\n",
    "tfidf_result = tfidf.transform(df_km['clean_text'])\n",
    "tfidf_result"
   ]
  },
  {
   "cell_type": "code",
   "execution_count": 155,
   "id": "f72bfbca",
   "metadata": {},
   "outputs": [
    {
     "name": "stdout",
     "output_type": "stream",
     "text": [
      "Number of unique words: 402\n"
     ]
    }
   ],
   "source": [
    "print('Number of unique words: {}'.format(len(tfidf.vocabulary_)))"
   ]
  },
  {
   "cell_type": "code",
   "execution_count": 154,
   "id": "48abecc0",
   "metadata": {
    "scrolled": true
   },
   "outputs": [],
   "source": [
    "#tfidf.vocabulary_ # 'term': feature indices"
   ]
  },
  {
   "cell_type": "markdown",
   "id": "8a664438",
   "metadata": {},
   "source": [
    "# Hierarchical clustering"
   ]
  },
  {
   "cell_type": "markdown",
   "id": "49f7dbc3",
   "metadata": {},
   "source": [
    "Computer data poinst Euclidean distance similarities in a bottom-up fashion. At this stage it is more useful for us to have an observation of their distribution. We try 3 linkage computations to cluster them. Ward to group by comparing sum of square before/after clustering attempts, average to group using avearge distance between 2 cluster attempts, and complete to group according to the farthest distance of the cluster attpemts."
   ]
  },
  {
   "cell_type": "code",
   "execution_count": 39,
   "id": "00b0d980",
   "metadata": {},
   "outputs": [],
   "source": [
    "# prep data\n",
    "# scale TransactionAmount\n",
    "df_km['Amount_scaled'] = rscaler.fit_transform(pd.DataFrame(df_km['TransactionAmount']))\n",
    "# add scaled amount to tf-idf vectors\n",
    "df_tfidf_hc = pd.DataFrame(tfidf_result.toarray(),columns=tfidf.get_feature_names_out()) # need to convert to dataframe\n",
    "df_tfidf_hc = pd.concat([df_tfidf_hc,df_km['Amount_scaled'].reset_index(drop=True)], axis=1)"
   ]
  },
  {
   "cell_type": "code",
   "execution_count": 40,
   "id": "0e3c5bfb",
   "metadata": {},
   "outputs": [
    {
     "name": "stdout",
     "output_type": "stream",
     "text": [
      "(362, 403)\n"
     ]
    },
    {
     "data": {
      "text/html": [
       "<div>\n",
       "<style scoped>\n",
       "    .dataframe tbody tr th:only-of-type {\n",
       "        vertical-align: middle;\n",
       "    }\n",
       "\n",
       "    .dataframe tbody tr th {\n",
       "        vertical-align: top;\n",
       "    }\n",
       "\n",
       "    .dataframe thead th {\n",
       "        text-align: right;\n",
       "    }\n",
       "</style>\n",
       "<table border=\"1\" class=\"dataframe\">\n",
       "  <thead>\n",
       "    <tr style=\"text-align: right;\">\n",
       "      <th></th>\n",
       "      <th>10</th>\n",
       "      <th>11</th>\n",
       "      <th>12</th>\n",
       "      <th>13</th>\n",
       "      <th>14</th>\n",
       "      <th>15</th>\n",
       "      <th>16</th>\n",
       "      <th>17</th>\n",
       "      <th>18</th>\n",
       "      <th>19</th>\n",
       "      <th>...</th>\n",
       "      <th>whs</th>\n",
       "      <th>wingfield</th>\n",
       "      <th>woodv</th>\n",
       "      <th>woodville</th>\n",
       "      <th>ynde</th>\n",
       "      <th>yong</th>\n",
       "      <th>your</th>\n",
       "      <th>yville</th>\n",
       "      <th>zap</th>\n",
       "      <th>Amount_scaled</th>\n",
       "    </tr>\n",
       "  </thead>\n",
       "  <tbody>\n",
       "    <tr>\n",
       "      <th>0</th>\n",
       "      <td>0.000000</td>\n",
       "      <td>0.0</td>\n",
       "      <td>0.0</td>\n",
       "      <td>0.0</td>\n",
       "      <td>0.0</td>\n",
       "      <td>0.0</td>\n",
       "      <td>0.0</td>\n",
       "      <td>0.0</td>\n",
       "      <td>0.0</td>\n",
       "      <td>0.0</td>\n",
       "      <td>...</td>\n",
       "      <td>0.0</td>\n",
       "      <td>0.0</td>\n",
       "      <td>0.0</td>\n",
       "      <td>0.0</td>\n",
       "      <td>0.0</td>\n",
       "      <td>0.0</td>\n",
       "      <td>0.0</td>\n",
       "      <td>0.0</td>\n",
       "      <td>0.0</td>\n",
       "      <td>-0.755670</td>\n",
       "    </tr>\n",
       "    <tr>\n",
       "      <th>1</th>\n",
       "      <td>0.000000</td>\n",
       "      <td>0.0</td>\n",
       "      <td>0.0</td>\n",
       "      <td>0.0</td>\n",
       "      <td>0.0</td>\n",
       "      <td>0.0</td>\n",
       "      <td>0.0</td>\n",
       "      <td>0.0</td>\n",
       "      <td>0.0</td>\n",
       "      <td>0.0</td>\n",
       "      <td>...</td>\n",
       "      <td>0.0</td>\n",
       "      <td>0.0</td>\n",
       "      <td>0.0</td>\n",
       "      <td>0.0</td>\n",
       "      <td>0.0</td>\n",
       "      <td>0.0</td>\n",
       "      <td>0.0</td>\n",
       "      <td>0.0</td>\n",
       "      <td>0.0</td>\n",
       "      <td>-0.656186</td>\n",
       "    </tr>\n",
       "    <tr>\n",
       "      <th>2</th>\n",
       "      <td>0.000000</td>\n",
       "      <td>0.0</td>\n",
       "      <td>0.0</td>\n",
       "      <td>0.0</td>\n",
       "      <td>0.0</td>\n",
       "      <td>0.0</td>\n",
       "      <td>0.0</td>\n",
       "      <td>0.0</td>\n",
       "      <td>0.0</td>\n",
       "      <td>0.0</td>\n",
       "      <td>...</td>\n",
       "      <td>0.0</td>\n",
       "      <td>0.0</td>\n",
       "      <td>0.0</td>\n",
       "      <td>0.0</td>\n",
       "      <td>0.0</td>\n",
       "      <td>0.0</td>\n",
       "      <td>0.0</td>\n",
       "      <td>0.0</td>\n",
       "      <td>0.0</td>\n",
       "      <td>0.000000</td>\n",
       "    </tr>\n",
       "    <tr>\n",
       "      <th>3</th>\n",
       "      <td>0.254091</td>\n",
       "      <td>0.0</td>\n",
       "      <td>0.0</td>\n",
       "      <td>0.0</td>\n",
       "      <td>0.0</td>\n",
       "      <td>0.0</td>\n",
       "      <td>0.0</td>\n",
       "      <td>0.0</td>\n",
       "      <td>0.0</td>\n",
       "      <td>0.0</td>\n",
       "      <td>...</td>\n",
       "      <td>0.0</td>\n",
       "      <td>0.0</td>\n",
       "      <td>0.0</td>\n",
       "      <td>0.0</td>\n",
       "      <td>0.0</td>\n",
       "      <td>0.0</td>\n",
       "      <td>0.0</td>\n",
       "      <td>0.0</td>\n",
       "      <td>0.0</td>\n",
       "      <td>0.113402</td>\n",
       "    </tr>\n",
       "    <tr>\n",
       "      <th>4</th>\n",
       "      <td>0.279297</td>\n",
       "      <td>0.0</td>\n",
       "      <td>0.0</td>\n",
       "      <td>0.0</td>\n",
       "      <td>0.0</td>\n",
       "      <td>0.0</td>\n",
       "      <td>0.0</td>\n",
       "      <td>0.0</td>\n",
       "      <td>0.0</td>\n",
       "      <td>0.0</td>\n",
       "      <td>...</td>\n",
       "      <td>0.0</td>\n",
       "      <td>0.0</td>\n",
       "      <td>0.0</td>\n",
       "      <td>0.0</td>\n",
       "      <td>0.0</td>\n",
       "      <td>0.0</td>\n",
       "      <td>0.0</td>\n",
       "      <td>0.0</td>\n",
       "      <td>0.0</td>\n",
       "      <td>0.461340</td>\n",
       "    </tr>\n",
       "  </tbody>\n",
       "</table>\n",
       "<p>5 rows × 403 columns</p>\n",
       "</div>"
      ],
      "text/plain": [
       "         10   11   12   13   14   15   16   17   18   19  ...  whs  wingfield  \\\n",
       "0  0.000000  0.0  0.0  0.0  0.0  0.0  0.0  0.0  0.0  0.0  ...  0.0        0.0   \n",
       "1  0.000000  0.0  0.0  0.0  0.0  0.0  0.0  0.0  0.0  0.0  ...  0.0        0.0   \n",
       "2  0.000000  0.0  0.0  0.0  0.0  0.0  0.0  0.0  0.0  0.0  ...  0.0        0.0   \n",
       "3  0.254091  0.0  0.0  0.0  0.0  0.0  0.0  0.0  0.0  0.0  ...  0.0        0.0   \n",
       "4  0.279297  0.0  0.0  0.0  0.0  0.0  0.0  0.0  0.0  0.0  ...  0.0        0.0   \n",
       "\n",
       "   woodv  woodville  ynde  yong  your  yville  zap  Amount_scaled  \n",
       "0    0.0        0.0   0.0   0.0   0.0     0.0  0.0      -0.755670  \n",
       "1    0.0        0.0   0.0   0.0   0.0     0.0  0.0      -0.656186  \n",
       "2    0.0        0.0   0.0   0.0   0.0     0.0  0.0       0.000000  \n",
       "3    0.0        0.0   0.0   0.0   0.0     0.0  0.0       0.113402  \n",
       "4    0.0        0.0   0.0   0.0   0.0     0.0  0.0       0.461340  \n",
       "\n",
       "[5 rows x 403 columns]"
      ]
     },
     "execution_count": 40,
     "metadata": {},
     "output_type": "execute_result"
    }
   ],
   "source": [
    "print(df_tfidf_hc.shape)\n",
    "df_tfidf_hc.head()"
   ]
  },
  {
   "cell_type": "code",
   "execution_count": 41,
   "id": "0d0976da",
   "metadata": {},
   "outputs": [
    {
     "data": {
      "image/png": "[encoded data removed]",
      "text/plain": [
       "<Figure size 1080x504 with 1 Axes>"
      ]
     },
     "metadata": {
      "needs_background": "light"
     },
     "output_type": "display_data"
    }
   ],
   "source": [
    "# hc with ward linkage\n",
    "scaled_array = df_tfidf_hc.iloc[:, :]\n",
    "Z = sch.linkage(scaled_array, method='ward')\n",
    "plt.figure(figsize=(15, 7))  \n",
    "plt.title(\"Dendrograms - ward linkage\")  \n",
    "dend = sch.dendrogram(Z)"
   ]
  },
  {
   "cell_type": "code",
   "execution_count": 42,
   "id": "44d65374",
   "metadata": {},
   "outputs": [
    {
     "data": {
      "image/png": "[encoded data removed]",
      "text/plain": [
       "<Figure size 1080x504 with 1 Axes>"
      ]
     },
     "metadata": {
      "needs_background": "light"
     },
     "output_type": "display_data"
    }
   ],
   "source": [
    "# hc with average linkage\n",
    "scaled_array = df_tfidf_hc.iloc[:, :]\n",
    "Z = sch.linkage(scaled_array, method='average')\n",
    "plt.figure(figsize=(15, 7))  \n",
    "plt.title(\"Dendrograms - average linkage\")  \n",
    "dend = sch.dendrogram(Z)"
   ]
  },
  {
   "cell_type": "code",
   "execution_count": 43,
   "id": "95e63c48",
   "metadata": {},
   "outputs": [
    {
     "data": {
      "image/png": "[encoded data removed]",
      "text/plain": [
       "<Figure size 1080x504 with 1 Axes>"
      ]
     },
     "metadata": {
      "needs_background": "light"
     },
     "output_type": "display_data"
    }
   ],
   "source": [
    "# hc with complete linkage\n",
    "scaled_array = df_tfidf_hc.iloc[:, :]\n",
    "Z = sch.linkage(scaled_array, method='complete')\n",
    "plt.figure(figsize=(15, 7))  \n",
    "plt.title(\"Dendrograms - complete linkage\")  \n",
    "dend = sch.dendrogram(Z)"
   ]
  },
  {
   "cell_type": "code",
   "execution_count": null,
   "id": "f799da32",
   "metadata": {},
   "outputs": [],
   "source": [
    "# # hc with single linkage\n",
    "# scaled_array = df_tfidf_hc.iloc[:, :]\n",
    "# Z = sch.linkage(scaled_array, method='single')\n",
    "# plt.figure(figsize=(15, 7))  \n",
    "# plt.title(\"Dendrograms - single linkage\")  \n",
    "# dend = sch.dendrogram(Z)"
   ]
  },
  {
   "cell_type": "markdown",
   "id": "986f4a73",
   "metadata": {},
   "source": [
    "Visual inspection, HC results suggested optimal number of clusters to be 2 or 3. Our expectation of 4 clusters does not seem to be easy clustering result from this approach, as neither linkage computation actually distinguishes majority of the data points. Next, we consider another clustering method KMeans to cross-check this unsupervised direction."
   ]
  },
  {
   "cell_type": "markdown",
   "id": "aae5be4f",
   "metadata": {},
   "source": [
    "# KMeans on TF-IDF\n",
    "\n",
    "## prep data"
   ]
  },
  {
   "cell_type": "code",
   "execution_count": 44,
   "id": "77bdeb53",
   "metadata": {},
   "outputs": [
    {
     "name": "stdout",
     "output_type": "stream",
     "text": [
      "(362, 403)\n"
     ]
    },
    {
     "data": {
      "text/html": [
       "<div>\n",
       "<style scoped>\n",
       "    .dataframe tbody tr th:only-of-type {\n",
       "        vertical-align: middle;\n",
       "    }\n",
       "\n",
       "    .dataframe tbody tr th {\n",
       "        vertical-align: top;\n",
       "    }\n",
       "\n",
       "    .dataframe thead th {\n",
       "        text-align: right;\n",
       "    }\n",
       "</style>\n",
       "<table border=\"1\" class=\"dataframe\">\n",
       "  <thead>\n",
       "    <tr style=\"text-align: right;\">\n",
       "      <th></th>\n",
       "      <th>10</th>\n",
       "      <th>11</th>\n",
       "      <th>12</th>\n",
       "      <th>13</th>\n",
       "      <th>14</th>\n",
       "      <th>15</th>\n",
       "      <th>16</th>\n",
       "      <th>17</th>\n",
       "      <th>18</th>\n",
       "      <th>19</th>\n",
       "      <th>...</th>\n",
       "      <th>whs</th>\n",
       "      <th>wingfield</th>\n",
       "      <th>woodv</th>\n",
       "      <th>woodville</th>\n",
       "      <th>ynde</th>\n",
       "      <th>yong</th>\n",
       "      <th>your</th>\n",
       "      <th>yville</th>\n",
       "      <th>zap</th>\n",
       "      <th>Amount_scaled</th>\n",
       "    </tr>\n",
       "  </thead>\n",
       "  <tbody>\n",
       "    <tr>\n",
       "      <th>0</th>\n",
       "      <td>0.000000</td>\n",
       "      <td>0.0</td>\n",
       "      <td>0.0</td>\n",
       "      <td>0.0</td>\n",
       "      <td>0.0</td>\n",
       "      <td>0.0</td>\n",
       "      <td>0.0</td>\n",
       "      <td>0.0</td>\n",
       "      <td>0.0</td>\n",
       "      <td>0.0</td>\n",
       "      <td>...</td>\n",
       "      <td>0.0</td>\n",
       "      <td>0.0</td>\n",
       "      <td>0.0</td>\n",
       "      <td>0.0</td>\n",
       "      <td>0.0</td>\n",
       "      <td>0.0</td>\n",
       "      <td>0.0</td>\n",
       "      <td>0.0</td>\n",
       "      <td>0.0</td>\n",
       "      <td>-0.755670</td>\n",
       "    </tr>\n",
       "    <tr>\n",
       "      <th>1</th>\n",
       "      <td>0.000000</td>\n",
       "      <td>0.0</td>\n",
       "      <td>0.0</td>\n",
       "      <td>0.0</td>\n",
       "      <td>0.0</td>\n",
       "      <td>0.0</td>\n",
       "      <td>0.0</td>\n",
       "      <td>0.0</td>\n",
       "      <td>0.0</td>\n",
       "      <td>0.0</td>\n",
       "      <td>...</td>\n",
       "      <td>0.0</td>\n",
       "      <td>0.0</td>\n",
       "      <td>0.0</td>\n",
       "      <td>0.0</td>\n",
       "      <td>0.0</td>\n",
       "      <td>0.0</td>\n",
       "      <td>0.0</td>\n",
       "      <td>0.0</td>\n",
       "      <td>0.0</td>\n",
       "      <td>-0.656186</td>\n",
       "    </tr>\n",
       "    <tr>\n",
       "      <th>2</th>\n",
       "      <td>0.000000</td>\n",
       "      <td>0.0</td>\n",
       "      <td>0.0</td>\n",
       "      <td>0.0</td>\n",
       "      <td>0.0</td>\n",
       "      <td>0.0</td>\n",
       "      <td>0.0</td>\n",
       "      <td>0.0</td>\n",
       "      <td>0.0</td>\n",
       "      <td>0.0</td>\n",
       "      <td>...</td>\n",
       "      <td>0.0</td>\n",
       "      <td>0.0</td>\n",
       "      <td>0.0</td>\n",
       "      <td>0.0</td>\n",
       "      <td>0.0</td>\n",
       "      <td>0.0</td>\n",
       "      <td>0.0</td>\n",
       "      <td>0.0</td>\n",
       "      <td>0.0</td>\n",
       "      <td>0.000000</td>\n",
       "    </tr>\n",
       "    <tr>\n",
       "      <th>3</th>\n",
       "      <td>0.254091</td>\n",
       "      <td>0.0</td>\n",
       "      <td>0.0</td>\n",
       "      <td>0.0</td>\n",
       "      <td>0.0</td>\n",
       "      <td>0.0</td>\n",
       "      <td>0.0</td>\n",
       "      <td>0.0</td>\n",
       "      <td>0.0</td>\n",
       "      <td>0.0</td>\n",
       "      <td>...</td>\n",
       "      <td>0.0</td>\n",
       "      <td>0.0</td>\n",
       "      <td>0.0</td>\n",
       "      <td>0.0</td>\n",
       "      <td>0.0</td>\n",
       "      <td>0.0</td>\n",
       "      <td>0.0</td>\n",
       "      <td>0.0</td>\n",
       "      <td>0.0</td>\n",
       "      <td>0.113402</td>\n",
       "    </tr>\n",
       "    <tr>\n",
       "      <th>4</th>\n",
       "      <td>0.279297</td>\n",
       "      <td>0.0</td>\n",
       "      <td>0.0</td>\n",
       "      <td>0.0</td>\n",
       "      <td>0.0</td>\n",
       "      <td>0.0</td>\n",
       "      <td>0.0</td>\n",
       "      <td>0.0</td>\n",
       "      <td>0.0</td>\n",
       "      <td>0.0</td>\n",
       "      <td>...</td>\n",
       "      <td>0.0</td>\n",
       "      <td>0.0</td>\n",
       "      <td>0.0</td>\n",
       "      <td>0.0</td>\n",
       "      <td>0.0</td>\n",
       "      <td>0.0</td>\n",
       "      <td>0.0</td>\n",
       "      <td>0.0</td>\n",
       "      <td>0.0</td>\n",
       "      <td>0.461340</td>\n",
       "    </tr>\n",
       "  </tbody>\n",
       "</table>\n",
       "<p>5 rows × 403 columns</p>\n",
       "</div>"
      ],
      "text/plain": [
       "         10   11   12   13   14   15   16   17   18   19  ...  whs  wingfield  \\\n",
       "0  0.000000  0.0  0.0  0.0  0.0  0.0  0.0  0.0  0.0  0.0  ...  0.0        0.0   \n",
       "1  0.000000  0.0  0.0  0.0  0.0  0.0  0.0  0.0  0.0  0.0  ...  0.0        0.0   \n",
       "2  0.000000  0.0  0.0  0.0  0.0  0.0  0.0  0.0  0.0  0.0  ...  0.0        0.0   \n",
       "3  0.254091  0.0  0.0  0.0  0.0  0.0  0.0  0.0  0.0  0.0  ...  0.0        0.0   \n",
       "4  0.279297  0.0  0.0  0.0  0.0  0.0  0.0  0.0  0.0  0.0  ...  0.0        0.0   \n",
       "\n",
       "   woodv  woodville  ynde  yong  your  yville  zap  Amount_scaled  \n",
       "0    0.0        0.0   0.0   0.0   0.0     0.0  0.0      -0.755670  \n",
       "1    0.0        0.0   0.0   0.0   0.0     0.0  0.0      -0.656186  \n",
       "2    0.0        0.0   0.0   0.0   0.0     0.0  0.0       0.000000  \n",
       "3    0.0        0.0   0.0   0.0   0.0     0.0  0.0       0.113402  \n",
       "4    0.0        0.0   0.0   0.0   0.0     0.0  0.0       0.461340  \n",
       "\n",
       "[5 rows x 403 columns]"
      ]
     },
     "execution_count": 44,
     "metadata": {},
     "output_type": "execute_result"
    }
   ],
   "source": [
    "# add scaled amount to tf-idf vectors\n",
    "df_tfidf_km = pd.DataFrame(tfidf_result.toarray(),columns=tfidf.get_feature_names_out()) # need to convert to dataframe\n",
    "df_tfidf_km = pd.concat([df_tfidf_km,df_km['Amount_scaled'].reset_index(drop=True)], axis=1)\n",
    "print(df_tfidf_km.shape)\n",
    "df_tfidf_km.head()"
   ]
  },
  {
   "cell_type": "code",
   "execution_count": 45,
   "id": "7c90585d",
   "metadata": {},
   "outputs": [
    {
     "data": {
      "text/plain": [
       "'visa purchase dodo services pty ltd melbourne Wednesday February 10'"
      ]
     },
     "execution_count": 45,
     "metadata": {},
     "output_type": "execute_result"
    }
   ],
   "source": [
    "# example, the 7th document\n",
    "df_km['clean_text'][6]"
   ]
  },
  {
   "cell_type": "code",
   "execution_count": 46,
   "id": "31b9423c",
   "metadata": {
    "scrolled": true
   },
   "outputs": [
    {
     "data": {
      "text/html": [
       "<div>\n",
       "<style scoped>\n",
       "    .dataframe tbody tr th:only-of-type {\n",
       "        vertical-align: middle;\n",
       "    }\n",
       "\n",
       "    .dataframe tbody tr th {\n",
       "        vertical-align: top;\n",
       "    }\n",
       "\n",
       "    .dataframe thead th {\n",
       "        text-align: right;\n",
       "    }\n",
       "</style>\n",
       "<table border=\"1\" class=\"dataframe\">\n",
       "  <thead>\n",
       "    <tr style=\"text-align: right;\">\n",
       "      <th></th>\n",
       "      <th>0</th>\n",
       "      <th>1</th>\n",
       "      <th>2</th>\n",
       "      <th>3</th>\n",
       "      <th>4</th>\n",
       "      <th>5</th>\n",
       "      <th>6</th>\n",
       "      <th>7</th>\n",
       "      <th>8</th>\n",
       "      <th>9</th>\n",
       "      <th>...</th>\n",
       "      <th>352</th>\n",
       "      <th>353</th>\n",
       "      <th>354</th>\n",
       "      <th>355</th>\n",
       "      <th>356</th>\n",
       "      <th>357</th>\n",
       "      <th>358</th>\n",
       "      <th>359</th>\n",
       "      <th>360</th>\n",
       "      <th>361</th>\n",
       "    </tr>\n",
       "  </thead>\n",
       "  <tbody>\n",
       "    <tr>\n",
       "      <th>dodo</th>\n",
       "      <td>0.000000</td>\n",
       "      <td>0.000000</td>\n",
       "      <td>0.0</td>\n",
       "      <td>0.000000</td>\n",
       "      <td>0.000000</td>\n",
       "      <td>0.000000</td>\n",
       "      <td>0.475094</td>\n",
       "      <td>0.000000</td>\n",
       "      <td>0.000000</td>\n",
       "      <td>0.000000</td>\n",
       "      <td>...</td>\n",
       "      <td>0.000000</td>\n",
       "      <td>0.000000</td>\n",
       "      <td>0.000000</td>\n",
       "      <td>0.000000</td>\n",
       "      <td>0.0</td>\n",
       "      <td>0.000000</td>\n",
       "      <td>0.000000</td>\n",
       "      <td>0.000000</td>\n",
       "      <td>0.000000</td>\n",
       "      <td>0.0</td>\n",
       "    </tr>\n",
       "    <tr>\n",
       "      <th>services</th>\n",
       "      <td>0.000000</td>\n",
       "      <td>0.000000</td>\n",
       "      <td>0.0</td>\n",
       "      <td>0.000000</td>\n",
       "      <td>0.000000</td>\n",
       "      <td>0.000000</td>\n",
       "      <td>0.475094</td>\n",
       "      <td>0.000000</td>\n",
       "      <td>0.000000</td>\n",
       "      <td>0.000000</td>\n",
       "      <td>...</td>\n",
       "      <td>0.000000</td>\n",
       "      <td>0.000000</td>\n",
       "      <td>0.000000</td>\n",
       "      <td>0.000000</td>\n",
       "      <td>0.0</td>\n",
       "      <td>0.000000</td>\n",
       "      <td>0.000000</td>\n",
       "      <td>0.000000</td>\n",
       "      <td>0.000000</td>\n",
       "      <td>0.0</td>\n",
       "    </tr>\n",
       "    <tr>\n",
       "      <th>melbourne</th>\n",
       "      <td>0.000000</td>\n",
       "      <td>0.000000</td>\n",
       "      <td>0.0</td>\n",
       "      <td>0.000000</td>\n",
       "      <td>0.000000</td>\n",
       "      <td>0.000000</td>\n",
       "      <td>0.342219</td>\n",
       "      <td>0.000000</td>\n",
       "      <td>0.000000</td>\n",
       "      <td>0.000000</td>\n",
       "      <td>...</td>\n",
       "      <td>0.000000</td>\n",
       "      <td>0.000000</td>\n",
       "      <td>0.000000</td>\n",
       "      <td>0.000000</td>\n",
       "      <td>0.0</td>\n",
       "      <td>0.363601</td>\n",
       "      <td>0.000000</td>\n",
       "      <td>0.000000</td>\n",
       "      <td>0.000000</td>\n",
       "      <td>0.0</td>\n",
       "    </tr>\n",
       "    <tr>\n",
       "      <th>10</th>\n",
       "      <td>0.000000</td>\n",
       "      <td>0.000000</td>\n",
       "      <td>0.0</td>\n",
       "      <td>0.254091</td>\n",
       "      <td>0.279297</td>\n",
       "      <td>0.268704</td>\n",
       "      <td>0.338567</td>\n",
       "      <td>0.292634</td>\n",
       "      <td>0.311722</td>\n",
       "      <td>0.323083</td>\n",
       "      <td>...</td>\n",
       "      <td>0.000000</td>\n",
       "      <td>0.000000</td>\n",
       "      <td>0.000000</td>\n",
       "      <td>0.000000</td>\n",
       "      <td>0.0</td>\n",
       "      <td>0.000000</td>\n",
       "      <td>0.000000</td>\n",
       "      <td>0.000000</td>\n",
       "      <td>0.000000</td>\n",
       "      <td>0.0</td>\n",
       "    </tr>\n",
       "    <tr>\n",
       "      <th>february</th>\n",
       "      <td>0.000000</td>\n",
       "      <td>0.000000</td>\n",
       "      <td>0.0</td>\n",
       "      <td>0.000000</td>\n",
       "      <td>0.000000</td>\n",
       "      <td>0.231527</td>\n",
       "      <td>0.291724</td>\n",
       "      <td>0.000000</td>\n",
       "      <td>0.000000</td>\n",
       "      <td>0.000000</td>\n",
       "      <td>...</td>\n",
       "      <td>0.000000</td>\n",
       "      <td>0.000000</td>\n",
       "      <td>0.000000</td>\n",
       "      <td>0.000000</td>\n",
       "      <td>0.0</td>\n",
       "      <td>0.000000</td>\n",
       "      <td>0.000000</td>\n",
       "      <td>0.000000</td>\n",
       "      <td>0.000000</td>\n",
       "      <td>0.0</td>\n",
       "    </tr>\n",
       "    <tr>\n",
       "      <th>wednesday</th>\n",
       "      <td>0.000000</td>\n",
       "      <td>0.191577</td>\n",
       "      <td>0.0</td>\n",
       "      <td>0.000000</td>\n",
       "      <td>0.220366</td>\n",
       "      <td>0.212008</td>\n",
       "      <td>0.267130</td>\n",
       "      <td>0.000000</td>\n",
       "      <td>0.000000</td>\n",
       "      <td>0.000000</td>\n",
       "      <td>...</td>\n",
       "      <td>0.000000</td>\n",
       "      <td>0.254195</td>\n",
       "      <td>0.000000</td>\n",
       "      <td>0.000000</td>\n",
       "      <td>0.0</td>\n",
       "      <td>0.000000</td>\n",
       "      <td>0.000000</td>\n",
       "      <td>0.000000</td>\n",
       "      <td>0.243368</td>\n",
       "      <td>0.0</td>\n",
       "    </tr>\n",
       "    <tr>\n",
       "      <th>ltd</th>\n",
       "      <td>0.000000</td>\n",
       "      <td>0.000000</td>\n",
       "      <td>0.0</td>\n",
       "      <td>0.000000</td>\n",
       "      <td>0.000000</td>\n",
       "      <td>0.000000</td>\n",
       "      <td>0.262271</td>\n",
       "      <td>0.000000</td>\n",
       "      <td>0.000000</td>\n",
       "      <td>0.000000</td>\n",
       "      <td>...</td>\n",
       "      <td>0.000000</td>\n",
       "      <td>0.249571</td>\n",
       "      <td>0.000000</td>\n",
       "      <td>0.000000</td>\n",
       "      <td>0.0</td>\n",
       "      <td>0.000000</td>\n",
       "      <td>0.290744</td>\n",
       "      <td>0.000000</td>\n",
       "      <td>0.000000</td>\n",
       "      <td>0.0</td>\n",
       "    </tr>\n",
       "    <tr>\n",
       "      <th>pty</th>\n",
       "      <td>0.000000</td>\n",
       "      <td>0.000000</td>\n",
       "      <td>0.0</td>\n",
       "      <td>0.000000</td>\n",
       "      <td>0.000000</td>\n",
       "      <td>0.000000</td>\n",
       "      <td>0.257653</td>\n",
       "      <td>0.000000</td>\n",
       "      <td>0.000000</td>\n",
       "      <td>0.000000</td>\n",
       "      <td>...</td>\n",
       "      <td>0.000000</td>\n",
       "      <td>0.245177</td>\n",
       "      <td>0.000000</td>\n",
       "      <td>0.000000</td>\n",
       "      <td>0.0</td>\n",
       "      <td>0.000000</td>\n",
       "      <td>0.285625</td>\n",
       "      <td>0.000000</td>\n",
       "      <td>0.000000</td>\n",
       "      <td>0.0</td>\n",
       "    </tr>\n",
       "    <tr>\n",
       "      <th>visa</th>\n",
       "      <td>0.087812</td>\n",
       "      <td>0.000000</td>\n",
       "      <td>0.0</td>\n",
       "      <td>0.000000</td>\n",
       "      <td>0.097023</td>\n",
       "      <td>0.093343</td>\n",
       "      <td>0.117612</td>\n",
       "      <td>0.101656</td>\n",
       "      <td>0.108287</td>\n",
       "      <td>0.112234</td>\n",
       "      <td>...</td>\n",
       "      <td>0.000000</td>\n",
       "      <td>0.111917</td>\n",
       "      <td>0.109375</td>\n",
       "      <td>0.102811</td>\n",
       "      <td>0.0</td>\n",
       "      <td>0.124961</td>\n",
       "      <td>0.130381</td>\n",
       "      <td>0.119152</td>\n",
       "      <td>0.107151</td>\n",
       "      <td>0.0</td>\n",
       "    </tr>\n",
       "    <tr>\n",
       "      <th>purchase</th>\n",
       "      <td>0.079597</td>\n",
       "      <td>0.000000</td>\n",
       "      <td>0.0</td>\n",
       "      <td>0.080009</td>\n",
       "      <td>0.087946</td>\n",
       "      <td>0.084610</td>\n",
       "      <td>0.106609</td>\n",
       "      <td>0.092145</td>\n",
       "      <td>0.098156</td>\n",
       "      <td>0.101733</td>\n",
       "      <td>...</td>\n",
       "      <td>0.101265</td>\n",
       "      <td>0.101447</td>\n",
       "      <td>0.099142</td>\n",
       "      <td>0.093192</td>\n",
       "      <td>0.0</td>\n",
       "      <td>0.113270</td>\n",
       "      <td>0.118183</td>\n",
       "      <td>0.108005</td>\n",
       "      <td>0.097126</td>\n",
       "      <td>0.0</td>\n",
       "    </tr>\n",
       "  </tbody>\n",
       "</table>\n",
       "<p>10 rows × 362 columns</p>\n",
       "</div>"
      ],
      "text/plain": [
       "                0         1    2         3         4         5         6    \\\n",
       "dodo       0.000000  0.000000  0.0  0.000000  0.000000  0.000000  0.475094   \n",
       "services   0.000000  0.000000  0.0  0.000000  0.000000  0.000000  0.475094   \n",
       "melbourne  0.000000  0.000000  0.0  0.000000  0.000000  0.000000  0.342219   \n",
       "10         0.000000  0.000000  0.0  0.254091  0.279297  0.268704  0.338567   \n",
       "february   0.000000  0.000000  0.0  0.000000  0.000000  0.231527  0.291724   \n",
       "wednesday  0.000000  0.191577  0.0  0.000000  0.220366  0.212008  0.267130   \n",
       "ltd        0.000000  0.000000  0.0  0.000000  0.000000  0.000000  0.262271   \n",
       "pty        0.000000  0.000000  0.0  0.000000  0.000000  0.000000  0.257653   \n",
       "visa       0.087812  0.000000  0.0  0.000000  0.097023  0.093343  0.117612   \n",
       "purchase   0.079597  0.000000  0.0  0.080009  0.087946  0.084610  0.106609   \n",
       "\n",
       "                7         8         9    ...       352       353       354  \\\n",
       "dodo       0.000000  0.000000  0.000000  ...  0.000000  0.000000  0.000000   \n",
       "services   0.000000  0.000000  0.000000  ...  0.000000  0.000000  0.000000   \n",
       "melbourne  0.000000  0.000000  0.000000  ...  0.000000  0.000000  0.000000   \n",
       "10         0.292634  0.311722  0.323083  ...  0.000000  0.000000  0.000000   \n",
       "february   0.000000  0.000000  0.000000  ...  0.000000  0.000000  0.000000   \n",
       "wednesday  0.000000  0.000000  0.000000  ...  0.000000  0.254195  0.000000   \n",
       "ltd        0.000000  0.000000  0.000000  ...  0.000000  0.249571  0.000000   \n",
       "pty        0.000000  0.000000  0.000000  ...  0.000000  0.245177  0.000000   \n",
       "visa       0.101656  0.108287  0.112234  ...  0.000000  0.111917  0.109375   \n",
       "purchase   0.092145  0.098156  0.101733  ...  0.101265  0.101447  0.099142   \n",
       "\n",
       "                355  356       357       358       359       360  361  \n",
       "dodo       0.000000  0.0  0.000000  0.000000  0.000000  0.000000  0.0  \n",
       "services   0.000000  0.0  0.000000  0.000000  0.000000  0.000000  0.0  \n",
       "melbourne  0.000000  0.0  0.363601  0.000000  0.000000  0.000000  0.0  \n",
       "10         0.000000  0.0  0.000000  0.000000  0.000000  0.000000  0.0  \n",
       "february   0.000000  0.0  0.000000  0.000000  0.000000  0.000000  0.0  \n",
       "wednesday  0.000000  0.0  0.000000  0.000000  0.000000  0.243368  0.0  \n",
       "ltd        0.000000  0.0  0.000000  0.290744  0.000000  0.000000  0.0  \n",
       "pty        0.000000  0.0  0.000000  0.285625  0.000000  0.000000  0.0  \n",
       "visa       0.102811  0.0  0.124961  0.130381  0.119152  0.107151  0.0  \n",
       "purchase   0.093192  0.0  0.113270  0.118183  0.108005  0.097126  0.0  \n",
       "\n",
       "[10 rows x 362 columns]"
      ]
     },
     "execution_count": 46,
     "metadata": {},
     "output_type": "execute_result"
    }
   ],
   "source": [
    "# example, top 10 identifiable words in the 7th document\n",
    "df_tfidf_km.T.nlargest(10,6)"
   ]
  },
  {
   "cell_type": "markdown",
   "id": "3bc1f232",
   "metadata": {},
   "source": [
    "We have 403 converted features to represent each transaction."
   ]
  },
  {
   "cell_type": "markdown",
   "id": "8afce741",
   "metadata": {},
   "source": [
    "## SVD\n",
    "\n",
    "With 403 sparse feature dimensions, it is likely that their euclidean distances in such high-dimensional space got computed as close together, leading to one big chunk of cluster. Dimensionalities need to be reduced.\n",
    "\n",
    "Use SVD, instead of PCA, to reduce dimensionality on sparse matrix, rather then reduce sparse to dense"
   ]
  },
  {
   "cell_type": "code",
   "execution_count": 47,
   "id": "62fbec24",
   "metadata": {},
   "outputs": [],
   "source": [
    "svd = TruncatedSVD(n_components=200, random_state=420) # reduce dimensions to half"
   ]
  },
  {
   "cell_type": "code",
   "execution_count": 48,
   "id": "e02e16a0",
   "metadata": {},
   "outputs": [
    {
     "name": "stdout",
     "output_type": "stream",
     "text": [
      "(362, 200)\n"
     ]
    },
    {
     "data": {
      "text/html": [
       "<div>\n",
       "<style scoped>\n",
       "    .dataframe tbody tr th:only-of-type {\n",
       "        vertical-align: middle;\n",
       "    }\n",
       "\n",
       "    .dataframe tbody tr th {\n",
       "        vertical-align: top;\n",
       "    }\n",
       "\n",
       "    .dataframe thead th {\n",
       "        text-align: right;\n",
       "    }\n",
       "</style>\n",
       "<table border=\"1\" class=\"dataframe\">\n",
       "  <thead>\n",
       "    <tr style=\"text-align: right;\">\n",
       "      <th></th>\n",
       "      <th>0</th>\n",
       "      <th>1</th>\n",
       "      <th>2</th>\n",
       "      <th>3</th>\n",
       "      <th>4</th>\n",
       "      <th>5</th>\n",
       "      <th>6</th>\n",
       "      <th>7</th>\n",
       "      <th>8</th>\n",
       "      <th>9</th>\n",
       "      <th>...</th>\n",
       "      <th>190</th>\n",
       "      <th>191</th>\n",
       "      <th>192</th>\n",
       "      <th>193</th>\n",
       "      <th>194</th>\n",
       "      <th>195</th>\n",
       "      <th>196</th>\n",
       "      <th>197</th>\n",
       "      <th>198</th>\n",
       "      <th>199</th>\n",
       "    </tr>\n",
       "  </thead>\n",
       "  <tbody>\n",
       "    <tr>\n",
       "      <th>0</th>\n",
       "      <td>0.759732</td>\n",
       "      <td>0.205814</td>\n",
       "      <td>-0.038051</td>\n",
       "      <td>-0.067358</td>\n",
       "      <td>0.332303</td>\n",
       "      <td>-0.165203</td>\n",
       "      <td>0.641064</td>\n",
       "      <td>-0.280005</td>\n",
       "      <td>-0.217680</td>\n",
       "      <td>-0.173655</td>\n",
       "      <td>...</td>\n",
       "      <td>0.014420</td>\n",
       "      <td>-0.002816</td>\n",
       "      <td>-0.001911</td>\n",
       "      <td>1.690349e-16</td>\n",
       "      <td>7.804298e-18</td>\n",
       "      <td>1.708112e-17</td>\n",
       "      <td>1.399884e-17</td>\n",
       "      <td>-3.208175e-17</td>\n",
       "      <td>1.899286e-17</td>\n",
       "      <td>-1.939816e-17</td>\n",
       "    </tr>\n",
       "    <tr>\n",
       "      <th>1</th>\n",
       "      <td>0.659059</td>\n",
       "      <td>0.050750</td>\n",
       "      <td>-0.028828</td>\n",
       "      <td>-0.028850</td>\n",
       "      <td>0.022601</td>\n",
       "      <td>-0.034392</td>\n",
       "      <td>-0.015930</td>\n",
       "      <td>0.031726</td>\n",
       "      <td>-0.081249</td>\n",
       "      <td>-0.031317</td>\n",
       "      <td>...</td>\n",
       "      <td>0.011696</td>\n",
       "      <td>-0.003197</td>\n",
       "      <td>0.002603</td>\n",
       "      <td>1.353084e-16</td>\n",
       "      <td>-2.276825e-17</td>\n",
       "      <td>2.255141e-17</td>\n",
       "      <td>1.387779e-17</td>\n",
       "      <td>-8.239937e-18</td>\n",
       "      <td>1.734723e-18</td>\n",
       "      <td>5.204170e-18</td>\n",
       "    </tr>\n",
       "    <tr>\n",
       "      <th>2</th>\n",
       "      <td>0.019730</td>\n",
       "      <td>0.235447</td>\n",
       "      <td>0.791544</td>\n",
       "      <td>0.213730</td>\n",
       "      <td>-0.071749</td>\n",
       "      <td>0.018387</td>\n",
       "      <td>0.079060</td>\n",
       "      <td>0.096279</td>\n",
       "      <td>-0.057776</td>\n",
       "      <td>-0.046152</td>\n",
       "      <td>...</td>\n",
       "      <td>0.009815</td>\n",
       "      <td>-0.009086</td>\n",
       "      <td>0.000878</td>\n",
       "      <td>2.428613e-17</td>\n",
       "      <td>1.387779e-17</td>\n",
       "      <td>2.081668e-17</td>\n",
       "      <td>6.938894e-18</td>\n",
       "      <td>1.040834e-17</td>\n",
       "      <td>1.561251e-17</td>\n",
       "      <td>-8.673617e-19</td>\n",
       "    </tr>\n",
       "    <tr>\n",
       "      <th>3</th>\n",
       "      <td>-0.111261</td>\n",
       "      <td>0.090307</td>\n",
       "      <td>-0.014059</td>\n",
       "      <td>-0.001286</td>\n",
       "      <td>0.089843</td>\n",
       "      <td>0.129900</td>\n",
       "      <td>-0.011763</td>\n",
       "      <td>-0.009834</td>\n",
       "      <td>-0.026777</td>\n",
       "      <td>-0.049797</td>\n",
       "      <td>...</td>\n",
       "      <td>-0.028029</td>\n",
       "      <td>0.005097</td>\n",
       "      <td>-0.000388</td>\n",
       "      <td>2.070162e-17</td>\n",
       "      <td>4.161739e-17</td>\n",
       "      <td>-5.216447e-17</td>\n",
       "      <td>-7.174886e-17</td>\n",
       "      <td>-3.116154e-17</td>\n",
       "      <td>-2.453309e-17</td>\n",
       "      <td>-5.590400e-18</td>\n",
       "    </tr>\n",
       "    <tr>\n",
       "      <th>4</th>\n",
       "      <td>-0.456336</td>\n",
       "      <td>0.153411</td>\n",
       "      <td>-0.022510</td>\n",
       "      <td>0.009658</td>\n",
       "      <td>0.063757</td>\n",
       "      <td>-0.050492</td>\n",
       "      <td>-0.078321</td>\n",
       "      <td>0.011606</td>\n",
       "      <td>-0.085660</td>\n",
       "      <td>0.003553</td>\n",
       "      <td>...</td>\n",
       "      <td>0.023371</td>\n",
       "      <td>-0.008523</td>\n",
       "      <td>-0.004101</td>\n",
       "      <td>1.734723e-17</td>\n",
       "      <td>3.989864e-17</td>\n",
       "      <td>-5.204170e-18</td>\n",
       "      <td>-3.816392e-17</td>\n",
       "      <td>9.540979e-18</td>\n",
       "      <td>-2.081668e-17</td>\n",
       "      <td>1.387779e-17</td>\n",
       "    </tr>\n",
       "  </tbody>\n",
       "</table>\n",
       "<p>5 rows × 200 columns</p>\n",
       "</div>"
      ],
      "text/plain": [
       "        0         1         2         3         4         5         6    \\\n",
       "0  0.759732  0.205814 -0.038051 -0.067358  0.332303 -0.165203  0.641064   \n",
       "1  0.659059  0.050750 -0.028828 -0.028850  0.022601 -0.034392 -0.015930   \n",
       "2  0.019730  0.235447  0.791544  0.213730 -0.071749  0.018387  0.079060   \n",
       "3 -0.111261  0.090307 -0.014059 -0.001286  0.089843  0.129900 -0.011763   \n",
       "4 -0.456336  0.153411 -0.022510  0.009658  0.063757 -0.050492 -0.078321   \n",
       "\n",
       "        7         8         9    ...       190       191       192  \\\n",
       "0 -0.280005 -0.217680 -0.173655  ...  0.014420 -0.002816 -0.001911   \n",
       "1  0.031726 -0.081249 -0.031317  ...  0.011696 -0.003197  0.002603   \n",
       "2  0.096279 -0.057776 -0.046152  ...  0.009815 -0.009086  0.000878   \n",
       "3 -0.009834 -0.026777 -0.049797  ... -0.028029  0.005097 -0.000388   \n",
       "4  0.011606 -0.085660  0.003553  ...  0.023371 -0.008523 -0.004101   \n",
       "\n",
       "            193           194           195           196           197  \\\n",
       "0  1.690349e-16  7.804298e-18  1.708112e-17  1.399884e-17 -3.208175e-17   \n",
       "1  1.353084e-16 -2.276825e-17  2.255141e-17  1.387779e-17 -8.239937e-18   \n",
       "2  2.428613e-17  1.387779e-17  2.081668e-17  6.938894e-18  1.040834e-17   \n",
       "3  2.070162e-17  4.161739e-17 -5.216447e-17 -7.174886e-17 -3.116154e-17   \n",
       "4  1.734723e-17  3.989864e-17 -5.204170e-18 -3.816392e-17  9.540979e-18   \n",
       "\n",
       "            198           199  \n",
       "0  1.899286e-17 -1.939816e-17  \n",
       "1  1.734723e-18  5.204170e-18  \n",
       "2  1.561251e-17 -8.673617e-19  \n",
       "3 -2.453309e-17 -5.590400e-18  \n",
       "4 -2.081668e-17  1.387779e-17  \n",
       "\n",
       "[5 rows x 200 columns]"
      ]
     },
     "execution_count": 48,
     "metadata": {},
     "output_type": "execute_result"
    }
   ],
   "source": [
    "df_km_svd = pd.DataFrame(svd.fit_transform(df_tfidf_km))\n",
    "print(df_km_svd.shape)\n",
    "df_km_svd.head()"
   ]
  },
  {
   "cell_type": "markdown",
   "id": "ca8839a1",
   "metadata": {},
   "source": [
    "Before running KMeans, we can try to find a potential optimal number of clusters. We use Elbow point methods in here but there are other options too."
   ]
  },
  {
   "cell_type": "code",
   "execution_count": 49,
   "id": "9a8239de",
   "metadata": {},
   "outputs": [],
   "source": [
    "n_clusters = 4"
   ]
  },
  {
   "cell_type": "code",
   "execution_count": 50,
   "id": "15ac0cab",
   "metadata": {},
   "outputs": [],
   "source": [
    "# first, get a model\n",
    "cluster_svd = KMeans(n_clusters=n_clusters,random_state=420).fit(df_km_svd)\n",
    "#cluster_svd.inertia_"
   ]
  },
  {
   "cell_type": "code",
   "execution_count": 52,
   "id": "ac138767",
   "metadata": {},
   "outputs": [
    {
     "data": {
      "image/png": "[encoded data removed]",
      "text/plain": [
       "<Figure size 432x288 with 2 Axes>"
      ]
     },
     "metadata": {},
     "output_type": "display_data"
    },
    {
     "data": {
      "text/plain": [
       "<AxesSubplot:title={'center':'Distortion Score Elbow for KMeans Clustering'}, xlabel='k', ylabel='distortion score'>"
      ]
     },
     "execution_count": 52,
     "metadata": {},
     "output_type": "execute_result"
    }
   ],
   "source": [
    "# compare across 4 attemps (2,3,4,5) to observe a turning point\n",
    "model = cluster_svd\n",
    "visualizer = KElbowVisualizer(model, k=(2,6), timings= True)\n",
    "visualizer.fit(df_tfidf_km.iloc[:,:])        # Fit data to visualizer\n",
    "visualizer.show()"
   ]
  },
  {
   "cell_type": "markdown",
   "id": "7b4ec8f8",
   "metadata": {},
   "source": [
    "It is suggestied the optimal number of clusters of the dimension-reduced dataset (200 features) is 3, not as expected.\n",
    "\n",
    "Proceed to run KMeans with pre-defined num_clusters =4, and visualize results. Use silhouette metric to measure the performance."
   ]
  },
  {
   "cell_type": "code",
   "execution_count": 53,
   "id": "14eba11f",
   "metadata": {},
   "outputs": [
    {
     "data": {
      "text/plain": [
       "0.21394706672909375"
      ]
     },
     "execution_count": 53,
     "metadata": {},
     "output_type": "execute_result"
    }
   ],
   "source": [
    "silhouette_score(df_km_svd, cluster_svd.labels_, metric='euclidean')"
   ]
  },
  {
   "cell_type": "code",
   "execution_count": 54,
   "id": "abe59d08",
   "metadata": {},
   "outputs": [
    {
     "name": "stdout",
     "output_type": "stream",
     "text": [
      "For n_clusters = 4 The average silhouette_score is : 0.21394706672909375\n"
     ]
    },
    {
     "data": {
      "image/png": "[encoded data removed]",
      "text/plain": [
       "<Figure size 432x288 with 1 Axes>"
      ]
     },
     "metadata": {
      "needs_background": "light"
     },
     "output_type": "display_data"
    }
   ],
   "source": [
    "X = df_km_svd\n",
    "clusterer = cluster_svd\n",
    "plot_silhouette_for_kmeans_clusters(X, clusterer)"
   ]
  },
  {
   "cell_type": "markdown",
   "id": "94929d2c",
   "metadata": {},
   "source": [
    "Although 4 clusters are distinguished, but low silouette score suggested strong overlappings that eventually would lead to multiple themed documents sits in one cluster. Instead of use SVD dimension reduction, try another way."
   ]
  },
  {
   "cell_type": "markdown",
   "id": "11bd7f54",
   "metadata": {},
   "source": [
    "## Variance filtering\n",
    "\n",
    "Filter out the 25% features with lowest variance, i.e. the values in these features are carrying the least amount of information."
   ]
  },
  {
   "cell_type": "code",
   "execution_count": 55,
   "id": "eed8f31d",
   "metadata": {},
   "outputs": [
    {
     "data": {
      "text/plain": [
       "(362, 301)"
      ]
     },
     "execution_count": 55,
     "metadata": {},
     "output_type": "execute_result"
    }
   ],
   "source": [
    "# filter out 25% of features according lower variance\n",
    "threshold = np.quantile(df_tfidf_km.var().values, 0.25)\n",
    "selector = VarianceThreshold(threshold)\n",
    "df_tfidf_var = selector.fit_transform(df_tfidf_km)\n",
    "df_tfidf_var.shape"
   ]
  },
  {
   "cell_type": "code",
   "execution_count": 56,
   "id": "fb7d919f",
   "metadata": {},
   "outputs": [],
   "source": [
    "cluster_var = KMeans(n_clusters=n_clusters,random_state=420).fit(df_tfidf_var)\n",
    "# cluster_var.inertia_"
   ]
  },
  {
   "cell_type": "code",
   "execution_count": 57,
   "id": "e01d6f8a",
   "metadata": {},
   "outputs": [
    {
     "data": {
      "text/plain": [
       "0.2557024186050833"
      ]
     },
     "execution_count": 57,
     "metadata": {},
     "output_type": "execute_result"
    }
   ],
   "source": [
    "silhouette_score(df_tfidf_var, cluster_var.labels_, metric='euclidean')"
   ]
  },
  {
   "cell_type": "code",
   "execution_count": 58,
   "id": "537d344a",
   "metadata": {},
   "outputs": [
    {
     "name": "stdout",
     "output_type": "stream",
     "text": [
      "For n_clusters = 4 The average silhouette_score is : 0.2557024186050833\n"
     ]
    },
    {
     "data": {
      "image/png": "[encoded data removed]",
      "text/plain": [
       "<Figure size 432x288 with 1 Axes>"
      ]
     },
     "metadata": {
      "needs_background": "light"
     },
     "output_type": "display_data"
    }
   ],
   "source": [
    "X = df_tfidf_var\n",
    "clusterer = cluster_var\n",
    "plot_silhouette_for_kmeans_clusters(X, clusterer)"
   ]
  },
  {
   "cell_type": "markdown",
   "id": "2d7c4f39",
   "metadata": {},
   "source": [
    "Almost same as the previous model off SVD filtering. However, requesting KMeans to cluster to 4 classes, it could not distinguish any cluster, just simply treated almost all data points as 1 group. \n",
    "\n",
    "We then reduce the scope of records from full 886 records to those unlabelled records only and perform 4-class clustering. And to understand what is the optimal number of clusters within the unlabelled records, we use Elbow method to compare 2 to 5 clusters options"
   ]
  },
  {
   "cell_type": "markdown",
   "id": "a9f3df99",
   "metadata": {},
   "source": [
    "There are improvements in terms of finding clustered data points. However, low silhouette coefs, around 0.21, suggest overlapping across clusters. The interpretability of clustered documents will not be good."
   ]
  },
  {
   "cell_type": "code",
   "execution_count": 59,
   "id": "1d916a06",
   "metadata": {},
   "outputs": [],
   "source": [
    "# get the results\n",
    "y_pred_var = cluster_var.labels_\n",
    "df_km['labels_km'] = y_pred_var"
   ]
  },
  {
   "cell_type": "code",
   "execution_count": 60,
   "id": "403490be",
   "metadata": {
    "scrolled": false
   },
   "outputs": [
    {
     "data": {
      "text/html": [
       "<div>\n",
       "<style scoped>\n",
       "    .dataframe tbody tr th:only-of-type {\n",
       "        vertical-align: middle;\n",
       "    }\n",
       "\n",
       "    .dataframe tbody tr th {\n",
       "        vertical-align: top;\n",
       "    }\n",
       "\n",
       "    .dataframe thead th {\n",
       "        text-align: right;\n",
       "    }\n",
       "</style>\n",
       "<table border=\"1\" class=\"dataframe\">\n",
       "  <thead>\n",
       "    <tr style=\"text-align: right;\">\n",
       "      <th></th>\n",
       "      <th>AccountId</th>\n",
       "      <th>TransactionDescription</th>\n",
       "      <th>TransactionAmount</th>\n",
       "      <th>myLabel</th>\n",
       "      <th>clean_text</th>\n",
       "      <th>Amount_scaled</th>\n",
       "      <th>labels_km</th>\n",
       "    </tr>\n",
       "  </thead>\n",
       "  <tbody>\n",
       "    <tr>\n",
       "      <th>0</th>\n",
       "      <td>773edf8c-e78f-11ec-bd51-1a25830e1bc2</td>\n",
       "      <td>visa purchase - receipt 164431 dbs*linden park primar linden park date 30/09/21 card 8322</td>\n",
       "      <td>-52.62</td>\n",
       "      <td>None</td>\n",
       "      <td>visa purchase dbs linden park primar linden park Thursday September 30</td>\n",
       "      <td>-0.755670</td>\n",
       "      <td>0</td>\n",
       "    </tr>\n",
       "    <tr>\n",
       "      <th>1</th>\n",
       "      <td>773edf8c-e78f-11ec-bd51-1a25830e1bc2</td>\n",
       "      <td>intl atmpurchase - receipt 164433 bigscoots, inc www.bigscoot foreign currency amount usd 34.95 ...</td>\n",
       "      <td>-48.76</td>\n",
       "      <td>None</td>\n",
       "      <td>intl atmpurchase bigscoots inc foreign currency amount usd Wednesday September 29</td>\n",
       "      <td>-0.656186</td>\n",
       "      <td>0</td>\n",
       "    </tr>\n",
       "    <tr>\n",
       "      <th>2</th>\n",
       "      <td>773edf8c-e78f-11ec-bd51-1a25830e1bc2</td>\n",
       "      <td>direct debit - receipt 152678 073053 ngtcraigm 75098090 to 838321094 014002</td>\n",
       "      <td>-23.30</td>\n",
       "      <td>None</td>\n",
       "      <td>direct debit ngtcraigm to Friday October 1</td>\n",
       "      <td>0.000000</td>\n",
       "      <td>2</td>\n",
       "    </tr>\n",
       "    <tr>\n",
       "      <th>3</th>\n",
       "      <td>773edf8c-e78f-11ec-bd51-1a25830e1bc2</td>\n",
       "      <td>eftpos purchase - receipt 004869 teamazing bubble te rwood date 04/10/21 card 8322</td>\n",
       "      <td>-18.90</td>\n",
       "      <td>None</td>\n",
       "      <td>eftpos purchase teamazing bubble te rwood Saturday April 10</td>\n",
       "      <td>0.113402</td>\n",
       "      <td>2</td>\n",
       "    </tr>\n",
       "    <tr>\n",
       "      <th>4</th>\n",
       "      <td>773edf8c-e78f-11ec-bd51-1a25830e1bc2</td>\n",
       "      <td>visa purchase - receipt 185431 jbm amusements evanston par date 03/10/21 card 8322</td>\n",
       "      <td>-5.40</td>\n",
       "      <td>None</td>\n",
       "      <td>visa purchase jbm amusements evanston par Wednesday March 10</td>\n",
       "      <td>0.461340</td>\n",
       "      <td>2</td>\n",
       "    </tr>\n",
       "  </tbody>\n",
       "</table>\n",
       "</div>"
      ],
      "text/plain": [
       "                              AccountId  \\\n",
       "0  773edf8c-e78f-11ec-bd51-1a25830e1bc2   \n",
       "1  773edf8c-e78f-11ec-bd51-1a25830e1bc2   \n",
       "2  773edf8c-e78f-11ec-bd51-1a25830e1bc2   \n",
       "3  773edf8c-e78f-11ec-bd51-1a25830e1bc2   \n",
       "4  773edf8c-e78f-11ec-bd51-1a25830e1bc2   \n",
       "\n",
       "                                                                                TransactionDescription  \\\n",
       "0            visa purchase - receipt 164431 dbs*linden park primar linden park date 30/09/21 card 8322   \n",
       "1  intl atmpurchase - receipt 164433 bigscoots, inc www.bigscoot foreign currency amount usd 34.95 ...   \n",
       "2                          direct debit - receipt 152678 073053 ngtcraigm 75098090 to 838321094 014002   \n",
       "3                   eftpos purchase - receipt 004869 teamazing bubble te rwood date 04/10/21 card 8322   \n",
       "4                   visa purchase - receipt 185431 jbm amusements evanston par date 03/10/21 card 8322   \n",
       "\n",
       "   TransactionAmount myLabel  \\\n",
       "0             -52.62    None   \n",
       "1             -48.76    None   \n",
       "2             -23.30    None   \n",
       "3             -18.90    None   \n",
       "4              -5.40    None   \n",
       "\n",
       "                                                                          clean_text  \\\n",
       "0             visa purchase dbs linden park primar linden park Thursday September 30   \n",
       "1  intl atmpurchase bigscoots inc foreign currency amount usd Wednesday September 29   \n",
       "2                                         direct debit ngtcraigm to Friday October 1   \n",
       "3                        eftpos purchase teamazing bubble te rwood Saturday April 10   \n",
       "4                       visa purchase jbm amusements evanston par Wednesday March 10   \n",
       "\n",
       "   Amount_scaled  labels_km  \n",
       "0      -0.755670          0  \n",
       "1      -0.656186          0  \n",
       "2       0.000000          2  \n",
       "3       0.113402          2  \n",
       "4       0.461340          2  "
      ]
     },
     "execution_count": 60,
     "metadata": {},
     "output_type": "execute_result"
    }
   ],
   "source": [
    "df_km.head()"
   ]
  },
  {
   "cell_type": "code",
   "execution_count": 61,
   "id": "22466b5c",
   "metadata": {},
   "outputs": [
    {
     "data": {
      "text/plain": [
       "5     visa purchase sport science podiatry eastwood Wednesday February 10\n",
       "10                visa purchase seymour college glen osmond Monday May 10\n",
       "17                     direct debit seymour college to Thursday October 7\n",
       "33                    direct debit seymour college to Thursday October 14\n",
       "48                    direct debit seymour college to Thursday October 21\n",
       "63                    direct debit seymour college to Thursday October 28\n",
       "74            direct debit discover energy discover to Tuesday November 2\n",
       "81                    direct debit seymour college to Thursday November 4\n",
       "94                   direct debit seymour college to Thursday November 11\n",
       "96              visa purchase adidas australia mulgrave Monday October 11\n",
       "Name: clean_text, dtype: object"
      ]
     },
     "execution_count": 61,
     "metadata": {},
     "output_type": "execute_result"
    }
   ],
   "source": [
    "df_km.loc[df_km['labels_km'] == 3, 'clean_text'].head(10) # transfer?"
   ]
  },
  {
   "cell_type": "code",
   "execution_count": 62,
   "id": "ebdaeead",
   "metadata": {},
   "outputs": [
    {
     "data": {
      "text/plain": [
       "2                           direct debit ngtcraigm to Friday October 1\n",
       "3          eftpos purchase teamazing bubble te rwood Saturday April 10\n",
       "4         visa purchase jbm amusements evanston par Wednesday March 10\n",
       "7            visa purchase sfs new royal adelai adelaide Monday May 10\n",
       "8     visa purchase didichuxing didi mobility sydney Saturday April 10\n",
       "11                  visa purchase crunchy bites adelaide Monday May 10\n",
       "12        visa purchase the hoyts corporatio norwood Saturday April 10\n",
       "13               visa purchase rahrf newsagency adelaide Monday May 10\n",
       "14              visa purchase tony and marks glenside Thursday June 10\n",
       "16                   direct debit debitssucessdf to Thursday October 7\n",
       "Name: clean_text, dtype: object"
      ]
     },
     "execution_count": 62,
     "metadata": {},
     "output_type": "execute_result"
    }
   ],
   "source": [
    "df_km.loc[df_km['labels_km'] == 2, 'clean_text'].head(10) # groceries + transfer?"
   ]
  },
  {
   "cell_type": "code",
   "execution_count": 63,
   "id": "b323f49e",
   "metadata": {},
   "outputs": [
    {
     "data": {
      "text/plain": [
       "29              force post no funds state swim to Wednesday October 13\n",
       "43                       direct debit state swim to Tuesday October 19\n",
       "65                visa purchase centrelink sydney Wednesday October 27\n",
       "83           eftpos purchase berkowitz furniture le end Tuesday May 11\n",
       "106             visa purchase dit ezyreg adelaide Thursday November 11\n",
       "122    visa purchase jetstar al ihkmpp charmaine.sk Friday November 19\n",
       "318                            visa purchase afterpay Thursday March 3\n",
       "354                 visa purchase deft strata sydney Thursday March 24\n",
       "Name: clean_text, dtype: object"
      ]
     },
     "execution_count": 63,
     "metadata": {},
     "output_type": "execute_result"
    }
   ],
   "source": [
    "df_km.loc[df_km['labels_km'] == 1, 'clean_text'].head(10) # transfer?"
   ]
  },
  {
   "cell_type": "code",
   "execution_count": 64,
   "id": "2ee52074",
   "metadata": {},
   "outputs": [
    {
     "data": {
      "text/plain": [
       "0                visa purchase dbs linden park primar linden park Thursday September 30\n",
       "1     intl atmpurchase bigscoots inc foreign currency amount usd Wednesday September 29\n",
       "6                   visa purchase dodo services pty ltd melbourne Wednesday February 10\n",
       "9                         visa purchase next gen memorial dr north adelai Monday May 10\n",
       "15                                      eftpos purchase hoi an lixstow Saturday July 10\n",
       "25                          visa purchase health at dulwich dulwich Friday September 10\n",
       "30                          visa purchase next gen taekwondo norwood Friday December 10\n",
       "37                                   eftpos purchase hoi an lixstow Saturday October 16\n",
       "45                   visa purchase next gen memorial dr north adelai Tuesday October 19\n",
       "52                                   eftpos purchase hoi an lixstow Saturday October 23\n",
       "Name: clean_text, dtype: object"
      ]
     },
     "execution_count": 64,
     "metadata": {},
     "output_type": "execute_result"
    }
   ],
   "source": [
    "df_km.loc[df_km['labels_km'] == 0, 'clean_text'].head(10) # restaurant + transfer?"
   ]
  },
  {
   "cell_type": "markdown",
   "id": "5a3af8a3",
   "metadata": {},
   "source": [
    "Clusters did not clearly distinguish classes, and have mixed classes in one cluster. Visual inspection has seen enough evidence that HC and KMeans methods could not meet the our classification requirements."
   ]
  },
  {
   "cell_type": "markdown",
   "id": "0108f415",
   "metadata": {},
   "source": [
    "# doc2vec\n",
    "\n",
    "After the unsupervised methods, we proceed to semi-supervised methods. Classifiers will be built based on known labelled data. \n",
    "\n",
    "Here we first prepare the document vectors here to be used in next section of building machine learning models on top of it."
   ]
  },
  {
   "cell_type": "code",
   "execution_count": 65,
   "id": "a5b6a38a",
   "metadata": {},
   "outputs": [
    {
     "name": "stdout",
     "output_type": "stream",
     "text": [
      "(531, 2)\n"
     ]
    },
    {
     "data": {
      "text/html": [
       "<div>\n",
       "<style scoped>\n",
       "    .dataframe tbody tr th:only-of-type {\n",
       "        vertical-align: middle;\n",
       "    }\n",
       "\n",
       "    .dataframe tbody tr th {\n",
       "        vertical-align: top;\n",
       "    }\n",
       "\n",
       "    .dataframe thead th {\n",
       "        text-align: right;\n",
       "    }\n",
       "</style>\n",
       "<table border=\"1\" class=\"dataframe\">\n",
       "  <thead>\n",
       "    <tr style=\"text-align: right;\">\n",
       "      <th></th>\n",
       "      <th>clean_text</th>\n",
       "      <th>myLabel</th>\n",
       "    </tr>\n",
       "  </thead>\n",
       "  <tbody>\n",
       "    <tr>\n",
       "      <th>0</th>\n",
       "      <td>visa purchase sfs nrah sushi sushi adelaide Wednesday September 29</td>\n",
       "      <td>restaurant</td>\n",
       "    </tr>\n",
       "    <tr>\n",
       "      <th>1</th>\n",
       "      <td>visa purchase viet hoa restaurant woodville ga Wednesday September 29</td>\n",
       "      <td>restaurant</td>\n",
       "    </tr>\n",
       "    <tr>\n",
       "      <th>2</th>\n",
       "      <td>visa purchase costco wholesale aus kilburn Wednesday September 29</td>\n",
       "      <td>groceries</td>\n",
       "    </tr>\n",
       "    <tr>\n",
       "      <th>3</th>\n",
       "      <td>visa purchase frewville cafe baker frewville Wednesday September 29</td>\n",
       "      <td>cafe</td>\n",
       "    </tr>\n",
       "    <tr>\n",
       "      <th>4</th>\n",
       "      <td>visa purchase target newton Thursday September 30</td>\n",
       "      <td>groceries</td>\n",
       "    </tr>\n",
       "  </tbody>\n",
       "</table>\n",
       "</div>"
      ],
      "text/plain": [
       "                                                              clean_text  \\\n",
       "0     visa purchase sfs nrah sushi sushi adelaide Wednesday September 29   \n",
       "1  visa purchase viet hoa restaurant woodville ga Wednesday September 29   \n",
       "2      visa purchase costco wholesale aus kilburn Wednesday September 29   \n",
       "3    visa purchase frewville cafe baker frewville Wednesday September 29   \n",
       "4                      visa purchase target newton Thursday September 30   \n",
       "\n",
       "      myLabel  \n",
       "0  restaurant  \n",
       "1  restaurant  \n",
       "2   groceries  \n",
       "3        cafe  \n",
       "4   groceries  "
      ]
     },
     "execution_count": 65,
     "metadata": {},
     "output_type": "execute_result"
    }
   ],
   "source": [
    "# use the labelled data from Known Matching step\n",
    "df_d2v = df_.loc[df_['myLabel'].notna(), ['clean_text', 'myLabel']].reset_index(drop=True)\n",
    "print(df_d2v.shape)\n",
    "df_d2v.head()"
   ]
  },
  {
   "cell_type": "code",
   "execution_count": 66,
   "id": "94a59323",
   "metadata": {},
   "outputs": [
    {
     "data": {
      "text/html": [
       "<div>\n",
       "<style scoped>\n",
       "    .dataframe tbody tr th:only-of-type {\n",
       "        vertical-align: middle;\n",
       "    }\n",
       "\n",
       "    .dataframe tbody tr th {\n",
       "        vertical-align: top;\n",
       "    }\n",
       "\n",
       "    .dataframe thead th {\n",
       "        text-align: right;\n",
       "    }\n",
       "</style>\n",
       "<table border=\"1\" class=\"dataframe\">\n",
       "  <thead>\n",
       "    <tr style=\"text-align: right;\">\n",
       "      <th></th>\n",
       "      <th>clean_text</th>\n",
       "      <th>myLabel</th>\n",
       "    </tr>\n",
       "  </thead>\n",
       "  <tbody>\n",
       "    <tr>\n",
       "      <th>0</th>\n",
       "      <td>[visa, purchase, sfs, nrah, sushi, sushi, adelaide, wednesday, september, 29]</td>\n",
       "      <td>restaurant</td>\n",
       "    </tr>\n",
       "    <tr>\n",
       "      <th>1</th>\n",
       "      <td>[visa, purchase, viet, hoa, restaurant, woodville, ga, wednesday, september, 29]</td>\n",
       "      <td>restaurant</td>\n",
       "    </tr>\n",
       "    <tr>\n",
       "      <th>2</th>\n",
       "      <td>[visa, purchase, costco, wholesale, aus, kilburn, wednesday, september, 29]</td>\n",
       "      <td>groceries</td>\n",
       "    </tr>\n",
       "    <tr>\n",
       "      <th>3</th>\n",
       "      <td>[visa, purchase, frewville, cafe, baker, frewville, wednesday, september, 29]</td>\n",
       "      <td>cafe</td>\n",
       "    </tr>\n",
       "    <tr>\n",
       "      <th>4</th>\n",
       "      <td>[visa, purchase, target, newton, thursday, september, 30]</td>\n",
       "      <td>groceries</td>\n",
       "    </tr>\n",
       "  </tbody>\n",
       "</table>\n",
       "</div>"
      ],
      "text/plain": [
       "                                                                         clean_text  \\\n",
       "0     [visa, purchase, sfs, nrah, sushi, sushi, adelaide, wednesday, september, 29]   \n",
       "1  [visa, purchase, viet, hoa, restaurant, woodville, ga, wednesday, september, 29]   \n",
       "2       [visa, purchase, costco, wholesale, aus, kilburn, wednesday, september, 29]   \n",
       "3     [visa, purchase, frewville, cafe, baker, frewville, wednesday, september, 29]   \n",
       "4                         [visa, purchase, target, newton, thursday, september, 30]   \n",
       "\n",
       "      myLabel  \n",
       "0  restaurant  \n",
       "1  restaurant  \n",
       "2   groceries  \n",
       "3        cafe  \n",
       "4   groceries  "
      ]
     },
     "execution_count": 66,
     "metadata": {},
     "output_type": "execute_result"
    }
   ],
   "source": [
    "# requires list of words instead of sentence\n",
    "df_d2v['clean_text'] = df_d2v['clean_text'].apply(lambda x: util_preprocess_to_list(x, rm_stopwords=True\n",
    "                                                                              , stem=False\n",
    "                                                                              , lemm=False\n",
    "                                                                       ))\n",
    "df_d2v.head()"
   ]
  },
  {
   "cell_type": "code",
   "execution_count": 67,
   "id": "9e7d0fa1",
   "metadata": {},
   "outputs": [],
   "source": [
    "#df_d2v['clean_text'] = df_d2v['clean_text'].apply(lambda x: simple_preprocess(x))\n",
    "# split train, test sets\n",
    "X_train, X_test, y_train, y_test = train_test_split(df_d2v['clean_text']\n",
    "                                                    , df_d2v['myLabel']\n",
    "                                                   , test_size=0.2\n",
    "                                                   ,random_state=420)"
   ]
  },
  {
   "cell_type": "code",
   "execution_count": 68,
   "id": "ea0d261d",
   "metadata": {},
   "outputs": [],
   "source": [
    "# create tagged vectors as required by d2v model\n",
    "tagged_doc_train = [doc2vec.TaggedDocument(v, [i]) \n",
    "                    for i, v in enumerate(X_train)]\n",
    "tagged_doc_test = [doc2vec.TaggedDocument(v, [i]) \n",
    "                    for i, v in enumerate(X_test)]"
   ]
  },
  {
   "cell_type": "code",
   "execution_count": 69,
   "id": "c7afbd26",
   "metadata": {},
   "outputs": [
    {
     "data": {
      "text/plain": [
       "[TaggedDocument(words=['eftpos', 'purchase', 'family', 'mart', 'sa', 'firle', 'thursday', 'december', '16'], tags=[0])]"
      ]
     },
     "execution_count": 69,
     "metadata": {},
     "output_type": "execute_result"
    }
   ],
   "source": [
    "# an example of tagged doc\n",
    "tagged_doc_train[:1]"
   ]
  },
  {
   "cell_type": "code",
   "execution_count": 70,
   "id": "10681fb0",
   "metadata": {},
   "outputs": [],
   "source": [
    "vsize = 50\n",
    "d2v_model = gensim.models.Doc2Vec(tagged_doc_train\n",
    "                                  , vector_size=vsize\n",
    "                                  , window=5\n",
    "                                  , min_count=2)"
   ]
  },
  {
   "cell_type": "code",
   "execution_count": 71,
   "id": "e801b09e",
   "metadata": {
    "scrolled": false
   },
   "outputs": [
    {
     "data": {
      "text/plain": [
       "50"
      ]
     },
     "execution_count": 71,
     "metadata": {},
     "output_type": "execute_result"
    }
   ],
   "source": [
    "# example, infer_vector for 1 word, \n",
    "len(d2v_model.infer_vector(tagged_doc_train[0].words))"
   ]
  },
  {
   "cell_type": "code",
   "execution_count": 72,
   "id": "d2fff87a",
   "metadata": {},
   "outputs": [],
   "source": [
    "# go through tagged document sets to get vectorized train, test sets ready for use by ML models\n",
    "X_train_d2v = [d2v_model.infer_vector(v.words) for v in tagged_doc_train]\n",
    "X_test_d2v = [d2v_model.infer_vector(v.words) for v in tagged_doc_test]"
   ]
  },
  {
   "cell_type": "code",
   "execution_count": 73,
   "id": "d80b061c",
   "metadata": {},
   "outputs": [
    {
     "data": {
      "text/plain": [
       "424"
      ]
     },
     "execution_count": 73,
     "metadata": {},
     "output_type": "execute_result"
    }
   ],
   "source": [
    "# train set shape\n",
    "len(X_train_d2v)"
   ]
  },
  {
   "cell_type": "markdown",
   "id": "680404bf",
   "metadata": {},
   "source": [
    "document vectors are ready to be used by ml models"
   ]
  },
  {
   "cell_type": "markdown",
   "id": "1c06c0cb",
   "metadata": {},
   "source": [
    "# ML models on doc vec & tfidf vec"
   ]
  },
  {
   "cell_type": "markdown",
   "id": "4634e5c4",
   "metadata": {},
   "source": [
    "## The idea\n",
    "\n",
    "**ML model on labelled --> predict unlabelled**\n",
    "\n",
    "1. Based on Known Matching dataset from previous step (Section 4.3), split to train set and test set with ratio 0.8:0.2, build two models\n",
    " - RF model using doc vectors\n",
    " - RF model using tfidf matrix\n",
    "\n",
    "2. Then use the models to predict unknown transactions (the rest of transactions after Known Matching labelling)"
   ]
  },
  {
   "cell_type": "markdown",
   "id": "d107eaa3",
   "metadata": {},
   "source": [
    "## RF models"
   ]
  },
  {
   "cell_type": "code",
   "execution_count": 74,
   "id": "958a3ea7",
   "metadata": {},
   "outputs": [],
   "source": [
    "# instanciate\n",
    "rf_d2v = RandomForestClassifier(random_state=420)\n",
    "rf_tfidf = RandomForestClassifier(random_state=420)"
   ]
  },
  {
   "cell_type": "code",
   "execution_count": 75,
   "id": "6939550c",
   "metadata": {},
   "outputs": [],
   "source": [
    "# prepare a separate dataset for tfidf \n",
    "# to aovid previous tfidf instances for KMeans\n",
    "df_idf = df_.loc[df_['myLabel'].notna(), ['clean_text','TransactionAmount', 'myLabel']]\n",
    "df_idf['clean_text'] = df_idf['clean_text'].apply(lambda x: util_preprocess_to_sentence(x, rm_stopwords=True\n",
    "                                                                              , stem=False\n",
    "                                                                              , lemm=False))\n",
    "# same splitting ratio\n",
    "Xtrain, Xtest, ytrain, ytest = train_test_split(df_idf['clean_text']\n",
    "                                                    , df_idf['myLabel']\n",
    "                                                   , test_size=0.2\n",
    "                                                   ,random_state=420)\n",
    "\n",
    "tfidf_ml = TFIDF().fit(Xtrain)\n",
    "X_train_tfidf = tfidf_ml.transform(Xtrain)\n",
    "X_test_tfidf = tfidf_ml.transform(Xtest)"
   ]
  },
  {
   "cell_type": "code",
   "execution_count": 76,
   "id": "e7e5dc58",
   "metadata": {},
   "outputs": [
    {
     "name": "stdout",
     "output_type": "stream",
     "text": [
      "(531, 3)\n",
      "(424, 321)\n"
     ]
    }
   ],
   "source": [
    "print(df_idf.shape)\n",
    "print(X_train_tfidf.shape)"
   ]
  },
  {
   "cell_type": "code",
   "execution_count": 77,
   "id": "28d0b7b1",
   "metadata": {},
   "outputs": [],
   "source": [
    "rf_model_d2v = rf_d2v.fit(X_train_d2v, y_train.values.ravel())\n",
    "rf_model_tfidf = rf_tfidf.fit(X_train_tfidf, y_train.values.ravel())"
   ]
  },
  {
   "cell_type": "markdown",
   "id": "8d91737d",
   "metadata": {},
   "source": [
    "## Metrics\n",
    "\n",
    "Obtain two models' confusion matrix and metrics"
   ]
  },
  {
   "cell_type": "code",
   "execution_count": 78,
   "id": "ea7b981c",
   "metadata": {},
   "outputs": [],
   "source": [
    "y_pred_d2v = rf_model_d2v.predict(X_test_d2v)\n",
    "y_pred_tfidf = rf_model_tfidf.predict(X_test_tfidf)"
   ]
  },
  {
   "cell_type": "code",
   "execution_count": 79,
   "id": "3740f635",
   "metadata": {},
   "outputs": [],
   "source": [
    "# doc2vec\n",
    "precision_d2v = precision_score(y_test, y_pred_d2v, average='micro')\n",
    "recall_d2v = recall_score(y_test, y_pred_d2v, average='micro')\n",
    "kappa_d2v = cohen_kappa_score(y_test, y_pred_d2v)\n",
    "accu_d2v = (y_pred_d2v==y_test).sum()/len(y_pred_d2v)"
   ]
  },
  {
   "cell_type": "code",
   "execution_count": 80,
   "id": "cee03448",
   "metadata": {},
   "outputs": [],
   "source": [
    "# tfidf\n",
    "precision_tfidf = precision_score(ytest, y_pred_tfidf, average='micro')\n",
    "recall_tfidf = recall_score(ytest, y_pred_tfidf, average='micro')\n",
    "kappa_tfidf = cohen_kappa_score(ytest, y_pred_tfidf)\n",
    "accu_tfidf = (y_pred_tfidf==ytest).sum()/len(y_pred_tfidf)"
   ]
  },
  {
   "cell_type": "code",
   "execution_count": 81,
   "id": "22209d7a",
   "metadata": {},
   "outputs": [
    {
     "data": {
      "text/plain": [
       "array([[ 0,  0,  1,  0,  3],\n",
       "       [ 0, 12,  0,  0, 25],\n",
       "       [ 0,  3,  1,  0,  3],\n",
       "       [ 0,  0,  0,  0,  1],\n",
       "       [ 0, 18,  0,  0, 40]], dtype=int64)"
      ]
     },
     "execution_count": 81,
     "metadata": {},
     "output_type": "execute_result"
    }
   ],
   "source": [
    "# CM of RF on d2v\n",
    "confusion_matrix(y_true=y_test, y_pred=y_pred_d2v)"
   ]
  },
  {
   "cell_type": "code",
   "execution_count": 82,
   "id": "66fd20cf",
   "metadata": {},
   "outputs": [
    {
     "data": {
      "text/plain": [
       "array([[ 4,  0,  0,  0,  0],\n",
       "       [ 0, 36,  1,  0,  0],\n",
       "       [ 0,  2,  5,  0,  0],\n",
       "       [ 0,  0,  0,  1,  0],\n",
       "       [ 0,  0,  0,  0, 58]], dtype=int64)"
      ]
     },
     "execution_count": 82,
     "metadata": {},
     "output_type": "execute_result"
    }
   ],
   "source": [
    "# CM of RF on tfidf\n",
    "confusion_matrix(y_true=ytest, y_pred=y_pred_tfidf)"
   ]
  },
  {
   "cell_type": "markdown",
   "id": "6591ad21",
   "metadata": {},
   "source": [
    "Store results"
   ]
  },
  {
   "cell_type": "code",
   "execution_count": 83,
   "id": "dd88506f",
   "metadata": {},
   "outputs": [],
   "source": [
    "# store results\n",
    "Model='rf_d2v'\n",
    "results={'Accuracy':accu_d2v, 'Precision':precision_d2v, 'Recall':recall_d2v, 'Kappa':kappa_d2v}\n",
    "storage.update({Model: {'results': results}})\n",
    "\n",
    "Model='rf_tfidf'\n",
    "results={'Accuracy':accu_tfidf, 'Precision':precision_tfidf, 'Recall':recall_tfidf, 'Kappa':kappa_tfidf}\n",
    "storage.update({Model: {'results': results}})"
   ]
  },
  {
   "cell_type": "code",
   "execution_count": 84,
   "id": "d3c61dde",
   "metadata": {
    "scrolled": true
   },
   "outputs": [
    {
     "data": {
      "text/plain": [
       "[('rf_d2v',\n",
       "  {'results': {'Accuracy': 0.4953271028037383,\n",
       "    'Precision': 0.4953271028037383,\n",
       "    'Recall': 0.4953271028037383,\n",
       "    'Kappa': 0.04306061609804568}}),\n",
       " ('rf_tfidf',\n",
       "  {'results': {'Accuracy': 0.9719626168224299,\n",
       "    'Precision': 0.9719626168224299,\n",
       "    'Recall': 0.9719626168224299,\n",
       "    'Kappa': 0.9515105740181269}})]"
      ]
     },
     "execution_count": 84,
     "metadata": {},
     "output_type": "execute_result"
    }
   ],
   "source": [
    "# results\n",
    "list(storage.items())"
   ]
  },
  {
   "cell_type": "markdown",
   "id": "e5f71006",
   "metadata": {},
   "source": [
    "- RF using doc vectors 0.495, with 2 classes not learned, *cafe* and *salary*\n",
    "- RF using tfidf matrix 0.97, with all 5 classes learned"
   ]
  },
  {
   "cell_type": "markdown",
   "id": "14a8e5c6",
   "metadata": {},
   "source": [
    "ROC curve and AUC\n",
    "\n",
    "classes 0,1,2,3,4 corresponds to['cafe','groceries', 'restaurant', 'salary','transfer']"
   ]
  },
  {
   "cell_type": "code",
   "execution_count": 85,
   "id": "577f82bb",
   "metadata": {},
   "outputs": [
    {
     "data": {
      "image/png": "[encoded data removed]",
      "text/plain": [
       "<Figure size 720x432 with 1 Axes>"
      ]
     },
     "metadata": {
      "needs_background": "light"
     },
     "output_type": "display_data"
    }
   ],
   "source": [
    "# rf on d2v\n",
    "model = rf_model_d2v\n",
    "xt = X_test_d2v\n",
    "yt = y_test\n",
    "plot_roc_for_multiclass_classification(model,xt,yt) # classes=['cafe','groceries', 'restaurant', 'salary','transfer']"
   ]
  },
  {
   "cell_type": "code",
   "execution_count": 86,
   "id": "7e8fd8e3",
   "metadata": {},
   "outputs": [
    {
     "data": {
      "image/png": "[encoded data removed]",
      "text/plain": [
       "<Figure size 720x432 with 1 Axes>"
      ]
     },
     "metadata": {
      "needs_background": "light"
     },
     "output_type": "display_data"
    }
   ],
   "source": [
    "# rf on tfidf\n",
    "model = rf_model_tfidf\n",
    "xt = X_test_tfidf\n",
    "yt = ytest\n",
    "plot_roc_for_multiclass_classification(model,xt,yt) # classes=['cafe','groceries', 'restaurant', 'salary','transfer']"
   ]
  },
  {
   "cell_type": "markdown",
   "id": "4fe5eeba",
   "metadata": {},
   "source": [
    "Big difference between the 2 models, on all metrics."
   ]
  },
  {
   "cell_type": "markdown",
   "id": "bc23bb06",
   "metadata": {},
   "source": [
    "## Test on unknown transactions"
   ]
  },
  {
   "cell_type": "markdown",
   "id": "d2c20f39",
   "metadata": {},
   "source": [
    "Retrieve unknown dataset\n",
    "- `myLabel` = None"
   ]
  },
  {
   "cell_type": "code",
   "execution_count": 87,
   "id": "84e70901",
   "metadata": {},
   "outputs": [
    {
     "data": {
      "text/html": [
       "<div>\n",
       "<style scoped>\n",
       "    .dataframe tbody tr th:only-of-type {\n",
       "        vertical-align: middle;\n",
       "    }\n",
       "\n",
       "    .dataframe tbody tr th {\n",
       "        vertical-align: top;\n",
       "    }\n",
       "\n",
       "    .dataframe thead th {\n",
       "        text-align: right;\n",
       "    }\n",
       "</style>\n",
       "<table border=\"1\" class=\"dataframe\">\n",
       "  <thead>\n",
       "    <tr style=\"text-align: right;\">\n",
       "      <th></th>\n",
       "      <th>TransactionDescription</th>\n",
       "      <th>clean_text</th>\n",
       "      <th>myLabel</th>\n",
       "    </tr>\n",
       "  </thead>\n",
       "  <tbody>\n",
       "    <tr>\n",
       "      <th>0</th>\n",
       "      <td>visa purchase - receipt 164431 dbs*linden park primar linden park date 30/09/21 card 8322</td>\n",
       "      <td>visa purchase dbs linden park primar linden park Thursday September 30</td>\n",
       "      <td>None</td>\n",
       "    </tr>\n",
       "    <tr>\n",
       "      <th>1</th>\n",
       "      <td>intl atmpurchase - receipt 164433 bigscoots, inc www.bigscoot foreign currency amount usd 34.95 ...</td>\n",
       "      <td>intl atmpurchase bigscoots inc foreign currency amount usd Wednesday September 29</td>\n",
       "      <td>None</td>\n",
       "    </tr>\n",
       "    <tr>\n",
       "      <th>2</th>\n",
       "      <td>direct debit - receipt 152678 073053 ngtcraigm 75098090 to 838321094 014002</td>\n",
       "      <td>direct debit ngtcraigm to Friday October 1</td>\n",
       "      <td>None</td>\n",
       "    </tr>\n",
       "    <tr>\n",
       "      <th>3</th>\n",
       "      <td>eftpos purchase - receipt 004869 teamazing bubble te rwood date 04/10/21 card 8322</td>\n",
       "      <td>eftpos purchase teamazing bubble te rwood Saturday April 10</td>\n",
       "      <td>None</td>\n",
       "    </tr>\n",
       "    <tr>\n",
       "      <th>4</th>\n",
       "      <td>visa purchase - receipt 185431 jbm amusements evanston par date 03/10/21 card 8322</td>\n",
       "      <td>visa purchase jbm amusements evanston par Wednesday March 10</td>\n",
       "      <td>None</td>\n",
       "    </tr>\n",
       "  </tbody>\n",
       "</table>\n",
       "</div>"
      ],
      "text/plain": [
       "                                                                                TransactionDescription  \\\n",
       "0            visa purchase - receipt 164431 dbs*linden park primar linden park date 30/09/21 card 8322   \n",
       "1  intl atmpurchase - receipt 164433 bigscoots, inc www.bigscoot foreign currency amount usd 34.95 ...   \n",
       "2                          direct debit - receipt 152678 073053 ngtcraigm 75098090 to 838321094 014002   \n",
       "3                   eftpos purchase - receipt 004869 teamazing bubble te rwood date 04/10/21 card 8322   \n",
       "4                   visa purchase - receipt 185431 jbm amusements evanston par date 03/10/21 card 8322   \n",
       "\n",
       "                                                                          clean_text  \\\n",
       "0             visa purchase dbs linden park primar linden park Thursday September 30   \n",
       "1  intl atmpurchase bigscoots inc foreign currency amount usd Wednesday September 29   \n",
       "2                                         direct debit ngtcraigm to Friday October 1   \n",
       "3                        eftpos purchase teamazing bubble te rwood Saturday April 10   \n",
       "4                       visa purchase jbm amusements evanston par Wednesday March 10   \n",
       "\n",
       "  myLabel  \n",
       "0    None  \n",
       "1    None  \n",
       "2    None  \n",
       "3    None  \n",
       "4    None  "
      ]
     },
     "execution_count": 87,
     "metadata": {},
     "output_type": "execute_result"
    }
   ],
   "source": [
    "# retrieve unknown dataset\n",
    "df_unknown = df_.loc[df_['myLabel'].isna(), ['TransactionDescription','clean_text', 'myLabel']].reset_index(drop=True)\n",
    "df_unknown.head()"
   ]
  },
  {
   "cell_type": "code",
   "execution_count": 88,
   "id": "1cdb09e4",
   "metadata": {},
   "outputs": [
    {
     "name": "stdout",
     "output_type": "stream",
     "text": [
      "['transfer']\n"
     ]
    }
   ],
   "source": [
    "# predict with doc2vec vectorization\n",
    "new_ = ['visa purchase - receipt 164431 dbs*linden park primar linden park date 30/09/21 card 8322']\n",
    "new_ = util_initialclean(new_[0])\n",
    "clean = util_preprocess_to_list(new_, stem=False)\n",
    "tagged = [gensim.models.doc2vec.TaggedDocument(clean, 0)]\n",
    "vector = [d2v_model.infer_vector(tagged[0].words)]\n",
    "pred = rf_model_d2v.predict(vector)\n",
    "print(pred)"
   ]
  },
  {
   "cell_type": "code",
   "execution_count": 89,
   "id": "743ecc37",
   "metadata": {},
   "outputs": [
    {
     "name": "stdout",
     "output_type": "stream",
     "text": [
      "['groceries']\n"
     ]
    }
   ],
   "source": [
    "# predict with doc2vec vectorization\n",
    "new_ = ['direct debit - receipt 152678 073053 ngtcraigm 75098090 to 838321094 014002']\n",
    "new_ = util_initialclean(new_[0])\n",
    "clean = util_preprocess_to_list(new_, stem=False)\n",
    "tagged = [gensim.models.doc2vec.TaggedDocument(clean, 0)]\n",
    "vector = [d2v_model.infer_vector(tagged[0].words)]\n",
    "pred = rf_model_d2v.predict(vector)\n",
    "print(pred)"
   ]
  },
  {
   "cell_type": "code",
   "execution_count": 90,
   "id": "45bf840a",
   "metadata": {},
   "outputs": [
    {
     "name": "stdout",
     "output_type": "stream",
     "text": [
      "['groceries']\n"
     ]
    }
   ],
   "source": [
    "# predict with doc2vec vectorization\n",
    "new_ = ['visa purchase - receipt 185431 jbm amusements evanston par date 03/10/21 card 8322']\n",
    "new_ = util_initialclean(new_[0])\n",
    "clean = util_preprocess_to_list(new_, stem=False)\n",
    "tagged = [gensim.models.doc2vec.TaggedDocument(clean, 0)]\n",
    "vector = [d2v_model.infer_vector(tagged[0].words)]\n",
    "pred = rf_model_d2v.predict(vector)\n",
    "print(pred)"
   ]
  },
  {
   "cell_type": "code",
   "execution_count": 91,
   "id": "82dc9996",
   "metadata": {},
   "outputs": [
    {
     "name": "stdout",
     "output_type": "stream",
     "text": [
      "['groceries']\n"
     ]
    }
   ],
   "source": [
    "# predict with doc2vec vectorization\n",
    "new_ = df_unknown['TransactionDescription'][1]\n",
    "new_ = util_initialclean(new_[0])\n",
    "clean = util_preprocess_to_list(new_, stem=False)\n",
    "tagged = [gensim.models.doc2vec.TaggedDocument(clean, 0)]\n",
    "vector = [d2v_model.infer_vector(tagged[0].words)]\n",
    "pred = rf_model_d2v.predict(vector)\n",
    "print(pred)"
   ]
  },
  {
   "cell_type": "code",
   "execution_count": 92,
   "id": "225f2285",
   "metadata": {},
   "outputs": [
    {
     "name": "stdout",
     "output_type": "stream",
     "text": [
      "['groceries']\n"
     ]
    }
   ],
   "source": [
    "# predict with TF-IDF vectorization\n",
    "new_ = ['visa purchase - receipt 164431 dbs*linden park primar linden park date 30/09/21 card 8322']\n",
    "vector = tfidf_ml.transform(new_)\n",
    "pred = rf_model_tfidf.predict(vector)\n",
    "print(pred)"
   ]
  },
  {
   "cell_type": "code",
   "execution_count": 93,
   "id": "88c2166a",
   "metadata": {},
   "outputs": [
    {
     "name": "stdout",
     "output_type": "stream",
     "text": [
      "['transfer']\n"
     ]
    }
   ],
   "source": [
    "new_ = ['direct debit - receipt 152678 073053 ngtcraigm 75098090 to 838321094 014002']\n",
    "vector = tfidf_ml.transform(new_)\n",
    "pred = rf_model_tfidf.predict(vector)\n",
    "print(pred)"
   ]
  },
  {
   "cell_type": "code",
   "execution_count": 94,
   "id": "f6a1686e",
   "metadata": {},
   "outputs": [
    {
     "name": "stdout",
     "output_type": "stream",
     "text": [
      "['groceries']\n"
     ]
    }
   ],
   "source": [
    "new_ = ['visa purchase - receipt 185431 jbm amusements evanston par date 03/10/21 card 8322']\n",
    "vector = tfidf_ml.transform(new_)\n",
    "pred = rf_model_tfidf.predict(vector)\n",
    "print(pred)"
   ]
  },
  {
   "cell_type": "code",
   "execution_count": 95,
   "id": "8d923f66",
   "metadata": {},
   "outputs": [
    {
     "name": "stdout",
     "output_type": "stream",
     "text": [
      "['transfer']\n"
     ]
    }
   ],
   "source": [
    "new_ = [df_unknown['TransactionDescription'][1]]\n",
    "vector = tfidf_ml.transform(new_)\n",
    "pred = rf_model_tfidf.predict(vector)\n",
    "print(pred)"
   ]
  },
  {
   "cell_type": "code",
   "execution_count": 96,
   "id": "fa820012",
   "metadata": {
    "scrolled": true
   },
   "outputs": [
    {
     "data": {
      "text/plain": [
       "'intl atmpurchase - receipt 164433 bigscoots, inc www.bigscoot foreign currency amount usd 34.95 date 29/09/21 card 3689'"
      ]
     },
     "execution_count": 96,
     "metadata": {},
     "output_type": "execute_result"
    }
   ],
   "source": [
    "df_unknown['TransactionDescription'][1]"
   ]
  },
  {
   "cell_type": "markdown",
   "id": "9daad78b",
   "metadata": {},
   "source": [
    "RF model or other ML algorithms return final classifrication decision by using sigmoid function to compress prediction to a probability. There are other ML options such as probability-based Naive Bayes to directly compute probability between feature and label. Next, instead of trying these methods, we try to solve the problem from another perspecitve using RNN and Attention mechinism. "
   ]
  },
  {
   "cell_type": "markdown",
   "id": "3d406178",
   "metadata": {},
   "source": [
    "# RNN model on sequences"
   ]
  },
  {
   "cell_type": "markdown",
   "id": "ae8ab9f2",
   "metadata": {},
   "source": [
    "Continue semi-supervised approach, move on to RNN model, BiLSTM"
   ]
  },
  {
   "cell_type": "code",
   "execution_count": 97,
   "id": "83e4a480",
   "metadata": {},
   "outputs": [],
   "source": [
    "# define a callback parameter\n",
    "threshold = 0.75\n",
    "class myCallback(tf.keras.callbacks.Callback):\n",
    "    def on_epoch_end(self, epoch, logs={}):\n",
    "        if(logs.get('val_cohen_kappa') > threshold):\n",
    "            print(\"\\nReached %2.2f%% kappa, so stopping training!!\" %(threshold*100))\n",
    "            self.model.stop_training = True\n",
    "\n",
    "# Instantiate a callback object\n",
    "callbacks = myCallback()"
   ]
  },
  {
   "cell_type": "markdown",
   "id": "7cc6a6e3",
   "metadata": {},
   "source": [
    "Prep data"
   ]
  },
  {
   "cell_type": "code",
   "execution_count": 98,
   "id": "7787c6da",
   "metadata": {},
   "outputs": [],
   "source": [
    "# prep data\n",
    "df_rnn = df_.loc[df_['myLabel'].notna(), ['clean_text','TransactionAmount', 'myLabel']].reset_index(drop=True)\n",
    "df_rnn['clean_text'] = df_rnn['clean_text'].apply(lambda x: util_preprocess_to_sentence(x\n",
    "                                                          , rm_stopwords=True\n",
    "                                                           , stem=False\n",
    "                                                           , lemm=False))"
   ]
  },
  {
   "cell_type": "code",
   "execution_count": 99,
   "id": "2f67c1ed",
   "metadata": {},
   "outputs": [],
   "source": [
    "vocab_size = 400\n",
    "tokenizer = Tokenizer(num_words=vocab_size, oov_token='<UNK>')\n",
    "tokenizer.fit_on_texts(df_rnn['clean_text'])"
   ]
  },
  {
   "cell_type": "code",
   "execution_count": 100,
   "id": "61009f1c",
   "metadata": {
    "scrolled": true
   },
   "outputs": [
    {
     "name": "stdout",
     "output_type": "stream",
     "text": [
      "Unique tokens: 363\n",
      "{'<UNK>': 1, 'purchase': 2, 'visa': 3, 'transfer': 4, 'monday': 5, 'thursday': 6, 'osko': 7, 'december': 8, 'internal': 9, 'november': 10, 'savings': 11, 'maximiser': 12, 'february': 13, 'from': 14, 'january': 15, 'glenside': 16, 'to': 17, 'march': 18, 'saturday': 19, 'wednesday': 20, 'october': 21, 'tuesday': 22, 'friday': 23, 'coles': 24, 'deposit': 25, 'sunday': 26, 'frewville': 27, 'payment': 28, 'kye': 29, 'oon': 30, 'eftpos': 31, 'cheong': 32, 'kilburn': 33, 'fee': 34, 'atm': 35, '3': 36, '10': 37, '11': 38, 'mrs': 39, 'costco': 40, '17': 41, 'adelaide': 42, '1': 43, '12': 44, '22': 45, '13': 46, '2': 47, '16': 48, '21': 49, '29': 50, 'wholesale': 51, 'minseok': 52, 'otr': 53, '24': 54, 'bunnings': 55, 'mart': 56, 'aus': 57, 'intl': 58, 'transaction': 59, 'cash': 60, 'mr': 61, 'rebate': 62, '7': 63, '14': 64, '27': 65, 'song': 66, 'foodland': 67, 'park': 68, '23': 69, '25': 70, '15': 71, 'firle': 72, '31': 73, 'pty': 74, 'ltd': 75, '26': 76, 'sushi': 77, 'september': 78, 'mcdonalds': 79, 'the': 80, '18': 81, 'kent': 82, 'town': 83, 'linden': 84, 'kippax': 85, 'cashback': 86, 'june': 87, '8': 88, 'refund': 89, 'for': 90, 'kensington': 91, '28': 92, 'sydney': 93, 'withdrawal': 94, 'burnside': 95, 'kfc': 96, 'pay': 97, 'anyone': 98, '5': 99, 'we': 100, 'paid': 101, 'you': 102, 'kmart': 103, 'happy': 104, 'enside': 105, 'aldinga': 106, 'baker': 107, 'home': 108, 'salary': 109, 'april': 110, 'may': 111, 'cashout': 112, '19': 113, 'eastwood': 114, 'lucky': 115, '20': 116, 'cafe': 117, '30': 118, 'p': 119, 'bill': 120, 'ho': 121, 'choi': 122, 'aldi': 123, 'stores': 124, 'owner': 125, 'of': 126, 'charge': 127, 'by': 128, 'bakers': 129, 'delight': 130, 'burns': 131, 'sa': 132, 'tictoc': 133, 'loans': 134, 'norwood': 135, 'july': 136, 'fuel': 137, 'm': 138, 'with': 139, 'amount': 140, 's': 141, 'au': 142, 'apple': 143, 'woolworths': 144, 'dulwich': 145, 'np': 146, 'oe': 147, '4': 148, 'mile': 149, 'end': 150, 'austr': 151, 'august': 152, 'prk': 153, 'glynde': 154, 'hub': 155, 'al': 156, 'felixstow': 157, '9': 158, 'settle': 159, 'fullarton': 160, 'target': 161, 'j': 162, 'coffee': 163, 'shop': 164, 'and': 165, 'cheese': 166, 'online': 167, 'ikea': 168, 'family': 169, 'sun': 170, 'app': 171, 'trinity': 172, '6': 173, 'huk': 174, 'ju': 175, 'byun': 176, 'oky': 177, 'food': 178, 'fam': 179, 'tst': 180, 'glen': 181, 'osmon': 182, 'loan': 183, 'newton': 184, 'west': 185, 'terrac': 186, 'bc': 187, 'energy': 188, 'bean': 189, 'welland': 190, 'han': 191, 'village': 192, 'noorsamsilla': 193, 'saad': 194, 'llarton': 195, 'gard': 196, 'coastal': 197, 'parks': 198, 'port': 199, 'wil': 200, 'sfs': 201, 'nrah': 202, 'viet': 203, 'hoa': 204, 'restaurant': 205, 'woodville': 206, 'ga': 207, 'goodwood': 208, 'cumberland': 209, 'r': 210, 'alinta': 211, 'orange': 212, 'everyday': 213, 'kens': 214, 'marryatville': 215, 'donnellan': 216, 'l': 217, 'im': 218, 'cy': 219, 'reversal': 220, 'direct': 221, 'debit': 222, 'dong': 223, 'cynthia': 224, 'post': 225, 'pasadena': 226, 'esmartdelivery': 227, 'com': 228, 'ccs': 229, 'glenelg': 230, 'eastern': 231, 'bar': 232, 'beulah': 233, 'grocer': 234, 'kim': 235, 'on': 236, 'jjb': 237, 'pl': 238, 'atf': 239, 'hong': 240, 'trust': 241, 'ta': 242, 'k': 243, 'collinswood': 244, 'pharmacy': 245, 'kensingt': 246, 'rryatville': 247, 'out': 248, 'bonus': 249, 'mobile': 250, 'glenunga': 251, 'jang': 252, 'repay': 253, 'bakery': 254, 'air': 255, 'big': 256, 'road': 257, 'prospect': 258, 'bpay': 259, 'gas': 260, 'blog': 261, 'miyabi': 262, 'shanahan': 263, 'amznprimeau': 264, 'membership': 265, 'south': 266, 'state': 267, 'swim': 268, 'do': 269, 'rasg': 270, 'rarasg': 271, 'rahs': 272, 'event': 273, 'shontelle': 274, 'maio': 275, 'apost': 276, 'shopping': 277, 'lidcombe': 278, 'nick': 279, 'scali': 280, 'pilyeon': 281, 'roller': 282, 'baldivis': 283, 'eunhyang': 284, 'oh': 285, 'myer': 286, 'docklands': 287, 'smore': 288, 'irida': 289, 'trishani': 290, 'bella': 291, 'vista': 292, 'bora': 293, 'nicholas': 294, 'hall': 295, 'yess': 296, 'appliance': 297, 'jae': 298, 'hun': 299, 'lee': 300, 'ynde': 301, 'cha': 302, 'king': 303, 'william': 304, 'bch': 305, 'save': 306, 'european': 307, 'grocery': 308, 'rth': 309, 'plympton': 310, 'sq': 311, 'cozy': 312, 'cake': 313, 'elaide': 314, 'women': 315, 'childrens': 316, 'goodness': 317, 'co': 318, 'market': 319, 'plaza': 320, 'kwanghun': 321, 'hungry': 322, 'jacks': 323, 'w': 324, 'universal': 325, 'textiles': 326, 'internet': 327, 'ewville': 328, 'bertram': 329, 'hawker': 330, 'kindergarten': 331, 'moving': 332, 'lin': 333, 'yinghua': 334, 'sync': 335, 'gen': 336, 'young': 337, 'jai': 338, 'cbs': 339, 'tenancies': 340, 'bond': 341, 'cba': 342, 'ryl': 343, 'adel': 344, 'hosp': 345, 'a': 346, 'bob': 347, 'jane': 348, 't': 349, 'marts': 350, 'frewv': 351, 'gardens': 352, 'hyeong': 353, 'soo': 354, 'fishbank': 355, 'smiling': 356, 'luo': 357, 'hawthorn': 358, 'eas': 359, 'discover': 360, 'ebay': 361, 'generation': 362, 'trees': 363}\n"
     ]
    }
   ],
   "source": [
    "print('Unique tokens: {}'.format(len(tokenizer.index_word)))\n",
    "print(tokenizer.word_index)"
   ]
  },
  {
   "cell_type": "code",
   "execution_count": 101,
   "id": "40f18c1c",
   "metadata": {},
   "outputs": [
    {
     "name": "stdout",
     "output_type": "stream",
     "text": [
      "(531, 13)\n"
     ]
    },
    {
     "data": {
      "image/png": "[encoded data removed]",
      "text/plain": [
       "<Figure size 432x288 with 1 Axes>"
      ]
     },
     "metadata": {
      "needs_background": "light"
     },
     "output_type": "display_data"
    },
    {
     "name": "stdout",
     "output_type": "stream",
     "text": [
      "vocab_size: 400\n",
      "maxlen: 13\n",
      "Embedding dim: 5\n",
      "\n",
      "x_train shape: (371, 13)\ty_train shape: (371, 5)\n",
      "x_test shape: (160, 13)\ty_test shape: (160, 5)\n",
      "\n"
     ]
    }
   ],
   "source": [
    "# Set parameters\n",
    "maxlen = 13\n",
    "embed_dim = 5 # 400**0.25\n",
    "num_class = df_rnn['myLabel'].nunique()\n",
    "\n",
    "# fix X\n",
    "X_seq = tokenizer.texts_to_sequences(df_rnn['clean_text'].values)\n",
    "X = pad_sequences(X_seq, maxlen)\n",
    "print(X.shape)\n",
    "\n",
    "# plot sequence plus padded sequence\n",
    "sns.heatmap(X==0, vmin=0, vmax=1, cbar=False)\n",
    "plt.show()\n",
    "\n",
    "# fix Y\n",
    "Y = pd.get_dummies(df_rnn['myLabel']).values\n",
    "print('vocab_size: {}\\nmaxlen: {}\\nEmbedding dim: {}\\n'.format(vocab_size, maxlen, embed_dim))\n",
    "\n",
    "# split\n",
    "x_train_rnn, x_test_rnn, y_train_rnn, y_test_rnn = train_test_split(X, Y, test_size = 0.3, random_state=420)\n",
    "print('x_train shape: {}\\ty_train shape: {}\\nx_test shape: {}\\ty_test shape: {}\\n'.format(\n",
    "    x_train_rnn.shape, y_train_rnn.shape, x_test_rnn.shape, y_test_rnn.shape))\n"
   ]
  },
  {
   "cell_type": "markdown",
   "id": "4843fd06",
   "metadata": {},
   "source": [
    "Illustrated padded sequences of each document, that eventually have same length of maxlen=13"
   ]
  },
  {
   "cell_type": "code",
   "execution_count": 102,
   "id": "3c02677f",
   "metadata": {
    "scrolled": true
   },
   "outputs": [
    {
     "name": "stdout",
     "output_type": "stream",
     "text": [
      "visa purchase viet hoa restaurant woodville ga Wednesday September 29\n",
      "[3, 2, 203, 204, 205, 206, 207, 20, 78, 50]\n",
      "[  0   0   0   3   2 203 204 205 206 207  20  78  50]\n"
     ]
    }
   ],
   "source": [
    "# example of one document\n",
    "print(df_rnn['clean_text'][1])\n",
    "print(X_seq[1])\n",
    "print(X[1])"
   ]
  },
  {
   "cell_type": "markdown",
   "id": "fef9e252",
   "metadata": {},
   "source": [
    "## BiLSTM model\n",
    "\n",
    "![bilstm](https://github.com/ericwanga/categorise-bank-transaction/blob/main/img/BiLSTM.jpg?raw=true)"
   ]
  },
  {
   "cell_type": "code",
   "execution_count": 103,
   "id": "2732b953",
   "metadata": {
    "scrolled": false
   },
   "outputs": [
    {
     "name": "stdout",
     "output_type": "stream",
     "text": [
      "400 5 13\n",
      "Model: \"sequential\"\n",
      "_________________________________________________________________\n",
      " Layer (type)                Output Shape              Param #   \n",
      "=================================================================\n",
      " embedding (Embedding)       (None, 13, 5)             2005      \n",
      "                                                                 \n",
      " bidirectional (Bidirectiona  (None, 128)              35840     \n",
      " l)                                                              \n",
      "                                                                 \n",
      " dense (Dense)               (None, 64)                8256      \n",
      "                                                                 \n",
      " dense_1 (Dense)             (None, 5)                 325       \n",
      "                                                                 \n",
      "=================================================================\n",
      "Total params: 46,426\n",
      "Trainable params: 46,426\n",
      "Non-trainable params: 0\n",
      "_________________________________________________________________\n",
      "None\n",
      "Epoch 1/15\n",
      "12/12 [==============================] - 6s 149ms/step - loss: 1.5669 - accuracy: 0.4609 - f1_score: 0.3553 - cohen_kappa: 0.0328 - val_loss: 1.4758 - val_accuracy: 0.5188 - val_f1_score: 0.3842 - val_cohen_kappa: 0.0667\n",
      "Epoch 2/15\n",
      "12/12 [==============================] - 0s 14ms/step - loss: 1.2917 - accuracy: 0.5391 - f1_score: 0.5036 - cohen_kappa: 0.1795 - val_loss: 1.1131 - val_accuracy: 0.4875 - val_f1_score: 0.3195 - val_cohen_kappa: 0.0000e+00\n",
      "Epoch 3/15\n",
      "12/12 [==============================] - 0s 14ms/step - loss: 1.1673 - accuracy: 0.4825 - f1_score: 0.3141 - cohen_kappa: 0.0000e+00 - val_loss: 1.0982 - val_accuracy: 0.4875 - val_f1_score: 0.3195 - val_cohen_kappa: 0.0000e+00\n",
      "Epoch 4/15\n",
      "12/12 [==============================] - 0s 11ms/step - loss: 1.1013 - accuracy: 0.4825 - f1_score: 0.3141 - cohen_kappa: 0.0000e+00 - val_loss: 1.0723 - val_accuracy: 0.4875 - val_f1_score: 0.3195 - val_cohen_kappa: 0.0000e+00\n",
      "Epoch 5/15\n",
      "12/12 [==============================] - 0s 13ms/step - loss: 1.0607 - accuracy: 0.4825 - f1_score: 0.3141 - cohen_kappa: 0.0000e+00 - val_loss: 1.0436 - val_accuracy: 0.4875 - val_f1_score: 0.3195 - val_cohen_kappa: 0.0000e+00\n",
      "Epoch 6/15\n",
      "12/12 [==============================] - 0s 13ms/step - loss: 1.0088 - accuracy: 0.4852 - f1_score: 0.3200 - cohen_kappa: 0.0057 - val_loss: 0.9431 - val_accuracy: 0.6500 - val_f1_score: 0.5877 - val_cohen_kappa: 0.3381\n",
      "Epoch 7/15\n",
      "12/12 [==============================] - 0s 13ms/step - loss: 0.7650 - accuracy: 0.8302 - f1_score: 0.7734 - cohen_kappa: 0.6945 - val_loss: 0.5284 - val_accuracy: 0.8625 - val_f1_score: 0.8103 - val_cohen_kappa: 0.7566\n",
      "Epoch 8/15\n",
      "12/12 [==============================] - 0s 16ms/step - loss: 0.4507 - accuracy: 0.8491 - f1_score: 0.7960 - cohen_kappa: 0.7329 - val_loss: 0.4134 - val_accuracy: 0.8625 - val_f1_score: 0.8103 - val_cohen_kappa: 0.7566\n",
      "Epoch 9/15\n",
      "12/12 [==============================] - 0s 13ms/step - loss: 0.3526 - accuracy: 0.8679 - f1_score: 0.8131 - cohen_kappa: 0.7659 - val_loss: 0.3721 - val_accuracy: 0.8625 - val_f1_score: 0.8103 - val_cohen_kappa: 0.7566\n",
      "Epoch 10/15\n",
      "12/12 [==============================] - 0s 12ms/step - loss: 0.2850 - accuracy: 0.8733 - f1_score: 0.8188 - cohen_kappa: 0.7758 - val_loss: 0.3051 - val_accuracy: 0.8625 - val_f1_score: 0.8081 - val_cohen_kappa: 0.7556\n",
      "Epoch 11/15\n",
      "12/12 [==============================] - 0s 12ms/step - loss: 0.2352 - accuracy: 0.8733 - f1_score: 0.8185 - cohen_kappa: 0.7757 - val_loss: 0.2673 - val_accuracy: 0.8625 - val_f1_score: 0.8075 - val_cohen_kappa: 0.7553\n",
      "Epoch 12/15\n",
      " 8/12 [===================>..........] - ETA: 0s - loss: 0.1813 - accuracy: 0.8984 - f1_score: 0.8673 - cohen_kappa: 0.8216\n",
      "Reached 80.00% kappa, so stopping training!!\n",
      "12/12 [==============================] - 0s 12ms/step - loss: 0.1940 - accuracy: 0.8922 - f1_score: 0.8629 - cohen_kappa: 0.8138 - val_loss: 0.2567 - val_accuracy: 0.8875 - val_f1_score: 0.8699 - val_cohen_kappa: 0.8089\n",
      "7.939764738082886\n"
     ]
    }
   ],
   "source": [
    "#embed_dim = 5 # shape(x) = 4 # the embedding space width\n",
    "\n",
    "bilstm = Sequential()\n",
    "bilstm.add(Embedding(vocab_size+1, output_dim=embed_dim, input_length=maxlen))\n",
    "bilstm.add(Bidirectional(LSTM(64)))\n",
    "bilstm.add(Dense(64, activation='relu')) # flatten to embed_dim * maxlen (padded length) = 4* 15 = 60\n",
    "bilstm.add(Dense(num_class, activation='softmax'))\n",
    "\n",
    "# compile\n",
    "bilstm.compile(optimizer='adam' # Adam(learning_rate=0.0005) \n",
    "                  , loss='categorical_crossentropy'\n",
    "                  , metrics=['accuracy', tfa.metrics.F1Score(num_classes=num_class, average='weighted')\n",
    "                             , tfa.metrics.CohenKappa(num_classes=num_class)])\n",
    "print(vocab_size, embed_dim, maxlen)\n",
    "print(bilstm.summary())\n",
    "\n",
    "# train\n",
    "num_epoch = 15\n",
    "threshold = 0.8 # kappa threshold\n",
    "time0=time()\n",
    "history_bilstm = bilstm.fit(x_train_rnn, y_train_rnn, epochs=num_epoch\n",
    "                      # , validation_steps=15\n",
    "                       , validation_data=(x_test_rnn, y_test_rnn)\n",
    "                            , callbacks=[callbacks]\n",
    "                       )\n",
    "timediff = time()-time0\n",
    "print(timediff)"
   ]
  },
  {
   "cell_type": "markdown",
   "id": "5eb30447",
   "metadata": {},
   "source": [
    "## Metrics"
   ]
  },
  {
   "cell_type": "code",
   "execution_count": 104,
   "id": "4a43dc7f",
   "metadata": {},
   "outputs": [
    {
     "name": "stdout",
     "output_type": "stream",
     "text": [
      "5/5 [==============================] - 0s 4ms/step - loss: 0.2567 - accuracy: 0.8875 - f1_score: 0.8699 - cohen_kappa: 0.8089\n"
     ]
    },
    {
     "data": {
      "text/plain": [
       "(0.0, 1.6355395197868348)"
      ]
     },
     "execution_count": 104,
     "metadata": {},
     "output_type": "execute_result"
    },
    {
     "data": {
      "image/png": "[encoded data removed]",
      "text/plain": [
       "<Figure size 1152x576 with 3 Axes>"
      ]
     },
     "metadata": {
      "needs_background": "light"
     },
     "output_type": "display_data"
    }
   ],
   "source": [
    "test_metrics_bilstm = bilstm.evaluate(x_test_rnn, y_test_rnn)\n",
    "\n",
    "plt.figure(figsize=(16, 8))\n",
    "plt.subplot(1, 3, 1)\n",
    "plot_learning_graphs(history_bilstm, 'accuracy')\n",
    "plt.ylim(None, 1)\n",
    "plt.subplot(1, 3, 2)\n",
    "plot_learning_graphs(history_bilstm, 'cohen_kappa')\n",
    "plt.ylim(0, None)\n",
    "plt.subplot(1, 3, 3)\n",
    "plot_learning_graphs(history_bilstm, 'loss')\n",
    "plt.ylim(0, None)"
   ]
  },
  {
   "cell_type": "markdown",
   "id": "33aacc47",
   "metadata": {},
   "source": [
    "Store result"
   ]
  },
  {
   "cell_type": "code",
   "execution_count": 105,
   "id": "744449fd",
   "metadata": {},
   "outputs": [],
   "source": [
    "Model='bilstm_embeddings'\n",
    "results={'Accuracy':test_metrics_bilstm[1], 'F1':test_metrics_bilstm[2]\n",
    "         , 'Loss':test_metrics_bilstm[0], 'Kappa':test_metrics_bilstm[3]}\n",
    "storage.update({Model: {'results': results}})"
   ]
  },
  {
   "cell_type": "code",
   "execution_count": 106,
   "id": "1fdd2d7d",
   "metadata": {},
   "outputs": [
    {
     "data": {
      "text/plain": [
       "[('rf_d2v',\n",
       "  {'results': {'Accuracy': 0.4953271028037383,\n",
       "    'Precision': 0.4953271028037383,\n",
       "    'Recall': 0.4953271028037383,\n",
       "    'Kappa': 0.04306061609804568}}),\n",
       " ('rf_tfidf',\n",
       "  {'results': {'Accuracy': 0.9719626168224299,\n",
       "    'Precision': 0.9719626168224299,\n",
       "    'Recall': 0.9719626168224299,\n",
       "    'Kappa': 0.9515105740181269}}),\n",
       " ('bilstm_embeddings',\n",
       "  {'results': {'Accuracy': 0.887499988079071,\n",
       "    'F1': 0.869949460029602,\n",
       "    'Loss': 0.25669389963150024,\n",
       "    'Kappa': 0.8088791370391846}})]"
      ]
     },
     "execution_count": 106,
     "metadata": {},
     "output_type": "execute_result"
    }
   ],
   "source": [
    "list(storage.items())"
   ]
  },
  {
   "cell_type": "code",
   "execution_count": 107,
   "id": "5834f9ce",
   "metadata": {},
   "outputs": [
    {
     "name": "stdout",
     "output_type": "stream",
     "text": [
      "Confusion Matrix:\n",
      " [[ 0  3  3  0  0]\n",
      " [ 1 61  0  0  0]\n",
      " [ 2  5  4  0  0]\n",
      " [ 2  0  0  0  1]\n",
      " [ 0  1  0  0 77]] \n",
      "Classification rreport:\n",
      "               precision    recall  f1-score   support\n",
      "\n",
      "           0       0.00      0.00      0.00         6\n",
      "           1       0.87      0.98      0.92        62\n",
      "           2       0.57      0.36      0.44        11\n",
      "           3       0.00      0.00      0.00         3\n",
      "           4       0.99      0.99      0.99        78\n",
      "\n",
      "    accuracy                           0.89       160\n",
      "   macro avg       0.49      0.47      0.47       160\n",
      "weighted avg       0.86      0.89      0.87       160\n",
      "\n"
     ]
    },
    {
     "name": "stderr",
     "output_type": "stream",
     "text": [
      "C:\\Users\\erwang\\Anaconda3\\lib\\site-packages\\sklearn\\metrics\\_classification.py:1318: UndefinedMetricWarning: Precision and F-score are ill-defined and being set to 0.0 in labels with no predicted samples. Use `zero_division` parameter to control this behavior.\n",
      "  _warn_prf(average, modifier, msg_start, len(result))\n",
      "C:\\Users\\erwang\\Anaconda3\\lib\\site-packages\\sklearn\\metrics\\_classification.py:1318: UndefinedMetricWarning: Precision and F-score are ill-defined and being set to 0.0 in labels with no predicted samples. Use `zero_division` parameter to control this behavior.\n",
      "  _warn_prf(average, modifier, msg_start, len(result))\n",
      "C:\\Users\\erwang\\Anaconda3\\lib\\site-packages\\sklearn\\metrics\\_classification.py:1318: UndefinedMetricWarning: Precision and F-score are ill-defined and being set to 0.0 in labels with no predicted samples. Use `zero_division` parameter to control this behavior.\n",
      "  _warn_prf(average, modifier, msg_start, len(result))\n"
     ]
    }
   ],
   "source": [
    "classes_rnn = ['cafe','groceries', 'restaurant', 'salary','transfer']\n",
    "labels_rnn = np.argmax(y_test_rnn, axis=1)\n",
    "pred_bilstm = bilstm.predict(x_test_rnn)\n",
    "label_pred_bilstm = np.argmax(pred_bilstm, axis=1)\n",
    "\n",
    "cm_bilstm = confusion_matrix(y_true=labels_rnn, y_pred=label_pred_bilstm, labels=[0,1,2,3,4])\n",
    "report_bilstm = classification_report(labels_rnn, label_pred_bilstm, labels=[0,1,2,3,4])\n",
    "\n",
    "print('Confusion Matrix:\\n', cm_bilstm, '\\nClassification rreport:\\n', report_bilstm)"
   ]
  },
  {
   "cell_type": "code",
   "execution_count": 108,
   "id": "b5c21975",
   "metadata": {},
   "outputs": [
    {
     "name": "stdout",
     "output_type": "stream",
     "text": [
      "ROC AUC score: 0.7178053201257238\n"
     ]
    },
    {
     "data": {
      "image/png": "[encoded data removed]",
      "text/plain": [
       "<Figure size 504x432 with 1 Axes>"
      ]
     },
     "metadata": {
      "needs_background": "light"
     },
     "output_type": "display_data"
    }
   ],
   "source": [
    "# plot AUC\n",
    "fig, c_ax = plt.subplots(1,1,figsize = (7, 6))\n",
    "targetlabel = ['cafe', 'groceries','restaurant', 'salary','transfer']\n",
    "auc_bilstm = multiclass_roc_auc_score(labels_rnn, label_pred_bilstm, targetlabel)\n",
    "\n",
    "# plot\n",
    "print('ROC AUC score:', auc_bilstm)\n",
    "c_ax.legend(fontsize=14)\n",
    "c_ax.set_xlabel('False Positive Rate', fontsize=14)\n",
    "c_ax.set_ylabel('True Positive Rate', fontsize=14)\n",
    "plt.show()"
   ]
  },
  {
   "cell_type": "code",
   "execution_count": 109,
   "id": "628ad90b",
   "metadata": {},
   "outputs": [
    {
     "name": "stdout",
     "output_type": "stream",
     "text": [
      "classes in testset: [0 1 2 3 4]\n",
      "classes predicted: [0 1 2 4]\n"
     ]
    }
   ],
   "source": [
    "print('classes in testset: {}'.format(np.unique(labels_rnn)))\n",
    "print('classes predicted: {}'.format(np.unique(label_pred_bilstm)))"
   ]
  },
  {
   "cell_type": "markdown",
   "id": "91d06526",
   "metadata": {},
   "source": [
    "As we are using labelled data from Known Matching step to train the model for all 5 classes, considering the small amount of Salary transactions, we splitted the train/test sets on a 0.7:0.3 ratio to guarantee some samples in both sets. This could affect the chance that model learning this particular class. \n",
    "\n",
    "This BiLSTM model *Salary* were not learned. *Cafe* class was incorrectly learned. Model has a weak prediction power on *Restaurant* class.  Other 2 classes were well learned. Recall of *Transfer* was satisfactory."
   ]
  },
  {
   "cell_type": "code",
   "execution_count": 110,
   "id": "2669efd9",
   "metadata": {},
   "outputs": [],
   "source": [
    "# save result\n",
    "json.dump(storage, open('result/storage.json', 'w'))"
   ]
  },
  {
   "cell_type": "code",
   "execution_count": 111,
   "id": "17ce855a",
   "metadata": {},
   "outputs": [
    {
     "name": "stderr",
     "output_type": "stream",
     "text": [
      "WARNING:absl:Found untraced functions such as lstm_cell_1_layer_call_fn, lstm_cell_1_layer_call_and_return_conditional_losses, lstm_cell_2_layer_call_fn, lstm_cell_2_layer_call_and_return_conditional_losses, lstm_cell_1_layer_call_fn while saving (showing 5 of 10). These functions will not be directly callable after loading.\n"
     ]
    },
    {
     "name": "stdout",
     "output_type": "stream",
     "text": [
      "INFO:tensorflow:Assets written to: model/bilstm\\assets\n"
     ]
    },
    {
     "name": "stderr",
     "output_type": "stream",
     "text": [
      "INFO:tensorflow:Assets written to: model/bilstm\\assets\n",
      "WARNING:absl:<keras.layers.recurrent.LSTMCell object at 0x000002700A25B5B0> has the same name 'LSTMCell' as a built-in Keras object. Consider renaming <class 'keras.layers.recurrent.LSTMCell'> to avoid naming conflicts when loading with `tf.keras.models.load_model`. If renaming is not possible, pass the object in the `custom_objects` parameter of the load function.\n",
      "WARNING:absl:<keras.layers.recurrent.LSTMCell object at 0x000002700D821040> has the same name 'LSTMCell' as a built-in Keras object. Consider renaming <class 'keras.layers.recurrent.LSTMCell'> to avoid naming conflicts when loading with `tf.keras.models.load_model`. If renaming is not possible, pass the object in the `custom_objects` parameter of the load function.\n"
     ]
    }
   ],
   "source": [
    "# save model\n",
    "# save whole model (config + weights)\n",
    "bilstm.save('model/bilstm')\n",
    "# save weight-only\n",
    "bilstm.save('model/bilstm.h5')"
   ]
  },
  {
   "cell_type": "markdown",
   "id": "6ce6502f",
   "metadata": {},
   "source": [
    "# Encoder model on sequences\n",
    "\n",
    "Transformer (Vaswani et al. 2017) Encoder to process input word embeddings in parallel\n",
    "\n",
    "![transformer_encoder](https://github.com/ericwanga/categorise-bank-transaction/blob/main/img/TEncoder.jpg?raw=true)\n",
    "\n",
    "> Vaswani, A, Shazeer, N, Parmar, N, Uszkoreit, J, Jones, L, Gomez, AN, . . . \t\tPolosukhin, I 2017, 'Attention is all you need', Advances in neural information \tprocessing systems, vol. 30."
   ]
  },
  {
   "cell_type": "code",
   "execution_count": 112,
   "id": "bb29e329",
   "metadata": {},
   "outputs": [],
   "source": [
    "# prep data\n",
    "df_TEncoder = df_.loc[df_['myLabel'].notna(), ['clean_text','TransactionAmount', 'myLabel']].reset_index(drop=True)\n",
    "df_TEncoder['clean_text'] = df_TEncoder['clean_text'].apply(lambda x: util_preprocess_to_sentence(x\n",
    "                                                          , rm_stopwords=True\n",
    "                                                           , stem=False\n",
    "                                                           , lemm=False))\n",
    "\n",
    "# fit tokenizer with new dataframe\n",
    "tokenizer.fit_on_texts(df_TEncoder['clean_text'])"
   ]
  },
  {
   "cell_type": "code",
   "execution_count": 114,
   "id": "32cb83fc",
   "metadata": {},
   "outputs": [
    {
     "name": "stdout",
     "output_type": "stream",
     "text": [
      "(531, 15)\n"
     ]
    },
    {
     "data": {
      "image/png": "[encoded data removed]",
      "text/plain": [
       "<Figure size 432x288 with 1 Axes>"
      ]
     },
     "metadata": {
      "needs_background": "light"
     },
     "output_type": "display_data"
    },
    {
     "name": "stdout",
     "output_type": "stream",
     "text": [
      "vocab_size: 400\n",
      "maxlen: 15\n",
      "Embedding dim: 6\n",
      "\n",
      "x_train shape: (424, 15)\ty_train shape: (424, 5)\n",
      "x_test shape: (107, 15)\ty_test shape: (107, 5)\n",
      "\n"
     ]
    }
   ],
   "source": [
    "# Set parameters\n",
    "maxlen = 15\n",
    "embed_dim = 6 # Embedding size for each token 400**0.27 \n",
    "num_class = df_TEncoder['myLabel'].nunique()\n",
    "\n",
    "# fix X\n",
    "X_seq = tokenizer.texts_to_sequences(df_TEncoder['clean_text'].values)\n",
    "X = pad_sequences(X_seq, maxlen)\n",
    "print(X.shape)\n",
    "\n",
    "# plot sequence plus padded sequence\n",
    "sns.heatmap(X==0, vmin=0, vmax=1, cbar=False)\n",
    "plt.show()\n",
    "\n",
    "# fix Y\n",
    "Y = pd.get_dummies(df_TEncoder['myLabel']).values\n",
    "print('vocab_size: {}\\nmaxlen: {}\\nEmbedding dim: {}\\n'.format(vocab_size, maxlen, embed_dim))\n",
    "\n",
    "# split\n",
    "x_train_TEncoder, x_test_TEncoder, y_train_TEncoder, y_test_TEncoder = train_test_split(X, Y, test_size = 0.2, random_state=420)\n",
    "print('x_train shape: {}\\ty_train shape: {}\\nx_test shape: {}\\ty_test shape: {}\\n'.format(\n",
    "    x_train_TEncoder.shape, y_train_TEncoder.shape, x_test_TEncoder.shape, y_test_TEncoder.shape))"
   ]
  },
  {
   "cell_type": "markdown",
   "id": "373b8294",
   "metadata": {},
   "source": [
    "For this model we pad sequences to length of 15. Embedding dimension of 6 can be retrieved from Rule of Thum embedding_dimension = num_of_categories \\*\\* 0.25 (~0.27). We split on 0.8:0.2 ratio to give slightly more chance for model to learn the minority class especialy *salary*. "
   ]
  },
  {
   "cell_type": "markdown",
   "id": "5b6d8af4",
   "metadata": {},
   "source": [
    "## Encoder model"
   ]
  },
  {
   "cell_type": "code",
   "execution_count": 115,
   "id": "51f424eb",
   "metadata": {},
   "outputs": [
    {
     "name": "stdout",
     "output_type": "stream",
     "text": [
      "401 6 15\n",
      "Model: \"model\"\n",
      "__________________________________________________________________________________________________\n",
      " Layer (type)                   Output Shape         Param #     Connected to                     \n",
      "==================================================================================================\n",
      " input_1 (InputLayer)           [(None, 15)]         0           []                               \n",
      "                                                                                                  \n",
      " token_and_position_embedding (  (None, 15, 6)       2496        ['input_1[0][0]']                \n",
      " TokenAndPositionEmbedding)                                                                       \n",
      "                                                                                                  \n",
      " transformer_block (Transformer  (None, 15, 6)       2024        ['token_and_position_embedding[0]\n",
      " Block)                                                          [0]',                            \n",
      "                                                                  'transformer_block[0][0]']      \n",
      "                                                                                                  \n",
      " global_average_pooling1d (Glob  (None, 6)           0           ['transformer_block[1][0]']      \n",
      " alAveragePooling1D)                                                                              \n",
      "                                                                                                  \n",
      " dense_4 (Dense)                (None, 80)           560         ['global_average_pooling1d[0][0]'\n",
      "                                                                 ]                                \n",
      "                                                                                                  \n",
      " dense_5 (Dense)                (None, 5)            405         ['dense_4[0][0]']                \n",
      "                                                                                                  \n",
      "==================================================================================================\n",
      "Total params: 5,485\n",
      "Trainable params: 5,485\n",
      "Non-trainable params: 0\n",
      "__________________________________________________________________________________________________\n",
      "None\n",
      "Epoch 1/10\n",
      "14/14 [==============================] - 3s 58ms/step - loss: 1.5876 - accuracy: 0.3208 - f1_score: 0.3627 - cohen_kappa: 0.0995 - val_loss: 1.4608 - val_accuracy: 0.4206 - val_f1_score: 0.3196 - val_cohen_kappa: 0.0940\n",
      "Epoch 2/10\n",
      "14/14 [==============================] - 0s 12ms/step - loss: 1.3056 - accuracy: 0.6887 - f1_score: 0.6418 - cohen_kappa: 0.4590 - val_loss: 1.0797 - val_accuracy: 0.8224 - val_f1_score: 0.7824 - val_cohen_kappa: 0.6833\n",
      "Epoch 3/10\n",
      "14/14 [==============================] - 0s 10ms/step - loss: 0.9411 - accuracy: 0.8396 - f1_score: 0.7845 - cohen_kappa: 0.7174 - val_loss: 0.7036 - val_accuracy: 0.8879 - val_f1_score: 0.8367 - val_cohen_kappa: 0.7932\n",
      "Epoch 4/10\n",
      "14/14 [==============================] - 0s 10ms/step - loss: 0.6358 - accuracy: 0.8679 - f1_score: 0.8091 - cohen_kappa: 0.7662 - val_loss: 0.5108 - val_accuracy: 0.8785 - val_f1_score: 0.8303 - val_cohen_kappa: 0.7782\n",
      "Epoch 5/10\n",
      "14/14 [==============================] - 0s 9ms/step - loss: 0.4834 - accuracy: 0.8679 - f1_score: 0.8086 - cohen_kappa: 0.7660 - val_loss: 0.4065 - val_accuracy: 0.8879 - val_f1_score: 0.8367 - val_cohen_kappa: 0.7932\n",
      "Epoch 6/10\n",
      "14/14 [==============================] - 0s 10ms/step - loss: 0.4034 - accuracy: 0.8679 - f1_score: 0.8086 - cohen_kappa: 0.7660 - val_loss: 0.3588 - val_accuracy: 0.8785 - val_f1_score: 0.8276 - val_cohen_kappa: 0.7752\n",
      "Epoch 7/10\n",
      "14/14 [==============================] - 0s 10ms/step - loss: 0.3421 - accuracy: 0.8703 - f1_score: 0.8108 - cohen_kappa: 0.7701 - val_loss: 0.3271 - val_accuracy: 0.8785 - val_f1_score: 0.8284 - val_cohen_kappa: 0.7760\n",
      "Epoch 8/10\n",
      "14/14 [==============================] - 0s 9ms/step - loss: 0.3043 - accuracy: 0.8703 - f1_score: 0.8117 - cohen_kappa: 0.7705 - val_loss: 0.3040 - val_accuracy: 0.8785 - val_f1_score: 0.8276 - val_cohen_kappa: 0.7752\n",
      "Epoch 9/10\n",
      "14/14 [==============================] - 0s 14ms/step - loss: 0.2617 - accuracy: 0.8750 - f1_score: 0.8265 - cohen_kappa: 0.7815 - val_loss: 0.2971 - val_accuracy: 0.8692 - val_f1_score: 0.8419 - val_cohen_kappa: 0.7666\n",
      "Epoch 10/10\n",
      "10/14 [====================>.........] - ETA: 0s - loss: 0.2429 - accuracy: 0.9094 - f1_score: 0.8823 - cohen_kappa: 0.8502\n",
      "Reached 80.00% kappa, so stopping training!!\n",
      "14/14 [==============================] - 0s 10ms/step - loss: 0.2230 - accuracy: 0.9151 - f1_score: 0.8907 - cohen_kappa: 0.8572 - val_loss: 0.2576 - val_accuracy: 0.9065 - val_f1_score: 0.8813 - val_cohen_kappa: 0.8312\n",
      "\n",
      " 4.699791431427002\n"
     ]
    }
   ],
   "source": [
    "num_heads = 2  # Number of attention heads\n",
    "ff_dim = 128 # Hidden layer size in feed forward network inside transformer\n",
    "\n",
    "inputs = layers.Input(shape=(maxlen,))\n",
    "embedding_layer = TokenAndPositionEmbedding(maxlen, vocab_size+1, embed_dim) # embedding + positioning\n",
    "x = embedding_layer(inputs)\n",
    "transformer_block = TransformerBlock(embed_dim, num_heads, ff_dim)\n",
    "x = transformer_block(x) # block1\n",
    "x = transformer_block(x) # block2\n",
    "x = layers.GlobalAveragePooling1D()(x)\n",
    "x = layers.Dense(80, activation=\"relu\")(x) # flatten to maxlen * embed_dim size of elements, eg. 15*6=90 in this case\n",
    "outputs = layers.Dense(num_class, activation=\"softmax\")(x)\n",
    "\n",
    "TEncoder = keras.Model(inputs=inputs, outputs=outputs)\n",
    "\n",
    "# compile \n",
    "TEncoder.compile(optimizer='adam' # Adam(learning_rate =0.0009) # , decay=0.00001\n",
    "                     , loss=\"categorical_crossentropy\"\n",
    "                     , metrics=['accuracy'\n",
    "                             , tfa.metrics.F1Score(num_classes=num_class, average='weighted')\n",
    "                             , tfa.metrics.CohenKappa(num_classes=num_class)\n",
    "                            #   , METRICS\n",
    "                               ])\n",
    "print(vocab_size+1, embed_dim, maxlen)\n",
    "print(TEncoder.summary())\n",
    "\n",
    "# train\n",
    "threshold = 0.8 # kappa threshold\n",
    "num_epoch = 10\n",
    "time0=time()\n",
    "history_TEncoder = TEncoder.fit(x_train_TEncoder, y_train_TEncoder, epochs=num_epoch,\n",
    "                  #  validation_steps=15,\n",
    "                    validation_data=(x_test_TEncoder, y_test_TEncoder), callbacks=[callbacks])\n",
    "timediff = time()-time0\n",
    "print('\\n',timediff)"
   ]
  },
  {
   "cell_type": "markdown",
   "id": "9a93c468",
   "metadata": {},
   "source": [
    "## Metrics"
   ]
  },
  {
   "cell_type": "code",
   "execution_count": 116,
   "id": "1db8998e",
   "metadata": {},
   "outputs": [
    {
     "name": "stdout",
     "output_type": "stream",
     "text": [
      "4/4 [==============================] - 0s 4ms/step - loss: 0.2576 - accuracy: 0.9065 - f1_score: 0.8813 - cohen_kappa: 0.8312\n"
     ]
    },
    {
     "data": {
      "text/plain": [
       "(0.0, 1.655877098441124)"
      ]
     },
     "execution_count": 116,
     "metadata": {},
     "output_type": "execute_result"
    },
    {
     "data": {
      "image/png": "[encoded data removed]",
      "text/plain": [
       "<Figure size 1152x576 with 3 Axes>"
      ]
     },
     "metadata": {
      "needs_background": "light"
     },
     "output_type": "display_data"
    }
   ],
   "source": [
    "# evaluate\n",
    "test_metrics_TEncoder = TEncoder.evaluate(x_test_TEncoder, y_test_TEncoder)\n",
    "\n",
    "plt.figure(figsize=(16, 8))\n",
    "plt.subplot(1, 3, 1)\n",
    "plot_learning_graphs(history_TEncoder, 'accuracy')\n",
    "plt.ylim(None, 1)\n",
    "plt.subplot(1, 3, 2)\n",
    "plot_learning_graphs(history_TEncoder, 'cohen_kappa')\n",
    "plt.ylim(0, None)\n",
    "plt.subplot(1, 3, 3)\n",
    "plot_learning_graphs(history_TEncoder, 'loss')\n",
    "plt.ylim(0, None)"
   ]
  },
  {
   "cell_type": "code",
   "execution_count": 117,
   "id": "64de2cd7",
   "metadata": {},
   "outputs": [],
   "source": [
    "# store result\n",
    "Model='TEncoder'\n",
    "results_TEncoder={'Accuracy':test_metrics_TEncoder[1], 'F1':test_metrics_TEncoder[2]\n",
    "         , 'Loss':test_metrics_TEncoder[0], 'Kappa':test_metrics_TEncoder[3]}\n",
    "storage.update({Model: {'results': results_TEncoder}})"
   ]
  },
  {
   "cell_type": "code",
   "execution_count": 118,
   "id": "ce4a6bfe",
   "metadata": {},
   "outputs": [
    {
     "data": {
      "text/plain": [
       "[('rf_d2v',\n",
       "  {'results': {'Accuracy': 0.4953271028037383,\n",
       "    'Precision': 0.4953271028037383,\n",
       "    'Recall': 0.4953271028037383,\n",
       "    'Kappa': 0.04306061609804568}}),\n",
       " ('rf_tfidf',\n",
       "  {'results': {'Accuracy': 0.9719626168224299,\n",
       "    'Precision': 0.9719626168224299,\n",
       "    'Recall': 0.9719626168224299,\n",
       "    'Kappa': 0.9515105740181269}}),\n",
       " ('bilstm_embeddings',\n",
       "  {'results': {'Accuracy': 0.887499988079071,\n",
       "    'F1': 0.869949460029602,\n",
       "    'Loss': 0.25669389963150024,\n",
       "    'Kappa': 0.8088791370391846}}),\n",
       " ('TEncoder',\n",
       "  {'results': {'Accuracy': 0.9065420627593994,\n",
       "    'F1': 0.8812620639801025,\n",
       "    'Loss': 0.25756531953811646,\n",
       "    'Kappa': 0.8311770558357239}})]"
      ]
     },
     "execution_count": 118,
     "metadata": {},
     "output_type": "execute_result"
    }
   ],
   "source": [
    "list(storage.items())"
   ]
  },
  {
   "cell_type": "code",
   "execution_count": 119,
   "id": "81a12e9c",
   "metadata": {},
   "outputs": [
    {
     "name": "stdout",
     "output_type": "stream",
     "text": [
      "Confusion Matrix:\n",
      " [[ 2  2  0  0  0]\n",
      " [ 0 36  0  0  1]\n",
      " [ 1  4  1  0  1]\n",
      " [ 0  0  0  0  1]\n",
      " [ 0  0  0  0 58]] \n",
      "Classification rreport:\n",
      "               precision    recall  f1-score   support\n",
      "\n",
      "           0       0.67      0.50      0.57         4\n",
      "           1       0.86      0.97      0.91        37\n",
      "           2       1.00      0.14      0.25         7\n",
      "           3       0.00      0.00      0.00         1\n",
      "           4       0.95      1.00      0.97        58\n",
      "\n",
      "    accuracy                           0.91       107\n",
      "   macro avg       0.69      0.52      0.54       107\n",
      "weighted avg       0.90      0.91      0.88       107\n",
      "\n"
     ]
    },
    {
     "name": "stderr",
     "output_type": "stream",
     "text": [
      "C:\\Users\\erwang\\Anaconda3\\lib\\site-packages\\sklearn\\metrics\\_classification.py:1318: UndefinedMetricWarning: Precision and F-score are ill-defined and being set to 0.0 in labels with no predicted samples. Use `zero_division` parameter to control this behavior.\n",
      "  _warn_prf(average, modifier, msg_start, len(result))\n",
      "C:\\Users\\erwang\\Anaconda3\\lib\\site-packages\\sklearn\\metrics\\_classification.py:1318: UndefinedMetricWarning: Precision and F-score are ill-defined and being set to 0.0 in labels with no predicted samples. Use `zero_division` parameter to control this behavior.\n",
      "  _warn_prf(average, modifier, msg_start, len(result))\n",
      "C:\\Users\\erwang\\Anaconda3\\lib\\site-packages\\sklearn\\metrics\\_classification.py:1318: UndefinedMetricWarning: Precision and F-score are ill-defined and being set to 0.0 in labels with no predicted samples. Use `zero_division` parameter to control this behavior.\n",
      "  _warn_prf(average, modifier, msg_start, len(result))\n"
     ]
    }
   ],
   "source": [
    "classes_TEncoder = ['cafe','groceries', 'restaurant', 'salary','transfer']\n",
    "labels_TEncoder = np.argmax(y_test_TEncoder, axis=1)\n",
    "pred_TEncoder = TEncoder.predict(x_test_TEncoder)\n",
    "label_pred_TEncoder = np.argmax(pred_TEncoder, axis=1)\n",
    "\n",
    "cm_TEncoder = confusion_matrix(y_true=labels_TEncoder, y_pred=label_pred_TEncoder, labels=[0,1,2,3,4])\n",
    "report_TEncoder = classification_report(labels_TEncoder, label_pred_TEncoder, labels=[0,1,2,3,4])\n",
    "\n",
    "print('Confusion Matrix:\\n', cm_TEncoder, '\\nClassification rreport:\\n', report_TEncoder)"
   ]
  },
  {
   "cell_type": "code",
   "execution_count": 120,
   "id": "4217e6e9",
   "metadata": {},
   "outputs": [
    {
     "name": "stdout",
     "output_type": "stream",
     "text": [
      "ROC AUC score: 0.7459182602455835\n"
     ]
    },
    {
     "data": {
      "image/png": "[encoded data removed]",
      "text/plain": [
       "<Figure size 504x432 with 1 Axes>"
      ]
     },
     "metadata": {
      "needs_background": "light"
     },
     "output_type": "display_data"
    }
   ],
   "source": [
    "# plot AUC\n",
    "fig, c_ax = plt.subplots(1,1,figsize = (7, 6))\n",
    "targetlabel = ['cafe', 'groceries','restaurant', 'salary','transfer']\n",
    "auc_TEncoder = multiclass_roc_auc_score(labels_TEncoder, label_pred_TEncoder, targetlabel)\n",
    "\n",
    "\n",
    "print('ROC AUC score:', auc_TEncoder)\n",
    "c_ax.legend(fontsize=14)\n",
    "c_ax.set_xlabel('False Positive Rate', fontsize=14)\n",
    "c_ax.set_ylabel('True Positive Rate', fontsize=14)\n",
    "plt.show()"
   ]
  },
  {
   "cell_type": "markdown",
   "id": "ede69f71",
   "metadata": {},
   "source": [
    "We see improvement of predciton performance on class *cafe* from 0.49 to 0.75. *Salary* class remains unlearned. Other 2 classes were well learned. Recall of class *transfer* was satisfactory."
   ]
  },
  {
   "cell_type": "code",
   "execution_count": 121,
   "id": "80134aa6",
   "metadata": {},
   "outputs": [],
   "source": [
    "# save result\n",
    "json.dump(storage, open('result/storage.json', 'w'))"
   ]
  },
  {
   "cell_type": "code",
   "execution_count": 122,
   "id": "273b1ad5",
   "metadata": {
    "scrolled": true
   },
   "outputs": [
    {
     "name": "stderr",
     "output_type": "stream",
     "text": [
      "WARNING:absl:Found untraced functions such as embedding_1_layer_call_fn, embedding_1_layer_call_and_return_conditional_losses, embedding_2_layer_call_fn, embedding_2_layer_call_and_return_conditional_losses, multi_head_attention_layer_call_fn while saving (showing 5 of 65). These functions will not be directly callable after loading.\n"
     ]
    },
    {
     "name": "stdout",
     "output_type": "stream",
     "text": [
      "INFO:tensorflow:Assets written to: model/TEncoder\\assets\n"
     ]
    },
    {
     "name": "stderr",
     "output_type": "stream",
     "text": [
      "INFO:tensorflow:Assets written to: model/TEncoder\\assets\n"
     ]
    }
   ],
   "source": [
    "# save model\n",
    "# save whole model (config + weights)\n",
    "TEncoder.save('model/TEncoder')"
   ]
  },
  {
   "cell_type": "markdown",
   "id": "014c39c7",
   "metadata": {},
   "source": [
    "# Models summary"
   ]
  },
  {
   "cell_type": "code",
   "execution_count": 123,
   "id": "7294a7bb",
   "metadata": {},
   "outputs": [
    {
     "data": {
      "text/html": [
       "<div>\n",
       "<style scoped>\n",
       "    .dataframe tbody tr th:only-of-type {\n",
       "        vertical-align: middle;\n",
       "    }\n",
       "\n",
       "    .dataframe tbody tr th {\n",
       "        vertical-align: top;\n",
       "    }\n",
       "\n",
       "    .dataframe thead th {\n",
       "        text-align: right;\n",
       "    }\n",
       "</style>\n",
       "<table border=\"1\" class=\"dataframe\">\n",
       "  <thead>\n",
       "    <tr style=\"text-align: right;\">\n",
       "      <th></th>\n",
       "      <th>model</th>\n",
       "      <th>results</th>\n",
       "    </tr>\n",
       "  </thead>\n",
       "  <tbody>\n",
       "    <tr>\n",
       "      <th>0</th>\n",
       "      <td>rf_d2v</td>\n",
       "      <td>{'results': {'Accuracy': 0.4953271028037383, 'Precision': 0.4953271028037383, 'Recall': 0.495327...</td>\n",
       "    </tr>\n",
       "    <tr>\n",
       "      <th>1</th>\n",
       "      <td>rf_tfidf</td>\n",
       "      <td>{'results': {'Accuracy': 0.9719626168224299, 'Precision': 0.9719626168224299, 'Recall': 0.971962...</td>\n",
       "    </tr>\n",
       "    <tr>\n",
       "      <th>2</th>\n",
       "      <td>bilstm_embeddings</td>\n",
       "      <td>{'results': {'Accuracy': 0.887499988079071, 'F1': 0.869949460029602, 'Loss': 0.25669389963150024...</td>\n",
       "    </tr>\n",
       "    <tr>\n",
       "      <th>3</th>\n",
       "      <td>TEncoder</td>\n",
       "      <td>{'results': {'Accuracy': 0.9065420627593994, 'F1': 0.8812620639801025, 'Loss': 0.257565319538116...</td>\n",
       "    </tr>\n",
       "  </tbody>\n",
       "</table>\n",
       "</div>"
      ],
      "text/plain": [
       "               model  \\\n",
       "0             rf_d2v   \n",
       "1           rf_tfidf   \n",
       "2  bilstm_embeddings   \n",
       "3           TEncoder   \n",
       "\n",
       "                                                                                               results  \n",
       "0  {'results': {'Accuracy': 0.4953271028037383, 'Precision': 0.4953271028037383, 'Recall': 0.495327...  \n",
       "1  {'results': {'Accuracy': 0.9719626168224299, 'Precision': 0.9719626168224299, 'Recall': 0.971962...  \n",
       "2  {'results': {'Accuracy': 0.887499988079071, 'F1': 0.869949460029602, 'Loss': 0.25669389963150024...  \n",
       "3  {'results': {'Accuracy': 0.9065420627593994, 'F1': 0.8812620639801025, 'Loss': 0.257565319538116...  "
      ]
     },
     "execution_count": 123,
     "metadata": {},
     "output_type": "execute_result"
    }
   ],
   "source": [
    "summary = pd.DataFrame.from_dict(storage.items())\n",
    "summary.columns = ['model', 'results']\n",
    "summary"
   ]
  },
  {
   "cell_type": "code",
   "execution_count": 127,
   "id": "41ba0fc2",
   "metadata": {},
   "outputs": [
    {
     "data": {
      "text/html": [
       "<div>\n",
       "<style scoped>\n",
       "    .dataframe tbody tr th:only-of-type {\n",
       "        vertical-align: middle;\n",
       "    }\n",
       "\n",
       "    .dataframe tbody tr th {\n",
       "        vertical-align: top;\n",
       "    }\n",
       "\n",
       "    .dataframe thead th {\n",
       "        text-align: right;\n",
       "    }\n",
       "</style>\n",
       "<table border=\"1\" class=\"dataframe\">\n",
       "  <thead>\n",
       "    <tr style=\"text-align: right;\">\n",
       "      <th></th>\n",
       "      <th>model</th>\n",
       "      <th>results</th>\n",
       "      <th>accuracy</th>\n",
       "      <th>kappa</th>\n",
       "      <th>AUC_weighted</th>\n",
       "    </tr>\n",
       "  </thead>\n",
       "  <tbody>\n",
       "    <tr>\n",
       "      <th>0</th>\n",
       "      <td>rf_d2v</td>\n",
       "      <td>{'results': {'Accuracy': 0.4953271028037383, 'Precision': 0.4953271028037383, 'Recall': 0.495327...</td>\n",
       "      <td>0.495327</td>\n",
       "      <td>0.043061</td>\n",
       "      <td>0.608290</td>\n",
       "    </tr>\n",
       "    <tr>\n",
       "      <th>1</th>\n",
       "      <td>rf_tfidf</td>\n",
       "      <td>{'results': {'Accuracy': 0.9719626168224299, 'Precision': 0.9719626168224299, 'Recall': 0.971962...</td>\n",
       "      <td>0.971963</td>\n",
       "      <td>0.951511</td>\n",
       "      <td>0.997510</td>\n",
       "    </tr>\n",
       "    <tr>\n",
       "      <th>2</th>\n",
       "      <td>bilstm_embeddings</td>\n",
       "      <td>{'results': {'Accuracy': 0.887499988079071, 'F1': 0.869949460029602, 'Loss': 0.25669389963150024...</td>\n",
       "      <td>0.887500</td>\n",
       "      <td>0.808879</td>\n",
       "      <td>0.717805</td>\n",
       "    </tr>\n",
       "    <tr>\n",
       "      <th>3</th>\n",
       "      <td>TEncoder</td>\n",
       "      <td>{'results': {'Accuracy': 0.9065420627593994, 'F1': 0.8812620639801025, 'Loss': 0.257565319538116...</td>\n",
       "      <td>0.906542</td>\n",
       "      <td>0.831177</td>\n",
       "      <td>0.745918</td>\n",
       "    </tr>\n",
       "  </tbody>\n",
       "</table>\n",
       "</div>"
      ],
      "text/plain": [
       "               model  \\\n",
       "0             rf_d2v   \n",
       "1           rf_tfidf   \n",
       "2  bilstm_embeddings   \n",
       "3           TEncoder   \n",
       "\n",
       "                                                                                               results  \\\n",
       "0  {'results': {'Accuracy': 0.4953271028037383, 'Precision': 0.4953271028037383, 'Recall': 0.495327...   \n",
       "1  {'results': {'Accuracy': 0.9719626168224299, 'Precision': 0.9719626168224299, 'Recall': 0.971962...   \n",
       "2  {'results': {'Accuracy': 0.887499988079071, 'F1': 0.869949460029602, 'Loss': 0.25669389963150024...   \n",
       "3  {'results': {'Accuracy': 0.9065420627593994, 'F1': 0.8812620639801025, 'Loss': 0.257565319538116...   \n",
       "\n",
       "   accuracy     kappa  AUC_weighted  \n",
       "0  0.495327  0.043061      0.608290  \n",
       "1  0.971963  0.951511      0.997510  \n",
       "2  0.887500  0.808879      0.717805  \n",
       "3  0.906542  0.831177      0.745918  "
      ]
     },
     "execution_count": 127,
     "metadata": {},
     "output_type": "execute_result"
    }
   ],
   "source": [
    "acc_bilstm = summary.loc[0,'results']['results']['Accuracy']\n",
    "acc_rf_dev = summary.loc[1,'results']['results']['Accuracy']\n",
    "acc_rf_tfidf = summary.loc[2,'results']['results']['Accuracy']\n",
    "acc_TEncoder = summary.loc[3,'results']['results']['Accuracy']\n",
    "summary['accuracy'] = [acc_bilstm,acc_rf_dev,acc_rf_tfidf,acc_TEncoder]\n",
    "\n",
    "kappa_bilstm = summary.loc[0,'results']['results']['Kappa']\n",
    "kappa_rf_dev = summary.loc[1,'results']['results']['Kappa']\n",
    "kappa_rf_tfidf = summary.loc[2,'results']['results']['Kappa']\n",
    "kappa_TEncoder = summary.loc[3,'results']['results']['Kappa']\n",
    "summary['kappa'] = [kappa_bilstm,kappa_rf_dev,kappa_rf_tfidf,kappa_TEncoder]\n",
    "\n",
    "summary['AUC_weighted'] = [0.60829, 0.99751, auc_bilstm, auc_TEncoder]\n",
    "\n",
    "summary"
   ]
  },
  {
   "cell_type": "code",
   "execution_count": 128,
   "id": "58e0cca7",
   "metadata": {},
   "outputs": [
    {
     "data": {
      "image/png": "[encoded data removed]",
      "text/plain": [
       "<Figure size 432x288 with 1 Axes>"
      ]
     },
     "metadata": {
      "needs_background": "light"
     },
     "output_type": "display_data"
    }
   ],
   "source": [
    "ax = summary[['accuracy','kappa','AUC_weighted']].plot(kind='bar', title='4 classifiers', fontsize=12)\n",
    "ax.set_xticklabels(summary.model, rotation=0)\n",
    "plt.show()"
   ]
  },
  {
   "cell_type": "markdown",
   "id": "7211c88f",
   "metadata": {},
   "source": [
    "In terms of semi-supervised approach of levearging a classifier built on known labelled data to predict new data, our experiments of Random Forest model trained from TF-IDF matrix achieved best performance 0.97/0.95 (accuracy/cohen kappa) overall as well as across each of the 5 classes. Followed by Transformer Encoder model of 0.9/0.83. Followed by BiLSTM model with similar performance. \n",
    "\n",
    "RF model trained on document level vectors did not work well, especially the level of classification agreement across different classes is really low, denoted by kappa score. The overall weighted AUC score was supported by 2 out of 5 classes but it does not mean minority classes can be well looked after. If want to tune the model, vocabulary size of the doc2vec model can be tried, and hyperparameters of RF model can be tuned, acoompanied by learning curves or cross-validation during the tuning. \n",
    "\n",
    "Also noticed the training time cost differences between RNN BiLSTM model and Encoder model, a decrease from 7.9s down to 4.7s, thanks to the the attendion mechanism that takes the entire document as input and compute in parallel, rather than computing word by word sequentially like RNN BiLSTM operates."
   ]
  },
  {
   "attachments": {
    "image.png": {
     "image/png": "[encoded data removed]"
    }
   },
   "cell_type": "markdown",
   "id": "172f696b",
   "metadata": {},
   "source": [
    "# Vector Similarity\n",
    "\n",
    "This vector similarity-based unsupervised document (Schopf et al., 2021) classification method was proposed in 2021. Sequence of working: prepare 2 vectors to get Label vector, then for new test document, convert to document vector and calculate distance with this label vector, then put to similar Label as output.\n",
    "\n",
    "There is another similar study in this approach that mentioned enrichment (Haj-Yahia et al., 2019) along the way to get Label vector.\n",
    "\n",
    "I attemp to implement the first approach and add the enrichment step from the 2nd paper into it, just to see if this approach works and in what way the enrichment step helps improving the output performance.\n",
    "\n",
    "Keyword vector, doc vector and Label vector in the same shared vector space. Then compare the similarity between unknown document's vector with the learned label vectors.\n",
    "\n",
    "![shared_vector_space](https://github.com/ericwanga/categorise-bank-transaction/blob/main/img/vectorspace.jpg?raw=true)\n",
    "\n",
    "> Schopf, T., Braun, D., & Matthes, F. (2021). Lbl2Vec: An Embedding-based Approach for Unsupervised Document Retrieval on Predefined Topics. WEBIST,  https://www.scitepress.org/Link.aspx?doi=10.5220/0010710300003058 \n",
    "\n",
    "> Haj-Yahia, Z., Sieg, A., & Deleris, L. A. (2019). Towards unsupervised text classification leveraging experts and word embeddings. Proceedings of the 57th Annual Meeting of the Association for Computational Linguistics, https://aclanthology.org/P19-1036.pdf \n",
    "![image.png](attachment:image.png)"
   ]
  },
  {
   "cell_type": "markdown",
   "id": "6d6a4189",
   "metadata": {},
   "source": [
    "## Without enrichment"
   ]
  },
  {
   "cell_type": "code",
   "execution_count": 126,
   "id": "8150b8c4",
   "metadata": {
    "scrolled": false
   },
   "outputs": [
    {
     "name": "stdout",
     "output_type": "stream",
     "text": [
      "(886, 5)\n"
     ]
    },
    {
     "data": {
      "text/html": [
       "<div>\n",
       "<style scoped>\n",
       "    .dataframe tbody tr th:only-of-type {\n",
       "        vertical-align: middle;\n",
       "    }\n",
       "\n",
       "    .dataframe tbody tr th {\n",
       "        vertical-align: top;\n",
       "    }\n",
       "\n",
       "    .dataframe thead th {\n",
       "        text-align: right;\n",
       "    }\n",
       "</style>\n",
       "<table border=\"1\" class=\"dataframe\">\n",
       "  <thead>\n",
       "    <tr style=\"text-align: right;\">\n",
       "      <th></th>\n",
       "      <th>class_index</th>\n",
       "      <th>class_name</th>\n",
       "      <th>keywords</th>\n",
       "      <th>num_keywords</th>\n",
       "    </tr>\n",
       "  </thead>\n",
       "  <tbody>\n",
       "    <tr>\n",
       "      <th>0</th>\n",
       "      <td>0</td>\n",
       "      <td>restaurant</td>\n",
       "      <td>[restaurant, kfc, mcdonalds, sushi]</td>\n",
       "      <td>4</td>\n",
       "    </tr>\n",
       "    <tr>\n",
       "      <th>1</th>\n",
       "      <td>1</td>\n",
       "      <td>cafe</td>\n",
       "      <td>[cafe, coffee, baker, bakery, deli]</td>\n",
       "      <td>5</td>\n",
       "    </tr>\n",
       "    <tr>\n",
       "      <th>2</th>\n",
       "      <td>2</td>\n",
       "      <td>groceries</td>\n",
       "      <td>[grocer, grocery, groceries]</td>\n",
       "      <td>3</td>\n",
       "    </tr>\n",
       "    <tr>\n",
       "      <th>3</th>\n",
       "      <td>3</td>\n",
       "      <td>transfer</td>\n",
       "      <td>[transfer, deposit, withdraw, credit, savings, fee]</td>\n",
       "      <td>6</td>\n",
       "    </tr>\n",
       "  </tbody>\n",
       "</table>\n",
       "</div>"
      ],
      "text/plain": [
       "   class_index  class_name  \\\n",
       "0            0  restaurant   \n",
       "1            1        cafe   \n",
       "2            2   groceries   \n",
       "3            3    transfer   \n",
       "\n",
       "                                              keywords  num_keywords  \n",
       "0                  [restaurant, kfc, mcdonalds, sushi]             4  \n",
       "1                  [cafe, coffee, baker, bakery, deli]             5  \n",
       "2                         [grocer, grocery, groceries]             3  \n",
       "3  [transfer, deposit, withdraw, credit, savings, fee]             6  "
      ]
     },
     "execution_count": 126,
     "metadata": {},
     "output_type": "execute_result"
    }
   ],
   "source": [
    "# prep data\n",
    "df_vecsim = df_[df_['myLabel'] != 'salary'] # 4-class\n",
    "#df_vecsim = df_[df_['Label'].isna()] # 4-class\n",
    "df_vecsim = df_vecsim.reset_index(drop=True)\n",
    "print(df_vecsim.shape)\n",
    "\n",
    "keyword_labels = pd.DataFrame(np.random.randn(4,4)\n",
    "                             , columns=['class_index','class_name','keywords','num_keywords'])\n",
    "class_index = [0,1,2,3]\n",
    "class_name = ['restaurant','cafe','groceries','transfer']\n",
    "keywords = [['restaurant','kfc','mcdonalds','sushi']\n",
    "            ,['cafe','coffee','baker','bakery','deli']\n",
    "            ,['grocer','grocery','groceries'\n",
    "              #,'costco','coles','woolworths','foodland','bunnings','kmart'\n",
    "             ]\n",
    "            ,['transfer','deposit','withdraw','credit','savings','fee']\n",
    "           ]\n",
    "num_keywords = [len(l) for l in keywords]\n",
    "keyword_labels['class_index'] = class_index\n",
    "keyword_labels['class_name'] = class_name\n",
    "keyword_labels['keywords']= keywords\n",
    "keyword_labels['num_keywords'] = num_keywords\n",
    "keyword_labels"
   ]
  },
  {
   "cell_type": "markdown",
   "id": "2ce94c65",
   "metadata": {},
   "source": [
    "## With enrichment"
   ]
  },
  {
   "cell_type": "code",
   "execution_count": 129,
   "id": "876dd933",
   "metadata": {},
   "outputs": [],
   "source": [
    "# load and instantiate pretrained glove embedding 300d\n",
    "nlp = gensim_api.load(\"glove-wiki-gigaword-300\")"
   ]
  },
  {
   "cell_type": "code",
   "execution_count": 151,
   "id": "d1787d05",
   "metadata": {
    "scrolled": false
   },
   "outputs": [
    {
     "name": "stdout",
     "output_type": "stream",
     "text": [
      "(886, 5)\n",
      "Restaurant: ['sushi', 'taco', 'burger', 'mcdonalds', 'eatery', 'eateries', 'diners', 'kfc', 'restaurant', 'restaurants', 'mcdonald', 'pizza', 'fast-food']\n",
      "Cafe: ['gourmet', 'shop', 'bakery', 'bread', 'baker', 'café', 'cafe', 'store', 'shops', 'deli', 'coffee', 'bakers']\n",
      "Groceries: ['costco', 'woolworths', 'mart', 'grocery', 'coles', 'foodland', 'store', 'wal', 'pharmacy', 'kmart', 'supermarket', 'retailer', 'market', 'bunnings', 'grocer', 'supermarkets']\n",
      "Transfer: ['credit', 'pay', 'payments', 'guarantee', 'tax', 'money', 'fee', 'withdrawal', 'payment', 'bill', 'fees', 'transfer', 'savings', 'deposit']\n"
     ]
    },
    {
     "data": {
      "text/html": [
       "<div>\n",
       "<style scoped>\n",
       "    .dataframe tbody tr th:only-of-type {\n",
       "        vertical-align: middle;\n",
       "    }\n",
       "\n",
       "    .dataframe tbody tr th {\n",
       "        vertical-align: top;\n",
       "    }\n",
       "\n",
       "    .dataframe thead th {\n",
       "        text-align: right;\n",
       "    }\n",
       "</style>\n",
       "<table border=\"1\" class=\"dataframe\">\n",
       "  <thead>\n",
       "    <tr style=\"text-align: right;\">\n",
       "      <th></th>\n",
       "      <th>class_index</th>\n",
       "      <th>class_name</th>\n",
       "      <th>keywords</th>\n",
       "      <th>num_keywords</th>\n",
       "    </tr>\n",
       "  </thead>\n",
       "  <tbody>\n",
       "    <tr>\n",
       "      <th>0</th>\n",
       "      <td>0</td>\n",
       "      <td>restaurant</td>\n",
       "      <td>[sushi, taco, burger, mcdonalds, eatery, eateries, diners, kfc, restaurant, restaurants, mcdonal...</td>\n",
       "      <td>13</td>\n",
       "    </tr>\n",
       "    <tr>\n",
       "      <th>1</th>\n",
       "      <td>1</td>\n",
       "      <td>cafe</td>\n",
       "      <td>[gourmet, shop, bakery, bread, baker, café, cafe, store, shops, deli, coffee, bakers]</td>\n",
       "      <td>12</td>\n",
       "    </tr>\n",
       "    <tr>\n",
       "      <th>2</th>\n",
       "      <td>2</td>\n",
       "      <td>groceries</td>\n",
       "      <td>[costco, woolworths, mart, grocery, coles, foodland, store, wal, pharmacy, kmart, supermarket, r...</td>\n",
       "      <td>16</td>\n",
       "    </tr>\n",
       "    <tr>\n",
       "      <th>3</th>\n",
       "      <td>3</td>\n",
       "      <td>transfer</td>\n",
       "      <td>[credit, pay, payments, guarantee, tax, money, fee, withdrawal, payment, bill, fees, transfer, s...</td>\n",
       "      <td>14</td>\n",
       "    </tr>\n",
       "  </tbody>\n",
       "</table>\n",
       "</div>"
      ],
      "text/plain": [
       "   class_index  class_name  \\\n",
       "0            0  restaurant   \n",
       "1            1        cafe   \n",
       "2            2   groceries   \n",
       "3            3    transfer   \n",
       "\n",
       "                                                                                              keywords  \\\n",
       "0  [sushi, taco, burger, mcdonalds, eatery, eateries, diners, kfc, restaurant, restaurants, mcdonal...   \n",
       "1                [gourmet, shop, bakery, bread, baker, café, cafe, store, shops, deli, coffee, bakers]   \n",
       "2  [costco, woolworths, mart, grocery, coles, foodland, store, wal, pharmacy, kmart, supermarket, r...   \n",
       "3  [credit, pay, payments, guarantee, tax, money, fee, withdrawal, payment, bill, fees, transfer, s...   \n",
       "\n",
       "   num_keywords  \n",
       "0            13  \n",
       "1            12  \n",
       "2            16  \n",
       "3            14  "
      ]
     },
     "execution_count": 151,
     "metadata": {},
     "output_type": "execute_result"
    }
   ],
   "source": [
    "# save as\n",
    "df_vecsim = df_[df_['myLabel'] != 'salary'] # 4-class\n",
    "#df_vecsim = df_[df_['Label'].isna()] # 4-class\n",
    "df_vecsim = df_vecsim.reset_index(drop=True)\n",
    "print(df_vecsim.shape)\n",
    "df_vecsim.tail()\n",
    "\n",
    "## Create Dictionary {category:[keywords]}\n",
    "dic_clusters = {}\n",
    "\n",
    "# restaurant 13\n",
    "dic_clusters[\"Restaurant\"] = get_similar_words(['restaurant','kfc','mcdonalds','sushi'], top=10, nlp=nlp)\n",
    "item = ['cafe','starbucks','grocery']\n",
    "remove_values_from_list(dic_clusters[\"Restaurant\"], item)\n",
    "\n",
    "# cafe 12\n",
    "dic_clusters[\"Cafe\"] = get_similar_words(['cafe','coffee','baker','bakery','bakers'], top=10, nlp=nlp)\n",
    "item = ['restaurant','restaurants','grocery','supermarket']\n",
    "remove_values_from_list(dic_clusters[\"Cafe\"], item)\n",
    "\n",
    "# groceries 16\n",
    "dic_clusters[\"Groceries\"] = get_similar_words(['supermarket','market','mart','grocer','grocery','coles','woolworths'\n",
    "                                               ,'foodland','bunnings','pharmacy','costco','kmart'], top=5, nlp=nlp)\n",
    "item = ['stores','shops']\n",
    "remove_values_from_list(dic_clusters['Groceries'], item)\n",
    "\n",
    "# transfer 14\n",
    "dic_clusters['Transfer'] = get_similar_words(['deposit','withdrawal','credit','savings','bill','transfer','fee'], top=8, nlp=nlp)\n",
    "item = ['loan']\n",
    "remove_values_from_list(dic_clusters['Transfer'], item)\n",
    "\n",
    "keyword_labels = pd.DataFrame(np.random.randn(4,4), columns=['class_index','class_name','keywords','num_keywords'])\n",
    "class_index = [0,1,2,3]\n",
    "class_name = ['restaurant','cafe','groceries','transfer']\n",
    "keywords = []\n",
    "for k,v in dic_clusters.items():\n",
    "    keywords.append(dic_clusters[k])\n",
    "    print('{}: {}'.format(k,v))\n",
    "\n",
    "num_keywords = [len(l) for l in keywords]\n",
    "keyword_labels['class_index'] = class_index\n",
    "keyword_labels['class_name'] = class_name\n",
    "keyword_labels['keywords']= keywords\n",
    "keyword_labels['num_keywords'] = num_keywords\n",
    "#keyword_labels['class_index'] = keyword_labels.index\n",
    "keyword_labels"
   ]
  },
  {
   "cell_type": "markdown",
   "id": "44f79335",
   "metadata": {},
   "source": [
    "## Lbl2vec model\n",
    "\n",
    "Filter dataset to only documents that belong to classes where we defined our keywords"
   ]
  },
  {
   "cell_type": "code",
   "execution_count": 152,
   "id": "832769a2",
   "metadata": {
    "scrolled": false
   },
   "outputs": [
    {
     "name": "stdout",
     "output_type": "stream",
     "text": [
      "(886, 5)\n",
      "(524, 5)\n",
      "Train size: 472\n",
      "(524, 12)\n",
      "train    472\n",
      "test      52\n",
      "Name: data_set_type, dtype: int64\n"
     ]
    },
    {
     "data": {
      "text/html": [
       "<div>\n",
       "<style scoped>\n",
       "    .dataframe tbody tr th:only-of-type {\n",
       "        vertical-align: middle;\n",
       "    }\n",
       "\n",
       "    .dataframe tbody tr th {\n",
       "        vertical-align: top;\n",
       "    }\n",
       "\n",
       "    .dataframe thead th {\n",
       "        text-align: right;\n",
       "    }\n",
       "</style>\n",
       "<table border=\"1\" class=\"dataframe\">\n",
       "  <thead>\n",
       "    <tr style=\"text-align: right;\">\n",
       "      <th></th>\n",
       "      <th>AccountId</th>\n",
       "      <th>TransactionDescription</th>\n",
       "      <th>TransactionAmount</th>\n",
       "      <th>myLabel</th>\n",
       "      <th>clean_text</th>\n",
       "      <th>data_set_type</th>\n",
       "      <th>tagged_docs</th>\n",
       "      <th>doc_key</th>\n",
       "      <th>class_index</th>\n",
       "      <th>class_name</th>\n",
       "      <th>keywords</th>\n",
       "      <th>num_keywords</th>\n",
       "    </tr>\n",
       "  </thead>\n",
       "  <tbody>\n",
       "    <tr>\n",
       "      <th>0</th>\n",
       "      <td>773edf8c-e78f-11ec-bd51-1a25830e1bc2</td>\n",
       "      <td>visa purchase - receipt 164427 sfs nrah sushi sushi adelaide date 29/09/21 card 8322</td>\n",
       "      <td>-6.50</td>\n",
       "      <td>restaurant</td>\n",
       "      <td>visa purchase sfs nrah sushi sushi adelaide Wednesday September 29</td>\n",
       "      <td>train</td>\n",
       "      <td>([visa, purchase, sfs, nrah, sushi, sushi, adelaide, wednesday, september], [0])</td>\n",
       "      <td>0</td>\n",
       "      <td>0</td>\n",
       "      <td>restaurant</td>\n",
       "      <td>[sushi, taco, burger, mcdonalds, eatery, eateries, diners, kfc, restaurant, restaurants, mcdonal...</td>\n",
       "      <td>13</td>\n",
       "    </tr>\n",
       "    <tr>\n",
       "      <th>1</th>\n",
       "      <td>773edf8c-e78f-11ec-bd51-1a25830e1bc2</td>\n",
       "      <td>visa purchase - receipt 164428 viet hoa restaurant woodville ga date 29/09/21 card 3689</td>\n",
       "      <td>-46.00</td>\n",
       "      <td>restaurant</td>\n",
       "      <td>visa purchase viet hoa restaurant woodville ga Wednesday September 29</td>\n",
       "      <td>train</td>\n",
       "      <td>([visa, purchase, viet, hoa, restaurant, woodville, ga, wednesday, september], [1])</td>\n",
       "      <td>1</td>\n",
       "      <td>0</td>\n",
       "      <td>restaurant</td>\n",
       "      <td>[sushi, taco, burger, mcdonalds, eatery, eateries, diners, kfc, restaurant, restaurants, mcdonal...</td>\n",
       "      <td>13</td>\n",
       "    </tr>\n",
       "    <tr>\n",
       "      <th>2</th>\n",
       "      <td>773edf8c-e78f-11ec-bd51-1a25830e1bc2</td>\n",
       "      <td>visa purchase - receipt 164429 costco wholesale aus kilburn date 29/09/21 card 3689</td>\n",
       "      <td>-875.88</td>\n",
       "      <td>groceries</td>\n",
       "      <td>visa purchase costco wholesale aus kilburn Wednesday September 29</td>\n",
       "      <td>train</td>\n",
       "      <td>([visa, purchase, costco, wholesale, aus, kilburn, wednesday, september], [2])</td>\n",
       "      <td>2</td>\n",
       "      <td>2</td>\n",
       "      <td>groceries</td>\n",
       "      <td>[costco, woolworths, mart, grocery, coles, foodland, store, wal, pharmacy, kmart, supermarket, r...</td>\n",
       "      <td>16</td>\n",
       "    </tr>\n",
       "    <tr>\n",
       "      <th>3</th>\n",
       "      <td>773edf8c-e78f-11ec-bd51-1a25830e1bc2</td>\n",
       "      <td>visa purchase - receipt 164430 frewville cafe baker frewville date 29/09/21 card 3689</td>\n",
       "      <td>-16.00</td>\n",
       "      <td>cafe</td>\n",
       "      <td>visa purchase frewville cafe baker frewville Wednesday September 29</td>\n",
       "      <td>train</td>\n",
       "      <td>([visa, purchase, frewville, cafe, baker, frewville, wednesday, september], [3])</td>\n",
       "      <td>3</td>\n",
       "      <td>1</td>\n",
       "      <td>cafe</td>\n",
       "      <td>[gourmet, shop, bakery, bread, baker, café, cafe, store, shops, deli, coffee, bakers]</td>\n",
       "      <td>12</td>\n",
       "    </tr>\n",
       "    <tr>\n",
       "      <th>4</th>\n",
       "      <td>773edf8c-e78f-11ec-bd51-1a25830e1bc2</td>\n",
       "      <td>visa purchase - receipt 164432 target 5024 newton date 30/09/21 card 8322</td>\n",
       "      <td>-5.00</td>\n",
       "      <td>groceries</td>\n",
       "      <td>visa purchase target newton Thursday September 30</td>\n",
       "      <td>train</td>\n",
       "      <td>([visa, purchase, target, newton, thursday, september], [4])</td>\n",
       "      <td>4</td>\n",
       "      <td>2</td>\n",
       "      <td>groceries</td>\n",
       "      <td>[costco, woolworths, mart, grocery, coles, foodland, store, wal, pharmacy, kmart, supermarket, r...</td>\n",
       "      <td>16</td>\n",
       "    </tr>\n",
       "  </tbody>\n",
       "</table>\n",
       "</div>"
      ],
      "text/plain": [
       "                              AccountId  \\\n",
       "0  773edf8c-e78f-11ec-bd51-1a25830e1bc2   \n",
       "1  773edf8c-e78f-11ec-bd51-1a25830e1bc2   \n",
       "2  773edf8c-e78f-11ec-bd51-1a25830e1bc2   \n",
       "3  773edf8c-e78f-11ec-bd51-1a25830e1bc2   \n",
       "4  773edf8c-e78f-11ec-bd51-1a25830e1bc2   \n",
       "\n",
       "                                                                    TransactionDescription  \\\n",
       "0     visa purchase - receipt 164427 sfs nrah sushi sushi adelaide date 29/09/21 card 8322   \n",
       "1  visa purchase - receipt 164428 viet hoa restaurant woodville ga date 29/09/21 card 3689   \n",
       "2      visa purchase - receipt 164429 costco wholesale aus kilburn date 29/09/21 card 3689   \n",
       "3    visa purchase - receipt 164430 frewville cafe baker frewville date 29/09/21 card 3689   \n",
       "4                visa purchase - receipt 164432 target 5024 newton date 30/09/21 card 8322   \n",
       "\n",
       "   TransactionAmount     myLabel  \\\n",
       "0              -6.50  restaurant   \n",
       "1             -46.00  restaurant   \n",
       "2            -875.88   groceries   \n",
       "3             -16.00        cafe   \n",
       "4              -5.00   groceries   \n",
       "\n",
       "                                                              clean_text  \\\n",
       "0     visa purchase sfs nrah sushi sushi adelaide Wednesday September 29   \n",
       "1  visa purchase viet hoa restaurant woodville ga Wednesday September 29   \n",
       "2      visa purchase costco wholesale aus kilburn Wednesday September 29   \n",
       "3    visa purchase frewville cafe baker frewville Wednesday September 29   \n",
       "4                      visa purchase target newton Thursday September 30   \n",
       "\n",
       "  data_set_type  \\\n",
       "0         train   \n",
       "1         train   \n",
       "2         train   \n",
       "3         train   \n",
       "4         train   \n",
       "\n",
       "                                                                           tagged_docs  \\\n",
       "0     ([visa, purchase, sfs, nrah, sushi, sushi, adelaide, wednesday, september], [0])   \n",
       "1  ([visa, purchase, viet, hoa, restaurant, woodville, ga, wednesday, september], [1])   \n",
       "2       ([visa, purchase, costco, wholesale, aus, kilburn, wednesday, september], [2])   \n",
       "3     ([visa, purchase, frewville, cafe, baker, frewville, wednesday, september], [3])   \n",
       "4                         ([visa, purchase, target, newton, thursday, september], [4])   \n",
       "\n",
       "  doc_key  class_index  class_name  \\\n",
       "0       0            0  restaurant   \n",
       "1       1            0  restaurant   \n",
       "2       2            2   groceries   \n",
       "3       3            1        cafe   \n",
       "4       4            2   groceries   \n",
       "\n",
       "                                                                                              keywords  \\\n",
       "0  [sushi, taco, burger, mcdonalds, eatery, eateries, diners, kfc, restaurant, restaurants, mcdonal...   \n",
       "1  [sushi, taco, burger, mcdonalds, eatery, eateries, diners, kfc, restaurant, restaurants, mcdonal...   \n",
       "2  [costco, woolworths, mart, grocery, coles, foodland, store, wal, pharmacy, kmart, supermarket, r...   \n",
       "3                [gourmet, shop, bakery, bread, baker, café, cafe, store, shops, deli, coffee, bakers]   \n",
       "4  [costco, woolworths, mart, grocery, coles, foodland, store, wal, pharmacy, kmart, supermarket, r...   \n",
       "\n",
       "   num_keywords  \n",
       "0            13  \n",
       "1            13  \n",
       "2            16  \n",
       "3            12  \n",
       "4            16  "
      ]
     },
     "execution_count": 152,
     "metadata": {},
     "output_type": "execute_result"
    }
   ],
   "source": [
    "# # map self-defined labels to doc\n",
    "# df_vecsim['class_index'] = 999\n",
    "# idx = 0\n",
    "# for lst in keyword_label['keywords']:\n",
    "#     df_vecsim.loc[df_vecsim['clean_text'].str.contains('|'.join(lst)), 'class_index'] = idx\n",
    "#     idx += 1    \n",
    "\n",
    "# df_vecsim.head()\n",
    "print('input dataset shape: {}'.format(df_vecsim.shape))\n",
    "df_vecsim = df_vecsim[df_vecsim['myLabel'].isin(list(keyword_labels['class_name']))]\n",
    "df_vecsim = df_vecsim.reset_index(drop=True)\n",
    "# mapping = dict(keyword_labels[['class_name','class_index']].values)\n",
    "# df_vecsim['class_index'] = df_vecsim['myLabel'].map(mapping)\n",
    "# df_vecsim = df_vecsim.reset_index(drop=True)\n",
    "# #df_vecsim.head()\n",
    "\n",
    "# Split to train and test sets\n",
    "print('after matching with defined keywords: {}'.format(df_vecsim.shape))\n",
    "train_size = round(df_vecsim.shape[0] * 0.9)\n",
    "df_vecsim['data_set_type'] = 'train'\n",
    "df_vecsim.loc[train_size:, 'data_set_type'] = 'test'\n",
    "\n",
    "print('Train size: {}'.format(train_size))\n",
    "\n",
    "# # extract the records that we are sure about their labels\n",
    "# df_vecsim = df_vecsim[df_vecsim['class_index'].isin(keyword_label['class_index'])]\n",
    "# df_vecsim = df_vecsim.reset_index(drop=True)\n",
    "# df_vecsim.shape\n",
    "\n",
    "# tokenize and tag records' descriptions\n",
    "df_vecsim['tagged_docs'] = df_vecsim.apply(lambda row: doc2vec.TaggedDocument(tokenize(row['clean_text']), [str(row.name)]), axis=1)\n",
    "\n",
    "# add doc key column\n",
    "df_vecsim['doc_key'] = df_vecsim.index.astype(str)\n",
    "\n",
    "# add class name column\n",
    "df_vecsim = df_vecsim.merge(keyword_labels, left_on='myLabel', right_on='class_name',how='left')\n",
    "\n",
    "print(df_vecsim.shape)\n",
    "print(df_vecsim.data_set_type.value_counts())\n",
    "df_vecsim.head()"
   ]
  },
  {
   "cell_type": "code",
   "execution_count": 141,
   "id": "9659e66d",
   "metadata": {},
   "outputs": [
    {
     "name": "stderr",
     "output_type": "stream",
     "text": [
      "2022-06-22 15:02:55,459 - Lbl2Vec - INFO - Train document and word embeddings\n",
      "INFO:Lbl2Vec:Train document and word embeddings\n",
      "2022-06-22 15:02:56,211 - Lbl2Vec - INFO - Train label embeddings\n",
      "INFO:Lbl2Vec:Train label embeddings\n",
      "2022-06-22 15:02:56,212 - Lbl2Vec - WARNING - The following keywords from the 'keywords_list' are unknown to the Doc2Vec model and therefore not used to train the model: taco restaurants burger hamburgers eatery diners hungry mcdonald pizza fast-food\n",
      "WARNING:Lbl2Vec:The following keywords from the 'keywords_list' are unknown to the Doc2Vec model and therefore not used to train the model: taco restaurants burger hamburgers eatery diners hungry mcdonald pizza fast-food\n",
      "2022-06-22 15:02:56,220 - Lbl2Vec - WARNING - The following keywords from the 'keywords_list' are unknown to the Doc2Vec model and therefore not used to train the model: bakery store eatery café starbucks supermarket deli pizza\n",
      "WARNING:Lbl2Vec:The following keywords from the 'keywords_list' are unknown to the Doc2Vec model and therefore not used to train the model: bakery store eatery café starbucks supermarket deli pizza\n",
      "2022-06-22 15:02:56,224 - Lbl2Vec - WARNING - The following keywords from the 'keywords_list' are unknown to the Doc2Vec model and therefore not used to train the model: walmart supermarket walgreens grocery safeway pharmacy retailer asda tesco supermarkets\n",
      "WARNING:Lbl2Vec:The following keywords from the 'keywords_list' are unknown to the Doc2Vec model and therefore not used to train the model: walmart supermarket walgreens grocery safeway pharmacy retailer asda tesco supermarkets\n",
      "2022-06-22 15:02:56,227 - Lbl2Vec - WARNING - The following keywords from the 'keywords_list' are unknown to the Doc2Vec model and therefore not used to train the model: credit payments guarantee tax money loan fees\n",
      "WARNING:Lbl2Vec:The following keywords from the 'keywords_list' are unknown to the Doc2Vec model and therefore not used to train the model: credit payments guarantee tax money loan fees\n"
     ]
    }
   ],
   "source": [
    "# in order to get optimal Lbl2Vec results the given Doc2Vec model \n",
    "# should be trained with the parameters “dbow_words=1” and “dm=0”\n",
    "# but if training the model from scratch, can comment out the parameter \"doc2vec_model\" \n",
    "# that points to this pretrained model when init model\n",
    "doc2vec_model = doc2vec.Doc2Vec(documents=df_vecsim['tagged_docs'][df_vecsim['data_set_type']=='train']\n",
    "                                , dbow_words=1\n",
    "                                , dm=1)\n",
    "\n",
    "# init model with parameters\n",
    "Lbl2Vec_model = Lbl2Vec(keywords_list=list(keyword_labels.keywords)\n",
    "                      #  , doc2vec_model=doc2vec_model # use pretrained d2v model\n",
    "                        , tagged_documents=df_vecsim['tagged_docs'][df_vecsim['data_set_type'] == 'train'] # train d2v from scratch\n",
    "                        , label_names=list(keyword_labels.class_name)\n",
    "                        , similarity_threshold=0.4\n",
    "                        , min_count = 2\n",
    "                       # , min_num_docs=15\n",
    "                        , epochs=20)\n",
    "\n",
    "# train model\n",
    "# will create the jointly embedded label, word, document vectors\n",
    "Lbl2Vec_model.fit()"
   ]
  },
  {
   "cell_type": "code",
   "execution_count": 142,
   "id": "ab823865",
   "metadata": {},
   "outputs": [
    {
     "name": "stderr",
     "output_type": "stream",
     "text": [
      "2022-06-22 15:02:57,697 - Lbl2Vec - INFO - Get document embeddings from model\n",
      "INFO:Lbl2Vec:Get document embeddings from model\n",
      "2022-06-22 15:02:57,711 - Lbl2Vec - INFO - Calculate document<->label similarities\n",
      "INFO:Lbl2Vec:Calculate document<->label similarities\n"
     ]
    },
    {
     "data": {
      "text/html": [
       "<div>\n",
       "<style scoped>\n",
       "    .dataframe tbody tr th:only-of-type {\n",
       "        vertical-align: middle;\n",
       "    }\n",
       "\n",
       "    .dataframe tbody tr th {\n",
       "        vertical-align: top;\n",
       "    }\n",
       "\n",
       "    .dataframe thead th {\n",
       "        text-align: right;\n",
       "    }\n",
       "</style>\n",
       "<table border=\"1\" class=\"dataframe\">\n",
       "  <thead>\n",
       "    <tr style=\"text-align: right;\">\n",
       "      <th></th>\n",
       "      <th>doc_key</th>\n",
       "      <th>most_similar_label</th>\n",
       "      <th>highest_similarity_score</th>\n",
       "      <th>restaurant</th>\n",
       "      <th>cafe</th>\n",
       "      <th>groceries</th>\n",
       "      <th>transfer</th>\n",
       "    </tr>\n",
       "  </thead>\n",
       "  <tbody>\n",
       "    <tr>\n",
       "      <th>0</th>\n",
       "      <td>0</td>\n",
       "      <td>cafe</td>\n",
       "      <td>0.091141</td>\n",
       "      <td>-0.000285</td>\n",
       "      <td>0.091141</td>\n",
       "      <td>-0.001166</td>\n",
       "      <td>-0.066907</td>\n",
       "    </tr>\n",
       "    <tr>\n",
       "      <th>1</th>\n",
       "      <td>1</td>\n",
       "      <td>transfer</td>\n",
       "      <td>0.008675</td>\n",
       "      <td>-0.108462</td>\n",
       "      <td>-0.061868</td>\n",
       "      <td>-0.067489</td>\n",
       "      <td>0.008675</td>\n",
       "    </tr>\n",
       "    <tr>\n",
       "      <th>2</th>\n",
       "      <td>2</td>\n",
       "      <td>groceries</td>\n",
       "      <td>0.067439</td>\n",
       "      <td>0.066034</td>\n",
       "      <td>0.032019</td>\n",
       "      <td>0.067439</td>\n",
       "      <td>-0.136570</td>\n",
       "    </tr>\n",
       "    <tr>\n",
       "      <th>3</th>\n",
       "      <td>3</td>\n",
       "      <td>restaurant</td>\n",
       "      <td>0.103275</td>\n",
       "      <td>0.103275</td>\n",
       "      <td>-0.019930</td>\n",
       "      <td>0.076890</td>\n",
       "      <td>-0.002294</td>\n",
       "    </tr>\n",
       "    <tr>\n",
       "      <th>4</th>\n",
       "      <td>4</td>\n",
       "      <td>cafe</td>\n",
       "      <td>0.106325</td>\n",
       "      <td>0.095938</td>\n",
       "      <td>0.106325</td>\n",
       "      <td>0.075662</td>\n",
       "      <td>-0.107308</td>\n",
       "    </tr>\n",
       "  </tbody>\n",
       "</table>\n",
       "</div>"
      ],
      "text/plain": [
       "  doc_key most_similar_label  highest_similarity_score  restaurant      cafe  \\\n",
       "0       0               cafe                  0.091141   -0.000285  0.091141   \n",
       "1       1           transfer                  0.008675   -0.108462 -0.061868   \n",
       "2       2          groceries                  0.067439    0.066034  0.032019   \n",
       "3       3         restaurant                  0.103275    0.103275 -0.019930   \n",
       "4       4               cafe                  0.106325    0.095938  0.106325   \n",
       "\n",
       "   groceries  transfer  \n",
       "0  -0.001166 -0.066907  \n",
       "1  -0.067489  0.008675  \n",
       "2   0.067439 -0.136570  \n",
       "3   0.076890 -0.002294  \n",
       "4   0.075662 -0.107308  "
      ]
     },
     "execution_count": 142,
     "metadata": {},
     "output_type": "execute_result"
    }
   ],
   "source": [
    "# predict similarity scores\n",
    "model_docs_lbl_similarities = Lbl2Vec_model.predict_model_docs()\n",
    "\n",
    "model_docs_lbl_similarities.head()"
   ]
  },
  {
   "cell_type": "code",
   "execution_count": 143,
   "id": "424351b3",
   "metadata": {
    "scrolled": false
   },
   "outputs": [
    {
     "name": "stdout",
     "output_type": "stream",
     "text": [
      "F1 score: 0.2584745762711864\n",
      "kappa score: 0.01346041300894596\n"
     ]
    }
   ],
   "source": [
    "# merge DataFrames to compare the predicted and true category labels\n",
    "# \n",
    "evaluation_train = model_docs_lbl_similarities.merge(df_vecsim[df_vecsim['data_set_type'] == 'train'], left_on='doc_key', right_on='doc_key')\n",
    "y_true_train = evaluation_train['class_name']\n",
    "y_pred_train = evaluation_train['most_similar_label']\n",
    "\n",
    "print('F1 score:',f1_score(y_true_train, y_pred_train, average='micro'))\n",
    "print('kappa score:',cohen_kappa_score(y_true_train, y_pred_train))"
   ]
  },
  {
   "cell_type": "code",
   "execution_count": 144,
   "id": "a6e8f49e",
   "metadata": {
    "scrolled": false
   },
   "outputs": [
    {
     "data": {
      "text/html": [
       "<div>\n",
       "<style scoped>\n",
       "    .dataframe tbody tr th:only-of-type {\n",
       "        vertical-align: middle;\n",
       "    }\n",
       "\n",
       "    .dataframe tbody tr th {\n",
       "        vertical-align: top;\n",
       "    }\n",
       "\n",
       "    .dataframe thead th {\n",
       "        text-align: right;\n",
       "    }\n",
       "</style>\n",
       "<table border=\"1\" class=\"dataframe\">\n",
       "  <thead>\n",
       "    <tr style=\"text-align: right;\">\n",
       "      <th></th>\n",
       "      <th>most_similar_label</th>\n",
       "      <th>class_name</th>\n",
       "      <th>clean_text</th>\n",
       "    </tr>\n",
       "  </thead>\n",
       "  <tbody>\n",
       "    <tr>\n",
       "      <th>0</th>\n",
       "      <td>cafe</td>\n",
       "      <td>restaurant</td>\n",
       "      <td>visa purchase sfs nrah sushi sushi adelaide Wednesday September 29</td>\n",
       "    </tr>\n",
       "    <tr>\n",
       "      <th>1</th>\n",
       "      <td>transfer</td>\n",
       "      <td>restaurant</td>\n",
       "      <td>visa purchase viet hoa restaurant woodville ga Wednesday September 29</td>\n",
       "    </tr>\n",
       "    <tr>\n",
       "      <th>2</th>\n",
       "      <td>groceries</td>\n",
       "      <td>groceries</td>\n",
       "      <td>visa purchase costco wholesale aus kilburn Wednesday September 29</td>\n",
       "    </tr>\n",
       "    <tr>\n",
       "      <th>3</th>\n",
       "      <td>restaurant</td>\n",
       "      <td>cafe</td>\n",
       "      <td>visa purchase frewville cafe baker frewville Wednesday September 29</td>\n",
       "    </tr>\n",
       "    <tr>\n",
       "      <th>4</th>\n",
       "      <td>cafe</td>\n",
       "      <td>groceries</td>\n",
       "      <td>visa purchase target newton Thursday September 30</td>\n",
       "    </tr>\n",
       "    <tr>\n",
       "      <th>5</th>\n",
       "      <td>transfer</td>\n",
       "      <td>transfer</td>\n",
       "      <td>intl transaction fee Friday October 1</td>\n",
       "    </tr>\n",
       "    <tr>\n",
       "      <th>6</th>\n",
       "      <td>cafe</td>\n",
       "      <td>transfer</td>\n",
       "      <td>intl transaction fee rebate Friday October 1</td>\n",
       "    </tr>\n",
       "    <tr>\n",
       "      <th>7</th>\n",
       "      <td>restaurant</td>\n",
       "      <td>transfer</td>\n",
       "      <td>internal transfer from savings maximiser Friday October 1</td>\n",
       "    </tr>\n",
       "    <tr>\n",
       "      <th>8</th>\n",
       "      <td>cafe</td>\n",
       "      <td>transfer</td>\n",
       "      <td>osko payment transfer to kye oon cheong Friday October 1</td>\n",
       "    </tr>\n",
       "    <tr>\n",
       "      <th>9</th>\n",
       "      <td>groceries</td>\n",
       "      <td>groceries</td>\n",
       "      <td>visa purchase big goodwood road cumberland p Sunday January 10</td>\n",
       "    </tr>\n",
       "  </tbody>\n",
       "</table>\n",
       "</div>"
      ],
      "text/plain": [
       "  most_similar_label  class_name  \\\n",
       "0               cafe  restaurant   \n",
       "1           transfer  restaurant   \n",
       "2          groceries   groceries   \n",
       "3         restaurant        cafe   \n",
       "4               cafe   groceries   \n",
       "5           transfer    transfer   \n",
       "6               cafe    transfer   \n",
       "7         restaurant    transfer   \n",
       "8               cafe    transfer   \n",
       "9          groceries   groceries   \n",
       "\n",
       "                                                              clean_text  \n",
       "0     visa purchase sfs nrah sushi sushi adelaide Wednesday September 29  \n",
       "1  visa purchase viet hoa restaurant woodville ga Wednesday September 29  \n",
       "2      visa purchase costco wholesale aus kilburn Wednesday September 29  \n",
       "3    visa purchase frewville cafe baker frewville Wednesday September 29  \n",
       "4                      visa purchase target newton Thursday September 30  \n",
       "5                                  intl transaction fee Friday October 1  \n",
       "6                           intl transaction fee rebate Friday October 1  \n",
       "7              internal transfer from savings maximiser Friday October 1  \n",
       "8               osko payment transfer to kye oon cheong Friday October 1  \n",
       "9         visa purchase big goodwood road cumberland p Sunday January 10  "
      ]
     },
     "execution_count": 144,
     "metadata": {},
     "output_type": "execute_result"
    }
   ],
   "source": [
    "evaluation_train.loc[:,['most_similar_label','class_name','clean_text']].head(10)"
   ]
  },
  {
   "cell_type": "code",
   "execution_count": 145,
   "id": "a90fc9aa",
   "metadata": {},
   "outputs": [
    {
     "name": "stderr",
     "output_type": "stream",
     "text": [
      "2022-06-22 15:03:13,044 - Lbl2Vec - INFO - Calculate document embeddings\n",
      "INFO:Lbl2Vec:Calculate document embeddings\n",
      "2022-06-22 15:03:13,087 - Lbl2Vec - INFO - Calculate document<->label similarities\n",
      "INFO:Lbl2Vec:Calculate document<->label similarities\n"
     ]
    },
    {
     "name": "stdout",
     "output_type": "stream",
     "text": [
      "F1 score: 0.28846153846153844\n",
      "kappa score: 0.07986609277857482\n"
     ]
    }
   ],
   "source": [
    "# predict similarity scores on test docs\n",
    "new_docs_lbl_similarities = Lbl2Vec_model.predict_new_docs(tagged_docs=df_vecsim['tagged_docs'][df_vecsim['data_set_type']=='test'])\n",
    "# merge DataFrames to compare the predicted and true topic labels\n",
    "evaluation_test = new_docs_lbl_similarities.merge(df_vecsim[df_vecsim['data_set_type']=='test'], left_on='doc_key', right_on='doc_key')\n",
    "y_true_test = evaluation_test['class_name']\n",
    "y_pred_test = evaluation_test['most_similar_label']\n",
    "print('F1 score:',f1_score(y_true_test, y_pred_test, average='micro'))\n",
    "print('kappa score:',cohen_kappa_score(y_true_test, y_pred_test))"
   ]
  },
  {
   "cell_type": "code",
   "execution_count": 146,
   "id": "dd8067db",
   "metadata": {
    "scrolled": true
   },
   "outputs": [
    {
     "data": {
      "text/html": [
       "<div>\n",
       "<style scoped>\n",
       "    .dataframe tbody tr th:only-of-type {\n",
       "        vertical-align: middle;\n",
       "    }\n",
       "\n",
       "    .dataframe tbody tr th {\n",
       "        vertical-align: top;\n",
       "    }\n",
       "\n",
       "    .dataframe thead th {\n",
       "        text-align: right;\n",
       "    }\n",
       "</style>\n",
       "<table border=\"1\" class=\"dataframe\">\n",
       "  <thead>\n",
       "    <tr style=\"text-align: right;\">\n",
       "      <th></th>\n",
       "      <th>most_similar_label</th>\n",
       "      <th>class_name</th>\n",
       "      <th>clean_text</th>\n",
       "    </tr>\n",
       "  </thead>\n",
       "  <tbody>\n",
       "    <tr>\n",
       "      <th>42</th>\n",
       "      <td>groceries</td>\n",
       "      <td>transfer</td>\n",
       "      <td>cashback oe cashback Monday March 28</td>\n",
       "    </tr>\n",
       "    <tr>\n",
       "      <th>43</th>\n",
       "      <td>cafe</td>\n",
       "      <td>groceries</td>\n",
       "      <td>eftpos purchase aldi stores kensingt kensington Tuesday March 29</td>\n",
       "    </tr>\n",
       "    <tr>\n",
       "      <th>44</th>\n",
       "      <td>groceries</td>\n",
       "      <td>groceries</td>\n",
       "      <td>visa purchase bunnings adelaide air Sunday March 27</td>\n",
       "    </tr>\n",
       "    <tr>\n",
       "      <th>45</th>\n",
       "      <td>restaurant</td>\n",
       "      <td>groceries</td>\n",
       "      <td>visa purchase coles adelaide Tuesday March 29</td>\n",
       "    </tr>\n",
       "    <tr>\n",
       "      <th>46</th>\n",
       "      <td>cafe</td>\n",
       "      <td>groceries</td>\n",
       "      <td>visa eftpos refund bunnings adelaide air Sunday March 27</td>\n",
       "    </tr>\n",
       "    <tr>\n",
       "      <th>47</th>\n",
       "      <td>groceries</td>\n",
       "      <td>groceries</td>\n",
       "      <td>visa purchase coles glenside Wednesday March 30</td>\n",
       "    </tr>\n",
       "    <tr>\n",
       "      <th>48</th>\n",
       "      <td>cafe</td>\n",
       "      <td>groceries</td>\n",
       "      <td>visa purchase frewville foodland frewville Tuesday March 29</td>\n",
       "    </tr>\n",
       "    <tr>\n",
       "      <th>49</th>\n",
       "      <td>cafe</td>\n",
       "      <td>cafe</td>\n",
       "      <td>visa purchase bakers delight burns glenside Wednesday March 30</td>\n",
       "    </tr>\n",
       "    <tr>\n",
       "      <th>50</th>\n",
       "      <td>cafe</td>\n",
       "      <td>transfer</td>\n",
       "      <td>intl transaction fee Thursday March 31</td>\n",
       "    </tr>\n",
       "    <tr>\n",
       "      <th>51</th>\n",
       "      <td>transfer</td>\n",
       "      <td>transfer</td>\n",
       "      <td>intl transaction fee rebate Thursday March 31</td>\n",
       "    </tr>\n",
       "  </tbody>\n",
       "</table>\n",
       "</div>"
      ],
      "text/plain": [
       "   most_similar_label class_name  \\\n",
       "42          groceries   transfer   \n",
       "43               cafe  groceries   \n",
       "44          groceries  groceries   \n",
       "45         restaurant  groceries   \n",
       "46               cafe  groceries   \n",
       "47          groceries  groceries   \n",
       "48               cafe  groceries   \n",
       "49               cafe       cafe   \n",
       "50               cafe   transfer   \n",
       "51           transfer   transfer   \n",
       "\n",
       "                                                          clean_text  \n",
       "42                              cashback oe cashback Monday March 28  \n",
       "43  eftpos purchase aldi stores kensingt kensington Tuesday March 29  \n",
       "44               visa purchase bunnings adelaide air Sunday March 27  \n",
       "45                     visa purchase coles adelaide Tuesday March 29  \n",
       "46          visa eftpos refund bunnings adelaide air Sunday March 27  \n",
       "47                   visa purchase coles glenside Wednesday March 30  \n",
       "48       visa purchase frewville foodland frewville Tuesday March 29  \n",
       "49    visa purchase bakers delight burns glenside Wednesday March 30  \n",
       "50                            intl transaction fee Thursday March 31  \n",
       "51                     intl transaction fee rebate Thursday March 31  "
      ]
     },
     "execution_count": 146,
     "metadata": {},
     "output_type": "execute_result"
    }
   ],
   "source": [
    "evaluation_test.loc[:,['most_similar_label','class_name','clean_text']].tail(10)"
   ]
  },
  {
   "cell_type": "code",
   "execution_count": 138,
   "id": "3f58de8b",
   "metadata": {},
   "outputs": [],
   "source": [
    "# store result\n",
    "cossim_noenrich_f1 = f1_score(y_true_test, y_pred_test, average='micro')\n",
    "cossim_noencirch_kappa = cohen_kappa_score(y_true_test, y_pred_test)\n",
    "Model='CosinceSimilarity_no_enrichment'\n",
    "results_cossim={'F1':cossim_noenrich_f1, 'Kappa':cossim_noencirch_kappa}\n",
    "storage.update({Model: {'results': results_cossim}})"
   ]
  },
  {
   "cell_type": "markdown",
   "id": "2eb16d8a",
   "metadata": {},
   "source": [
    "Run enrichment and repeat above model init and fit steps (to be refactored...)"
   ]
  },
  {
   "cell_type": "code",
   "execution_count": 147,
   "id": "a8b98e52",
   "metadata": {},
   "outputs": [],
   "source": [
    "# store result\n",
    "cossim_enrich_f1 = f1_score(y_true_test, y_pred_test, average='micro')\n",
    "cossim_encirch_kappa = cohen_kappa_score(y_true_test, y_pred_test)\n",
    "Model='CosinceSimilarity_with_enrichment'\n",
    "results_cossim={'F1':cossim_enrich_f1, 'Kappa':cossim_encirch_kappa}\n",
    "storage.update({Model: {'results': results_cossim}})"
   ]
  },
  {
   "cell_type": "code",
   "execution_count": 148,
   "id": "da6d87e5",
   "metadata": {},
   "outputs": [
    {
     "data": {
      "text/plain": [
       "[('rf_d2v',\n",
       "  {'results': {'Accuracy': 0.4953271028037383,\n",
       "    'Precision': 0.4953271028037383,\n",
       "    'Recall': 0.4953271028037383,\n",
       "    'Kappa': 0.04306061609804568}}),\n",
       " ('rf_tfidf',\n",
       "  {'results': {'Accuracy': 0.9719626168224299,\n",
       "    'Precision': 0.9719626168224299,\n",
       "    'Recall': 0.9719626168224299,\n",
       "    'Kappa': 0.9515105740181269}}),\n",
       " ('bilstm_embeddings',\n",
       "  {'results': {'Accuracy': 0.887499988079071,\n",
       "    'F1': 0.869949460029602,\n",
       "    'Loss': 0.25669389963150024,\n",
       "    'Kappa': 0.8088791370391846}}),\n",
       " ('TEncoder',\n",
       "  {'results': {'Accuracy': 0.9065420627593994,\n",
       "    'F1': 0.8812620639801025,\n",
       "    'Loss': 0.25756531953811646,\n",
       "    'Kappa': 0.8311770558357239}}),\n",
       " ('CosinceSimilarity_no_enrichment',\n",
       "  {'results': {'F1': 0.34615384615384615, 'Kappa': 0.11688311688311692}}),\n",
       " ('CosinceSimilarity_with_enrichment',\n",
       "  {'results': {'F1': 0.28846153846153844, 'Kappa': 0.07986609277857482}})]"
      ]
     },
     "execution_count": 148,
     "metadata": {},
     "output_type": "execute_result"
    }
   ],
   "source": [
    "list(storage.items())"
   ]
  },
  {
   "cell_type": "markdown",
   "id": "f6e6604b",
   "metadata": {},
   "source": [
    "Reflection\n",
    "\n",
    "Vector similarity method with and without enrichment did not perform well. In the first approach, using un-enriched keyword labels, found that there are two classes, *cafe* and *restaurant*, that have non precise enough keywords, that broke the assumption of the model that AUC is independent to the average similarity of topic keywords across classes. \n",
    "\n",
    "In the second attempt, the new keywords enriched from GloVe pretrained embeddings brought more variatey to the label keywords vector space but this approach was due to an assumption that more topic-related keywords could enrich the relationship between input and output Label. However, a correlation coeffeicient test was done by the paper author that this assumption could not be supported. Therefore adding enrichment keywords worsen the performance.\n",
    "\n",
    "Overall, vector smilarity (cosine similarity) approach can perform document-level classification but under at least 2 assumptions of keyword selection. At this stage it is not performing well but there is small tuning potential to suit our case."
   ]
  },
  {
   "cell_type": "markdown",
   "id": "164b6ae3",
   "metadata": {},
   "source": [
    "-------------------------------------------------\n",
    "End"
   ]
  }
 ],
 "metadata": {
  "kernelspec": {
   "display_name": "Python 3 (ipykernel)",
   "language": "python",
   "name": "python3"
  },
  "language_info": {
   "codemirror_mode": {
    "name": "ipython",
    "version": 3
   },
   "file_extension": ".py",
   "mimetype": "text/x-python",
   "name": "python",
   "nbconvert_exporter": "python",
   "pygments_lexer": "ipython3",
   "version": "3.8.11"
  },
  "toc": {
   "base_numbering": 1,
   "nav_menu": {},
   "number_sections": true,
   "sideBar": true,
   "skip_h1_title": false,
   "title_cell": "Table of Contents",
   "title_sidebar": "Contents",
   "toc_cell": false,
   "toc_position": {
    "height": "calc(100% - 180px)",
    "left": "10px",
    "top": "150px",
    "width": "269.097px"
   },
   "toc_section_display": true,
   "toc_window_display": true
  }
 },
 "nbformat": 4,
 "nbformat_minor": 5
}
